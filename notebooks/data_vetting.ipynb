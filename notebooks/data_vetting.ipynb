{
 "cells": [
  {
   "cell_type": "markdown",
   "id": "limited-nashville",
   "metadata": {},
   "source": [
    "# THE PANDEMIC'S WORKING PARENTS\n",
    "\n",
    "#### <u>DATA VETTING</u>\n",
    "\n",
    "#### The Project\n",
    "\n",
    "The purpose of this project is to shed light on the challenges that working parents are facing during the 2020-2021 COVID-19 pandemic. My analysis of U.S. Census Household Pulse Survey data reveals that in 2020 California’s\n",
    "job market lost the most parents with schoolchildren in the country, trailing only Nevada and\n",
    "Michigan. In 2020, California households with PreK-12 children were significantly more likely to lose employment income than parents without children. \n",
    "\n",
    "\n",
    "#### The Data\n",
    "This project uses data for weeks 1 through 25 of the pandemic from the U.S. Census Bureau Household Pulse Survey Public Use files (https://www.census.gov/programs-surveys/household-pulse-survey/datasets.html). Each week's data is published in a separate csv file. The Census also publishes weekly data dictionaries in excel format. "
   ]
  },
  {
   "cell_type": "markdown",
   "id": "typical-encyclopedia",
   "metadata": {},
   "source": [
    "## Importing tools"
   ]
  },
  {
   "cell_type": "code",
   "execution_count": 1,
   "id": "selective-sampling",
   "metadata": {},
   "outputs": [],
   "source": [
    "import pandas as pd\n",
    "import numpy as np\n",
    "import os\n",
    "\n",
    "pd.options.mode.chained_assignment = None # None|'warn'|'raise'\n",
    "pd.set_option('display.float_format', '{:.2f}'.format)\n",
    "\n",
    "class color:\n",
    "   BOLD = '\\033[1m'\n",
    "   END = '\\033[0m'"
   ]
  },
  {
   "cell_type": "markdown",
   "id": "looking-lease",
   "metadata": {},
   "source": [
    "<hr>"
   ]
  },
  {
   "cell_type": "markdown",
   "id": "diagnostic-stadium",
   "metadata": {},
   "source": [
    "## Importing the data"
   ]
  },
  {
   "cell_type": "markdown",
   "id": "democratic-whole",
   "metadata": {},
   "source": [
    "I create an empty list to store the Census Pulse Survey files I downloaded. I then create a loop which imports each file and adds it to my list. "
   ]
  },
  {
   "cell_type": "code",
   "execution_count": 2,
   "id": "scientific-teacher",
   "metadata": {},
   "outputs": [],
   "source": [
    "# creating empty list to store imported dfs\n",
    "pulse_file_lst = []\n",
    "\n",
    "# looping through, importing and adding dfs in folder to file_lst\n",
    "for file_name in os.listdir('pulse_files')[:-1]:\n",
    "    path = '/Users/carolineghisolfi/Desktop/winter_2021/dataj_pulse/pulse_files/' + file_name\n",
    "    file = pd.read_csv(path, \n",
    "                       dtype={\n",
    "                           'WEEK': int\n",
    "                       })\n",
    "    pulse_file_lst.append(file)"
   ]
  },
  {
   "cell_type": "code",
   "execution_count": 3,
   "id": "operating-invention",
   "metadata": {},
   "outputs": [
    {
     "name": "stdout",
     "output_type": "stream",
     "text": [
      "\n",
      " \u001b[1mFirst week\u001b[0m \n",
      "\n"
     ]
    },
    {
     "data": {
      "text/html": [
       "<div>\n",
       "<style scoped>\n",
       "    .dataframe tbody tr th:only-of-type {\n",
       "        vertical-align: middle;\n",
       "    }\n",
       "\n",
       "    .dataframe tbody tr th {\n",
       "        vertical-align: top;\n",
       "    }\n",
       "\n",
       "    .dataframe thead th {\n",
       "        text-align: right;\n",
       "    }\n",
       "</style>\n",
       "<table border=\"1\" class=\"dataframe\">\n",
       "  <thead>\n",
       "    <tr style=\"text-align: right;\">\n",
       "      <th></th>\n",
       "      <th>SCRAM</th>\n",
       "      <th>WEEK</th>\n",
       "      <th>EST_ST</th>\n",
       "      <th>EST_MSA</th>\n",
       "      <th>REGION</th>\n",
       "      <th>HWEIGHT</th>\n",
       "      <th>PWEIGHT</th>\n",
       "      <th>TBIRTH_YEAR</th>\n",
       "      <th>ABIRTH_YEAR</th>\n",
       "      <th>EGENDER</th>\n",
       "      <th>...</th>\n",
       "      <th>PSWHYCHG1</th>\n",
       "      <th>PSWHYCHG2</th>\n",
       "      <th>PSWHYCHG3</th>\n",
       "      <th>PSWHYCHG4</th>\n",
       "      <th>PSWHYCHG5</th>\n",
       "      <th>PSWHYCHG6</th>\n",
       "      <th>PSWHYCHG7</th>\n",
       "      <th>PSWHYCHG8</th>\n",
       "      <th>PSWHYCHG9</th>\n",
       "      <th>INCOME</th>\n",
       "    </tr>\n",
       "  </thead>\n",
       "  <tbody>\n",
       "    <tr>\n",
       "      <th>0</th>\n",
       "      <td>V220000001S10011352410113</td>\n",
       "      <td>22</td>\n",
       "      <td>1</td>\n",
       "      <td>NaN</td>\n",
       "      <td>2</td>\n",
       "      <td>1170.79</td>\n",
       "      <td>3285.40</td>\n",
       "      <td>1978</td>\n",
       "      <td>2</td>\n",
       "      <td>2</td>\n",
       "      <td>...</td>\n",
       "      <td>-88</td>\n",
       "      <td>-88</td>\n",
       "      <td>-88</td>\n",
       "      <td>-88</td>\n",
       "      <td>-88</td>\n",
       "      <td>-88</td>\n",
       "      <td>-88</td>\n",
       "      <td>-88</td>\n",
       "      <td>-88</td>\n",
       "      <td>-88</td>\n",
       "    </tr>\n",
       "    <tr>\n",
       "      <th>1</th>\n",
       "      <td>V220000001S10011554410113</td>\n",
       "      <td>22</td>\n",
       "      <td>1</td>\n",
       "      <td>NaN</td>\n",
       "      <td>2</td>\n",
       "      <td>899.97</td>\n",
       "      <td>1683.63</td>\n",
       "      <td>1947</td>\n",
       "      <td>2</td>\n",
       "      <td>2</td>\n",
       "      <td>...</td>\n",
       "      <td>-99</td>\n",
       "      <td>-99</td>\n",
       "      <td>-99</td>\n",
       "      <td>1</td>\n",
       "      <td>-99</td>\n",
       "      <td>1</td>\n",
       "      <td>-99</td>\n",
       "      <td>-99</td>\n",
       "      <td>-99</td>\n",
       "      <td>4</td>\n",
       "    </tr>\n",
       "    <tr>\n",
       "      <th>2</th>\n",
       "      <td>V220000001S15010024400123</td>\n",
       "      <td>22</td>\n",
       "      <td>1</td>\n",
       "      <td>NaN</td>\n",
       "      <td>2</td>\n",
       "      <td>2077.84</td>\n",
       "      <td>3887.14</td>\n",
       "      <td>1989</td>\n",
       "      <td>2</td>\n",
       "      <td>1</td>\n",
       "      <td>...</td>\n",
       "      <td>-88</td>\n",
       "      <td>-88</td>\n",
       "      <td>-88</td>\n",
       "      <td>-88</td>\n",
       "      <td>-88</td>\n",
       "      <td>-88</td>\n",
       "      <td>-88</td>\n",
       "      <td>-88</td>\n",
       "      <td>-88</td>\n",
       "      <td>5</td>\n",
       "    </tr>\n",
       "  </tbody>\n",
       "</table>\n",
       "<p>3 rows × 204 columns</p>\n",
       "</div>"
      ],
      "text/plain": [
       "                       SCRAM  WEEK  EST_ST  EST_MSA  REGION  HWEIGHT  PWEIGHT  \\\n",
       "0  V220000001S10011352410113    22       1      NaN       2  1170.79  3285.40   \n",
       "1  V220000001S10011554410113    22       1      NaN       2   899.97  1683.63   \n",
       "2  V220000001S15010024400123    22       1      NaN       2  2077.84  3887.14   \n",
       "\n",
       "   TBIRTH_YEAR  ABIRTH_YEAR  EGENDER  ...  PSWHYCHG1  PSWHYCHG2  PSWHYCHG3  \\\n",
       "0         1978            2        2  ...        -88        -88        -88   \n",
       "1         1947            2        2  ...        -99        -99        -99   \n",
       "2         1989            2        1  ...        -88        -88        -88   \n",
       "\n",
       "   PSWHYCHG4  PSWHYCHG5  PSWHYCHG6  PSWHYCHG7  PSWHYCHG8  PSWHYCHG9  INCOME  \n",
       "0        -88        -88        -88        -88        -88        -88     -88  \n",
       "1          1        -99          1        -99        -99        -99       4  \n",
       "2        -88        -88        -88        -88        -88        -88       5  \n",
       "\n",
       "[3 rows x 204 columns]"
      ]
     },
     "metadata": {},
     "output_type": "display_data"
    },
    {
     "name": "stdout",
     "output_type": "stream",
     "text": [
      "<class 'pandas.core.frame.DataFrame'>\n",
      "RangeIndex: 68348 entries, 0 to 68347\n",
      "Columns: 204 entries, SCRAM to INCOME\n",
      "dtypes: float64(4), int64(199), object(1)\n",
      "memory usage: 106.4+ MB\n"
     ]
    },
    {
     "data": {
      "text/plain": [
       "None"
      ]
     },
     "metadata": {},
     "output_type": "display_data"
    }
   ],
   "source": [
    "print('\\n', color.BOLD + 'First week' + color.END, '\\n')\n",
    "display(pulse_file_lst[0].head(3))\n",
    "display(pulse_file_lst[0].info())"
   ]
  },
  {
   "cell_type": "markdown",
   "id": "consistent-yellow",
   "metadata": {},
   "source": [
    "I create a master <b>pulse</b> dataframe by concatenating all the files in my list. "
   ]
  },
  {
   "cell_type": "code",
   "execution_count": 4,
   "id": "cosmetic-retrieval",
   "metadata": {},
   "outputs": [
    {
     "name": "stdout",
     "output_type": "stream",
     "text": [
      "\n",
      " \u001b[1mWeeks 1 through 25\u001b[0m \n",
      "\n"
     ]
    },
    {
     "data": {
      "text/html": [
       "<div>\n",
       "<style scoped>\n",
       "    .dataframe tbody tr th:only-of-type {\n",
       "        vertical-align: middle;\n",
       "    }\n",
       "\n",
       "    .dataframe tbody tr th {\n",
       "        vertical-align: top;\n",
       "    }\n",
       "\n",
       "    .dataframe thead th {\n",
       "        text-align: right;\n",
       "    }\n",
       "</style>\n",
       "<table border=\"1\" class=\"dataframe\">\n",
       "  <thead>\n",
       "    <tr style=\"text-align: right;\">\n",
       "      <th></th>\n",
       "      <th>SCRAM</th>\n",
       "      <th>WEEK</th>\n",
       "      <th>EST_ST</th>\n",
       "      <th>EST_MSA</th>\n",
       "      <th>REGION</th>\n",
       "      <th>HWEIGHT</th>\n",
       "      <th>PWEIGHT</th>\n",
       "      <th>TBIRTH_YEAR</th>\n",
       "      <th>ABIRTH_YEAR</th>\n",
       "      <th>EGENDER</th>\n",
       "      <th>...</th>\n",
       "      <th>SNAPMNTH4</th>\n",
       "      <th>SNAPMNTH5</th>\n",
       "      <th>SNAPMNTH6</th>\n",
       "      <th>SNAPMNTH7</th>\n",
       "      <th>SNAPMNTH8</th>\n",
       "      <th>SNAPMNTH9</th>\n",
       "      <th>SNAPMNTH10</th>\n",
       "      <th>SNAPMNTH11</th>\n",
       "      <th>SNAPMNTH12</th>\n",
       "      <th>TBEDROOMS</th>\n",
       "    </tr>\n",
       "  </thead>\n",
       "  <tbody>\n",
       "    <tr>\n",
       "      <th>0</th>\n",
       "      <td>V220000001S10011352410113</td>\n",
       "      <td>22</td>\n",
       "      <td>1</td>\n",
       "      <td>NaN</td>\n",
       "      <td>2.00</td>\n",
       "      <td>1170.79</td>\n",
       "      <td>3285.40</td>\n",
       "      <td>1978</td>\n",
       "      <td>2</td>\n",
       "      <td>2</td>\n",
       "      <td>...</td>\n",
       "      <td>NaN</td>\n",
       "      <td>NaN</td>\n",
       "      <td>NaN</td>\n",
       "      <td>NaN</td>\n",
       "      <td>NaN</td>\n",
       "      <td>NaN</td>\n",
       "      <td>NaN</td>\n",
       "      <td>NaN</td>\n",
       "      <td>NaN</td>\n",
       "      <td>NaN</td>\n",
       "    </tr>\n",
       "    <tr>\n",
       "      <th>1</th>\n",
       "      <td>V220000001S10011554410113</td>\n",
       "      <td>22</td>\n",
       "      <td>1</td>\n",
       "      <td>NaN</td>\n",
       "      <td>2.00</td>\n",
       "      <td>899.97</td>\n",
       "      <td>1683.63</td>\n",
       "      <td>1947</td>\n",
       "      <td>2</td>\n",
       "      <td>2</td>\n",
       "      <td>...</td>\n",
       "      <td>NaN</td>\n",
       "      <td>NaN</td>\n",
       "      <td>NaN</td>\n",
       "      <td>NaN</td>\n",
       "      <td>NaN</td>\n",
       "      <td>NaN</td>\n",
       "      <td>NaN</td>\n",
       "      <td>NaN</td>\n",
       "      <td>NaN</td>\n",
       "      <td>NaN</td>\n",
       "    </tr>\n",
       "    <tr>\n",
       "      <th>2</th>\n",
       "      <td>V220000001S15010024400123</td>\n",
       "      <td>22</td>\n",
       "      <td>1</td>\n",
       "      <td>NaN</td>\n",
       "      <td>2.00</td>\n",
       "      <td>2077.84</td>\n",
       "      <td>3887.14</td>\n",
       "      <td>1989</td>\n",
       "      <td>2</td>\n",
       "      <td>1</td>\n",
       "      <td>...</td>\n",
       "      <td>NaN</td>\n",
       "      <td>NaN</td>\n",
       "      <td>NaN</td>\n",
       "      <td>NaN</td>\n",
       "      <td>NaN</td>\n",
       "      <td>NaN</td>\n",
       "      <td>NaN</td>\n",
       "      <td>NaN</td>\n",
       "      <td>NaN</td>\n",
       "      <td>NaN</td>\n",
       "    </tr>\n",
       "  </tbody>\n",
       "</table>\n",
       "<p>3 rows × 226 columns</p>\n",
       "</div>"
      ],
      "text/plain": [
       "                       SCRAM  WEEK  EST_ST  EST_MSA  REGION  HWEIGHT  PWEIGHT  \\\n",
       "0  V220000001S10011352410113    22       1      NaN    2.00  1170.79  3285.40   \n",
       "1  V220000001S10011554410113    22       1      NaN    2.00   899.97  1683.63   \n",
       "2  V220000001S15010024400123    22       1      NaN    2.00  2077.84  3887.14   \n",
       "\n",
       "   TBIRTH_YEAR  ABIRTH_YEAR  EGENDER  ...  SNAPMNTH4  SNAPMNTH5  SNAPMNTH6  \\\n",
       "0         1978            2        2  ...        NaN        NaN        NaN   \n",
       "1         1947            2        2  ...        NaN        NaN        NaN   \n",
       "2         1989            2        1  ...        NaN        NaN        NaN   \n",
       "\n",
       "   SNAPMNTH7  SNAPMNTH8  SNAPMNTH9  SNAPMNTH10  SNAPMNTH11  SNAPMNTH12  \\\n",
       "0        NaN        NaN        NaN         NaN         NaN         NaN   \n",
       "1        NaN        NaN        NaN         NaN         NaN         NaN   \n",
       "2        NaN        NaN        NaN         NaN         NaN         NaN   \n",
       "\n",
       "   TBEDROOMS  \n",
       "0        NaN  \n",
       "1        NaN  \n",
       "2        NaN  \n",
       "\n",
       "[3 rows x 226 columns]"
      ]
     },
     "metadata": {},
     "output_type": "display_data"
    },
    {
     "name": "stdout",
     "output_type": "stream",
     "text": [
      "<class 'pandas.core.frame.DataFrame'>\n",
      "Int64Index: 2167927 entries, 0 to 108061\n",
      "Columns: 226 entries, SCRAM to TBEDROOMS\n",
      "dtypes: float64(153), int64(72), object(1)\n",
      "memory usage: 3.7+ GB\n"
     ]
    },
    {
     "data": {
      "text/plain": [
       "None"
      ]
     },
     "metadata": {},
     "output_type": "display_data"
    },
    {
     "name": "stdout",
     "output_type": "stream",
     "text": [
      "\n",
      " \u001b[1mWeeks in dataframe:\u001b[0m [ 1  2  3  4  5  6  7  8  9 10 11 12 13 14 15 16 17 18 19 20 21 22 23 24\n",
      " 25]\n"
     ]
    }
   ],
   "source": [
    "# concatenating dfs in master\n",
    "pulse = pd.concat(pulse_file_lst)\n",
    "\n",
    "print('\\n', color.BOLD + 'Weeks 1 through 25' + color.END, '\\n')\n",
    "display(pulse.head(3))\n",
    "display(pulse.info())\n",
    "\n",
    "print('\\n', color.BOLD + 'Weeks in dataframe:' + color.END, np.sort(pulse.WEEK.unique()))"
   ]
  },
  {
   "cell_type": "markdown",
   "id": "floppy-monroe",
   "metadata": {},
   "source": [
    "<hr>"
   ]
  },
  {
   "cell_type": "markdown",
   "id": "pregnant-triumph",
   "metadata": {},
   "source": [
    "# Adjusting Weights"
   ]
  },
  {
   "cell_type": "markdown",
   "id": "brief-fundamental",
   "metadata": {},
   "source": [
    "The Pulse Survey underwent small but significant changes between phase 1, and phases 2 and 3 (an overview of these changes can be found <a href='https://www.huduser.gov/portal/pdredge/pdr-edge-frm-asst-sec-092820.html'>here</a>). For example, while the survey was conducted on a weekly basis in the first phase, it became biweekly in the second and third. \n",
    "\n",
    "Most importantly to this analysis, the Census introduced a new household weight variable in phases 2 and 3. While in phase 1 (weeks 1-12) household weights were provided in  separate weekly excel sheets, in phases 2 and 3 the Census included household weights in the main database's <b>HWEIGHT</b> column. "
   ]
  },
  {
   "cell_type": "code",
   "execution_count": 5,
   "id": "requested-newsletter",
   "metadata": {},
   "outputs": [
    {
     "data": {
      "text/plain": [
       "WEEK\n",
       "1      NaN\n",
       "2      NaN\n",
       "3      NaN\n",
       "4      NaN\n",
       "5      NaN\n",
       "6      NaN\n",
       "7      NaN\n",
       "8      NaN\n",
       "9      NaN\n",
       "10     NaN\n",
       "11     NaN\n",
       "12     NaN\n",
       "13   19.99\n",
       "14   16.30\n",
       "15   22.25\n",
       "16    9.02\n",
       "17   20.99\n",
       "18   25.55\n",
       "19   31.13\n",
       "20   17.11\n",
       "21   32.51\n",
       "22   31.62\n",
       "23   22.93\n",
       "24   20.27\n",
       "25   32.90\n",
       "Name: HWEIGHT, dtype: float64"
      ]
     },
     "execution_count": 5,
     "metadata": {},
     "output_type": "execute_result"
    }
   ],
   "source": [
    "pulse[['HWEIGHT', 'WEEK']].groupby(by='WEEK')['HWEIGHT'].min()"
   ]
  },
  {
   "cell_type": "markdown",
   "id": "listed-mambo",
   "metadata": {},
   "source": [
    "Once again, I create an empty list and create a loop which stores the weight files in the list. Then, I concatenate the weight files in a master dataframe named <b>weights</b>."
   ]
  },
  {
   "cell_type": "code",
   "execution_count": 6,
   "id": "mineral-arena",
   "metadata": {},
   "outputs": [],
   "source": [
    "# creating empty list to store imported dfs\n",
    "weight_file_lst = []\n",
    "\n",
    "# looping through, importing and adding dfs in folder to file_lst\n",
    "for file_name in os.listdir('weight_files')[:-1]:\n",
    "    path = '/Users/carolineghisolfi/Desktop/winter_2021/dataj_pulse/weight_files/' + file_name\n",
    "    file = pd.read_csv(path)\n",
    "    weight_file_lst.append(file)\n",
    "    \n",
    "# concatenating dfs in master\n",
    "weights = pd.concat(weight_file_lst)"
   ]
  },
  {
   "cell_type": "code",
   "execution_count": 7,
   "id": "engaged-frank",
   "metadata": {},
   "outputs": [
    {
     "name": "stdout",
     "output_type": "stream",
     "text": [
      "\n",
      " \u001b[1mPhase 1 weights\u001b[0m \n",
      "\n"
     ]
    },
    {
     "data": {
      "text/html": [
       "<div>\n",
       "<style scoped>\n",
       "    .dataframe tbody tr th:only-of-type {\n",
       "        vertical-align: middle;\n",
       "    }\n",
       "\n",
       "    .dataframe tbody tr th {\n",
       "        vertical-align: top;\n",
       "    }\n",
       "\n",
       "    .dataframe thead th {\n",
       "        text-align: right;\n",
       "    }\n",
       "</style>\n",
       "<table border=\"1\" class=\"dataframe\">\n",
       "  <thead>\n",
       "    <tr style=\"text-align: right;\">\n",
       "      <th></th>\n",
       "      <th>WEEK</th>\n",
       "      <th>SCRAM</th>\n",
       "      <th>HWEIGHT</th>\n",
       "      <th>HWEIGHT1</th>\n",
       "      <th>HWEIGHT2</th>\n",
       "      <th>HWEIGHT3</th>\n",
       "      <th>HWEIGHT4</th>\n",
       "      <th>HWEIGHT5</th>\n",
       "      <th>HWEIGHT6</th>\n",
       "      <th>HWEIGHT7</th>\n",
       "      <th>...</th>\n",
       "      <th>HWEIGHT71</th>\n",
       "      <th>HWEIGHT72</th>\n",
       "      <th>HWEIGHT73</th>\n",
       "      <th>HWEIGHT74</th>\n",
       "      <th>HWEIGHT75</th>\n",
       "      <th>HWEIGHT76</th>\n",
       "      <th>HWEIGHT77</th>\n",
       "      <th>HWEIGHT78</th>\n",
       "      <th>HWEIGHT79</th>\n",
       "      <th>HWEIGHT80</th>\n",
       "    </tr>\n",
       "  </thead>\n",
       "  <tbody>\n",
       "    <tr>\n",
       "      <th>0</th>\n",
       "      <td>1</td>\n",
       "      <td>V010000001S10011099370111</td>\n",
       "      <td>1074.75</td>\n",
       "      <td>1074.75</td>\n",
       "      <td>1133.46</td>\n",
       "      <td>832.28</td>\n",
       "      <td>2107.00</td>\n",
       "      <td>1110.27</td>\n",
       "      <td>290.29</td>\n",
       "      <td>1861.68</td>\n",
       "      <td>...</td>\n",
       "      <td>914.35</td>\n",
       "      <td>1167.75</td>\n",
       "      <td>328.65</td>\n",
       "      <td>1024.18</td>\n",
       "      <td>1707.99</td>\n",
       "      <td>992.20</td>\n",
       "      <td>1227.19</td>\n",
       "      <td>1658.08</td>\n",
       "      <td>934.61</td>\n",
       "      <td>1263.89</td>\n",
       "    </tr>\n",
       "    <tr>\n",
       "      <th>1</th>\n",
       "      <td>1</td>\n",
       "      <td>V010000001S10011900470112</td>\n",
       "      <td>2147.82</td>\n",
       "      <td>2147.82</td>\n",
       "      <td>3672.59</td>\n",
       "      <td>565.94</td>\n",
       "      <td>2235.81</td>\n",
       "      <td>3380.11</td>\n",
       "      <td>2198.79</td>\n",
       "      <td>2147.58</td>\n",
       "      <td>...</td>\n",
       "      <td>3117.82</td>\n",
       "      <td>2363.21</td>\n",
       "      <td>574.87</td>\n",
       "      <td>3596.52</td>\n",
       "      <td>597.45</td>\n",
       "      <td>2264.79</td>\n",
       "      <td>2067.21</td>\n",
       "      <td>2334.59</td>\n",
       "      <td>1993.23</td>\n",
       "      <td>2214.06</td>\n",
       "    </tr>\n",
       "    <tr>\n",
       "      <th>2</th>\n",
       "      <td>1</td>\n",
       "      <td>V010000001S18010744940111</td>\n",
       "      <td>842.56</td>\n",
       "      <td>842.56</td>\n",
       "      <td>1578.21</td>\n",
       "      <td>223.67</td>\n",
       "      <td>927.74</td>\n",
       "      <td>1864.36</td>\n",
       "      <td>612.33</td>\n",
       "      <td>855.89</td>\n",
       "      <td>...</td>\n",
       "      <td>1433.85</td>\n",
       "      <td>746.41</td>\n",
       "      <td>279.66</td>\n",
       "      <td>1126.62</td>\n",
       "      <td>295.25</td>\n",
       "      <td>915.62</td>\n",
       "      <td>701.33</td>\n",
       "      <td>1091.08</td>\n",
       "      <td>716.94</td>\n",
       "      <td>841.38</td>\n",
       "    </tr>\n",
       "  </tbody>\n",
       "</table>\n",
       "<p>3 rows × 83 columns</p>\n",
       "</div>"
      ],
      "text/plain": [
       "   WEEK                      SCRAM  HWEIGHT  HWEIGHT1  HWEIGHT2  HWEIGHT3  \\\n",
       "0     1  V010000001S10011099370111  1074.75   1074.75   1133.46    832.28   \n",
       "1     1  V010000001S10011900470112  2147.82   2147.82   3672.59    565.94   \n",
       "2     1  V010000001S18010744940111   842.56    842.56   1578.21    223.67   \n",
       "\n",
       "   HWEIGHT4  HWEIGHT5  HWEIGHT6  HWEIGHT7  ...  HWEIGHT71  HWEIGHT72  \\\n",
       "0   2107.00   1110.27    290.29   1861.68  ...     914.35    1167.75   \n",
       "1   2235.81   3380.11   2198.79   2147.58  ...    3117.82    2363.21   \n",
       "2    927.74   1864.36    612.33    855.89  ...    1433.85     746.41   \n",
       "\n",
       "   HWEIGHT73  HWEIGHT74  HWEIGHT75  HWEIGHT76  HWEIGHT77  HWEIGHT78  \\\n",
       "0     328.65    1024.18    1707.99     992.20    1227.19    1658.08   \n",
       "1     574.87    3596.52     597.45    2264.79    2067.21    2334.59   \n",
       "2     279.66    1126.62     295.25     915.62     701.33    1091.08   \n",
       "\n",
       "   HWEIGHT79  HWEIGHT80  \n",
       "0     934.61    1263.89  \n",
       "1    1993.23    2214.06  \n",
       "2     716.94     841.38  \n",
       "\n",
       "[3 rows x 83 columns]"
      ]
     },
     "metadata": {},
     "output_type": "display_data"
    }
   ],
   "source": [
    "print('\\n', color.BOLD + 'Phase 1 weights' + color.END, '\\n')\n",
    "display(weights.head(3))"
   ]
  },
  {
   "cell_type": "markdown",
   "id": "italic-internet",
   "metadata": {},
   "source": [
    "I am only interested in the main weight, <b>HWEIGHT</b>, so I exclude other calculated weights. "
   ]
  },
  {
   "cell_type": "code",
   "execution_count": 8,
   "id": "running-tuesday",
   "metadata": {},
   "outputs": [],
   "source": [
    "weights = weights[['WEEK', 'SCRAM', 'HWEIGHT']]"
   ]
  },
  {
   "cell_type": "markdown",
   "id": "concrete-scout",
   "metadata": {},
   "source": [
    "I merge the pulse and weights dataframes. The merge creates two <b>HWEIGHT</b> columns differentiated by the x and y variables. I combine the two in a new <b>HWEIGHT</b> column. "
   ]
  },
  {
   "cell_type": "code",
   "execution_count": 9,
   "id": "governing-celtic",
   "metadata": {},
   "outputs": [],
   "source": [
    "# Merging dfs\n",
    "pulse = pd.merge(pulse, weights, on=['WEEK', 'SCRAM'], how='left')\n",
    "\n",
    "# Combining weight cols\n",
    "pulse['HWEIGHT'] = np.where(pulse.HWEIGHT_x.isnull() == False, pulse.HWEIGHT_x, pulse.HWEIGHT_y)"
   ]
  },
  {
   "cell_type": "code",
   "execution_count": 10,
   "id": "smoking-teacher",
   "metadata": {},
   "outputs": [
    {
     "name": "stdout",
     "output_type": "stream",
     "text": [
      "\n",
      " \u001b[1mWeight Columns\u001b[0m \n",
      "\n"
     ]
    },
    {
     "data": {
      "text/html": [
       "<div>\n",
       "<style scoped>\n",
       "    .dataframe tbody tr th:only-of-type {\n",
       "        vertical-align: middle;\n",
       "    }\n",
       "\n",
       "    .dataframe tbody tr th {\n",
       "        vertical-align: top;\n",
       "    }\n",
       "\n",
       "    .dataframe thead th {\n",
       "        text-align: right;\n",
       "    }\n",
       "</style>\n",
       "<table border=\"1\" class=\"dataframe\">\n",
       "  <thead>\n",
       "    <tr style=\"text-align: right;\">\n",
       "      <th></th>\n",
       "      <th>HWEIGHT_x</th>\n",
       "      <th>HWEIGHT_y</th>\n",
       "      <th>HWEIGHT</th>\n",
       "    </tr>\n",
       "  </thead>\n",
       "  <tbody>\n",
       "    <tr>\n",
       "      <th>0</th>\n",
       "      <td>1170.79</td>\n",
       "      <td>NaN</td>\n",
       "      <td>1170.79</td>\n",
       "    </tr>\n",
       "    <tr>\n",
       "      <th>1</th>\n",
       "      <td>899.97</td>\n",
       "      <td>NaN</td>\n",
       "      <td>899.97</td>\n",
       "    </tr>\n",
       "    <tr>\n",
       "      <th>2</th>\n",
       "      <td>2077.84</td>\n",
       "      <td>NaN</td>\n",
       "      <td>2077.84</td>\n",
       "    </tr>\n",
       "  </tbody>\n",
       "</table>\n",
       "</div>"
      ],
      "text/plain": [
       "   HWEIGHT_x  HWEIGHT_y  HWEIGHT\n",
       "0    1170.79        NaN  1170.79\n",
       "1     899.97        NaN   899.97\n",
       "2    2077.84        NaN  2077.84"
      ]
     },
     "metadata": {},
     "output_type": "display_data"
    },
    {
     "data": {
      "text/html": [
       "<div>\n",
       "<style scoped>\n",
       "    .dataframe tbody tr th:only-of-type {\n",
       "        vertical-align: middle;\n",
       "    }\n",
       "\n",
       "    .dataframe tbody tr th {\n",
       "        vertical-align: top;\n",
       "    }\n",
       "\n",
       "    .dataframe thead th {\n",
       "        text-align: right;\n",
       "    }\n",
       "</style>\n",
       "<table border=\"1\" class=\"dataframe\">\n",
       "  <thead>\n",
       "    <tr style=\"text-align: right;\">\n",
       "      <th></th>\n",
       "      <th>HWEIGHT_x</th>\n",
       "      <th>HWEIGHT_y</th>\n",
       "      <th>HWEIGHT</th>\n",
       "    </tr>\n",
       "  </thead>\n",
       "  <tbody>\n",
       "    <tr>\n",
       "      <th>2167924</th>\n",
       "      <td>NaN</td>\n",
       "      <td>230.53</td>\n",
       "      <td>230.53</td>\n",
       "    </tr>\n",
       "    <tr>\n",
       "      <th>2167925</th>\n",
       "      <td>NaN</td>\n",
       "      <td>9.67</td>\n",
       "      <td>9.67</td>\n",
       "    </tr>\n",
       "    <tr>\n",
       "      <th>2167926</th>\n",
       "      <td>NaN</td>\n",
       "      <td>80.42</td>\n",
       "      <td>80.42</td>\n",
       "    </tr>\n",
       "  </tbody>\n",
       "</table>\n",
       "</div>"
      ],
      "text/plain": [
       "         HWEIGHT_x  HWEIGHT_y  HWEIGHT\n",
       "2167924        NaN     230.53   230.53\n",
       "2167925        NaN       9.67     9.67\n",
       "2167926        NaN      80.42    80.42"
      ]
     },
     "metadata": {},
     "output_type": "display_data"
    }
   ],
   "source": [
    "print('\\n', color.BOLD + 'Weight Columns' + color.END, '\\n')\n",
    "display(pulse[['HWEIGHT_x', 'HWEIGHT_y', 'HWEIGHT']].head(3), pulse[['HWEIGHT_x', 'HWEIGHT_y', 'HWEIGHT']].tail(3))"
   ]
  },
  {
   "cell_type": "markdown",
   "id": "b37c78a2-e6f3-4e36-8d30-4ee65fda4284",
   "metadata": {},
   "source": [
    "<b>Note</b>: The census did not provide household weights for <b>Week 9</b> of the survey. "
   ]
  },
  {
   "cell_type": "code",
   "execution_count": 11,
   "id": "f0cfc37f-aa4e-4a6e-885d-09d1640b4c1e",
   "metadata": {},
   "outputs": [
    {
     "data": {
      "text/html": [
       "<div>\n",
       "<style scoped>\n",
       "    .dataframe tbody tr th:only-of-type {\n",
       "        vertical-align: middle;\n",
       "    }\n",
       "\n",
       "    .dataframe tbody tr th {\n",
       "        vertical-align: top;\n",
       "    }\n",
       "\n",
       "    .dataframe thead th {\n",
       "        text-align: right;\n",
       "    }\n",
       "</style>\n",
       "<table border=\"1\" class=\"dataframe\">\n",
       "  <thead>\n",
       "    <tr style=\"text-align: right;\">\n",
       "      <th></th>\n",
       "      <th>HWEIGHT_x</th>\n",
       "      <th>HWEIGHT_y</th>\n",
       "      <th>HWEIGHT</th>\n",
       "    </tr>\n",
       "  </thead>\n",
       "  <tbody>\n",
       "    <tr>\n",
       "      <th>1818774</th>\n",
       "      <td>NaN</td>\n",
       "      <td>NaN</td>\n",
       "      <td>NaN</td>\n",
       "    </tr>\n",
       "    <tr>\n",
       "      <th>1818775</th>\n",
       "      <td>NaN</td>\n",
       "      <td>NaN</td>\n",
       "      <td>NaN</td>\n",
       "    </tr>\n",
       "    <tr>\n",
       "      <th>1818776</th>\n",
       "      <td>NaN</td>\n",
       "      <td>NaN</td>\n",
       "      <td>NaN</td>\n",
       "    </tr>\n",
       "    <tr>\n",
       "      <th>1818777</th>\n",
       "      <td>NaN</td>\n",
       "      <td>NaN</td>\n",
       "      <td>NaN</td>\n",
       "    </tr>\n",
       "    <tr>\n",
       "      <th>1818778</th>\n",
       "      <td>NaN</td>\n",
       "      <td>NaN</td>\n",
       "      <td>NaN</td>\n",
       "    </tr>\n",
       "    <tr>\n",
       "      <th>...</th>\n",
       "      <td>...</td>\n",
       "      <td>...</td>\n",
       "      <td>...</td>\n",
       "    </tr>\n",
       "    <tr>\n",
       "      <th>1917432</th>\n",
       "      <td>NaN</td>\n",
       "      <td>NaN</td>\n",
       "      <td>NaN</td>\n",
       "    </tr>\n",
       "    <tr>\n",
       "      <th>1917433</th>\n",
       "      <td>NaN</td>\n",
       "      <td>NaN</td>\n",
       "      <td>NaN</td>\n",
       "    </tr>\n",
       "    <tr>\n",
       "      <th>1917434</th>\n",
       "      <td>NaN</td>\n",
       "      <td>NaN</td>\n",
       "      <td>NaN</td>\n",
       "    </tr>\n",
       "    <tr>\n",
       "      <th>1917435</th>\n",
       "      <td>NaN</td>\n",
       "      <td>NaN</td>\n",
       "      <td>NaN</td>\n",
       "    </tr>\n",
       "    <tr>\n",
       "      <th>1917436</th>\n",
       "      <td>NaN</td>\n",
       "      <td>NaN</td>\n",
       "      <td>NaN</td>\n",
       "    </tr>\n",
       "  </tbody>\n",
       "</table>\n",
       "<p>98663 rows × 3 columns</p>\n",
       "</div>"
      ],
      "text/plain": [
       "         HWEIGHT_x  HWEIGHT_y  HWEIGHT\n",
       "1818774        NaN        NaN      NaN\n",
       "1818775        NaN        NaN      NaN\n",
       "1818776        NaN        NaN      NaN\n",
       "1818777        NaN        NaN      NaN\n",
       "1818778        NaN        NaN      NaN\n",
       "...            ...        ...      ...\n",
       "1917432        NaN        NaN      NaN\n",
       "1917433        NaN        NaN      NaN\n",
       "1917434        NaN        NaN      NaN\n",
       "1917435        NaN        NaN      NaN\n",
       "1917436        NaN        NaN      NaN\n",
       "\n",
       "[98663 rows x 3 columns]"
      ]
     },
     "execution_count": 11,
     "metadata": {},
     "output_type": "execute_result"
    }
   ],
   "source": [
    "pulse[pulse.WEEK == 9][['HWEIGHT_x', 'HWEIGHT_y', 'HWEIGHT']]"
   ]
  },
  {
   "cell_type": "code",
   "execution_count": 12,
   "id": "acoustic-saver",
   "metadata": {},
   "outputs": [
    {
     "name": "stdout",
     "output_type": "stream",
     "text": [
      "Stored 'pulse' (DataFrame)\n"
     ]
    }
   ],
   "source": [
    "# Storing df\n",
    "%store pulse"
   ]
  }
 ],
 "metadata": {
  "kernelspec": {
   "display_name": "Python 3",
   "language": "python",
   "name": "python3"
  },
  "language_info": {
   "codemirror_mode": {
    "name": "ipython",
    "version": 3
   },
   "file_extension": ".py",
   "mimetype": "text/x-python",
   "name": "python",
   "nbconvert_exporter": "python",
   "pygments_lexer": "ipython3",
   "version": "3.8.1"
  }
 },
 "nbformat": 4,
 "nbformat_minor": 5
}
