{
 "cells": [
  {
   "cell_type": "markdown",
   "id": "radio-hydrogen",
   "metadata": {},
   "source": [
    "# THE PANDEMIC'S WORKING PARENTS\n",
    "\n",
    "#### <u>DATA PREP</u>\n",
    "\n",
    "#### The Project\n",
    "\n",
    "The purpose of this project is to shed light on the challenges that working parents are facing during the 2020-2021 COVID-19 pandemic. My analysis of U.S. Census Household Pulse Survey data reveals that since the beginning of the pandemic California’s\n",
    "job market lost the most parents with schoolchildren in the country, trailing only Nevada and\n",
    "Michigan. California households with PreK-12 children were significantly more likely to lose employment income than parents without children. \n",
    "\n",
    "\n",
    "#### The Data\n",
    "This project uses data for weeks 1 through 27 of the pandemic from the U.S. Census Bureau Household Pulse Survey Public Use files (https://www.census.gov/programs-surveys/household-pulse-survey/datasets.html). Each week's data is published in a separate csv file. The Census also publishes weekly data dictionaries in excel format. "
   ]
  },
  {
   "cell_type": "markdown",
   "id": "bearing-requirement",
   "metadata": {},
   "source": [
    "## Importing tools"
   ]
  },
  {
   "cell_type": "code",
   "execution_count": 1,
   "id": "israeli-party",
   "metadata": {},
   "outputs": [],
   "source": [
    "import pandas as pd\n",
    "import numpy as np\n",
    "import os\n",
    "\n",
    "pd.options.mode.chained_assignment = None # None|'warn'|'raise'\n",
    "pd.set_option('display.float_format', '{:.2f}'.format)\n",
    "\n",
    "class color:\n",
    "   BOLD = '\\033[1m'\n",
    "   END = '\\033[0m'"
   ]
  },
  {
   "cell_type": "markdown",
   "id": "light-membrane",
   "metadata": {},
   "source": [
    "<hr>"
   ]
  },
  {
   "cell_type": "markdown",
   "id": "maritime-sense",
   "metadata": {},
   "source": [
    "## Importing the data"
   ]
  },
  {
   "cell_type": "markdown",
   "id": "fabulous-obligation",
   "metadata": {},
   "source": [
    "I import my stored dataframe. "
   ]
  },
  {
   "cell_type": "code",
   "execution_count": 2,
   "id": "existing-variance",
   "metadata": {},
   "outputs": [],
   "source": [
    "pulse = pd.read_csv('pulse.csv')"
   ]
  },
  {
   "cell_type": "markdown",
   "id": "joint-heather",
   "metadata": {},
   "source": [
    "In the process of prepping this database, I remove rows with missing answers to questions important to my analysis. I record the length of the original database now so I can compare it as I go. "
   ]
  },
  {
   "cell_type": "code",
   "execution_count": 3,
   "id": "wireless-pressure",
   "metadata": {},
   "outputs": [
    {
     "name": "stdout",
     "output_type": "stream",
     "text": [
      "\n",
      " \u001b[1mOriginal row count:\u001b[0m 2323337\n"
     ]
    }
   ],
   "source": [
    "original_length = len(pulse)\n",
    "print('\\n', color.BOLD + 'Original row count:' + color.END, original_length)"
   ]
  },
  {
   "cell_type": "markdown",
   "id": "seeing-freeware",
   "metadata": {},
   "source": [
    "<hr>"
   ]
  },
  {
   "cell_type": "markdown",
   "id": "involved-forth",
   "metadata": {},
   "source": [
    "## Creating data categories\n",
    "### KIDS"
   ]
  },
  {
   "cell_type": "markdown",
   "id": "joined-batch",
   "metadata": {},
   "source": [
    "I am interested in identifying households with individuals under 18 and households with school-age children. In the weekly Pulse survey, the Census asks individuals how many people under 18 live in their households. That number is recorded in the <b>THHLD_NUMKID</b> column. This column does not have missing values."
   ]
  },
  {
   "cell_type": "code",
   "execution_count": 4,
   "id": "great-finance",
   "metadata": {},
   "outputs": [
    {
     "data": {
      "text/plain": [
       "0.00    1505186\n",
       "1.00     357116\n",
       "2.00     293350\n",
       "3.00     111495\n",
       "4.00      37159\n",
       "5.00      19031\n",
       "Name: THHLD_NUMKID, dtype: int64"
      ]
     },
     "execution_count": 4,
     "metadata": {},
     "output_type": "execute_result"
    }
   ],
   "source": [
    "pulse.THHLD_NUMKID.value_counts()"
   ]
  },
  {
   "cell_type": "markdown",
   "id": "removed-survey",
   "metadata": {},
   "source": [
    "I create a new <b>kids</b> column where I mark 1 for households with one or more people under 18 and 0 for those without. "
   ]
  },
  {
   "cell_type": "code",
   "execution_count": 5,
   "id": "activated-release",
   "metadata": {},
   "outputs": [],
   "source": [
    "pulse['kids'] = np.where(pulse.THHLD_NUMKID == 0, 0, 1)"
   ]
  },
  {
   "cell_type": "markdown",
   "id": "hollow-incidence",
   "metadata": {},
   "source": [
    "I then label households with children in school or homeschooled. The database records answers to the question,\n",
    "\n",
    "    'At any time during the 2020-2021 school year, were, or will, any children in this household enrolled in a public school, enrolled in a private school, or educated in a homeschool setting in Kindergarten through 12th grade or grade equivalent? Select all that apply.'\n",
    "\n",
    "in three columns:\n",
    "\n",
    "- <b>ENROLL1</b>: 'Yes, enrolled in a public or private school'\n",
    "- <b>ENROLL2</b>: 'Yes, homeschooled'\n",
    "- <b>ENROLL3</b>: 'No'\n",
    "\n",
    "These columns include missing responses marked as '-88' in the database. If the interviewee addressed the question but did not select the category in a particular column, their response is marked as '-99'."
   ]
  },
  {
   "cell_type": "code",
   "execution_count": 6,
   "id": "hundred-adelaide",
   "metadata": {},
   "outputs": [
    {
     "name": "stdout",
     "output_type": "stream",
     "text": [
      "-88.00    1595434\n",
      "1.00       522921\n",
      "-99.00     204982\n",
      "Name: ENROLL1, dtype: int64 \n",
      "\n",
      "-88.00    1595434\n",
      "-99.00     687134\n",
      "1.00        40769\n",
      "Name: ENROLL2, dtype: int64 \n",
      "\n",
      "-88.00    1595434\n",
      "-99.00     560305\n",
      "1.00       167598\n",
      "Name: ENROLL3, dtype: int64\n"
     ]
    }
   ],
   "source": [
    "print(pulse.ENROLL1.value_counts(), '\\n')\n",
    "print(pulse.ENROLL2.value_counts(), '\\n')\n",
    "print(pulse.ENROLL3.value_counts())"
   ]
  },
  {
   "cell_type": "markdown",
   "id": "further-incidence",
   "metadata": {},
   "source": [
    "I remove rows where households reported having members 18 or younger, but -88 or -99 is marked in all three ENROLL columns."
   ]
  },
  {
   "cell_type": "code",
   "execution_count": 7,
   "id": "professional-recognition",
   "metadata": {},
   "outputs": [
    {
     "name": "stdout",
     "output_type": "stream",
     "text": [
      "\n",
      " \u001b[1mOriginal row count:\u001b[0m 2323337 \n",
      " \u001b[1mCount of valid records:\u001b[0m 2189398 \n",
      " \u001b[1mTotal removed:\u001b[0m 133939 \n",
      "\n"
     ]
    }
   ],
   "source": [
    "# removing invalid records\n",
    "pulse = pulse[~(\n",
    "    (pulse.kids == 1) & \n",
    "    (pulse.ENROLL1 < 0) & \n",
    "    (pulse.ENROLL2 < 0) & \n",
    "    (pulse.ENROLL3 < 0)\n",
    ")]\n",
    "\n",
    "print('\\n', color.BOLD + 'Original row count:' + color.END, original_length, \n",
    "      '\\n', color.BOLD + 'Count of valid records:' + color.END, len(pulse), \n",
    "      '\\n', color.BOLD + 'Total removed:' + color.END, original_length - len(pulse), '\\n')"
   ]
  },
  {
   "cell_type": "markdown",
   "id": "first-square",
   "metadata": {},
   "source": [
    "In a new column, <b>school_kids</b>, I mark 1 for households which reported having chilren enrolled in school or homeschooled, and 0 for households which answered that they did not. "
   ]
  },
  {
   "cell_type": "code",
   "execution_count": 8,
   "id": "lesser-viewer",
   "metadata": {},
   "outputs": [
    {
     "name": "stdout",
     "output_type": "stream",
     "text": [
      "\n",
      " \u001b[1mKids and school kids columns\u001b[0m \n",
      "\n"
     ]
    },
    {
     "data": {
      "text/html": [
       "<div>\n",
       "<style scoped>\n",
       "    .dataframe tbody tr th:only-of-type {\n",
       "        vertical-align: middle;\n",
       "    }\n",
       "\n",
       "    .dataframe tbody tr th {\n",
       "        vertical-align: top;\n",
       "    }\n",
       "\n",
       "    .dataframe thead th {\n",
       "        text-align: right;\n",
       "    }\n",
       "</style>\n",
       "<table border=\"1\" class=\"dataframe\">\n",
       "  <thead>\n",
       "    <tr style=\"text-align: right;\">\n",
       "      <th></th>\n",
       "      <th>kids</th>\n",
       "      <th>ENROLL1</th>\n",
       "      <th>ENROLL2</th>\n",
       "      <th>ENROLL3</th>\n",
       "      <th>school_kids</th>\n",
       "    </tr>\n",
       "  </thead>\n",
       "  <tbody>\n",
       "    <tr>\n",
       "      <th>1</th>\n",
       "      <td>0</td>\n",
       "      <td>-88.00</td>\n",
       "      <td>-88.00</td>\n",
       "      <td>-88.00</td>\n",
       "      <td>NaN</td>\n",
       "    </tr>\n",
       "    <tr>\n",
       "      <th>2</th>\n",
       "      <td>1</td>\n",
       "      <td>1.00</td>\n",
       "      <td>-99.00</td>\n",
       "      <td>-99.00</td>\n",
       "      <td>1.00</td>\n",
       "    </tr>\n",
       "    <tr>\n",
       "      <th>3</th>\n",
       "      <td>0</td>\n",
       "      <td>-88.00</td>\n",
       "      <td>-88.00</td>\n",
       "      <td>-88.00</td>\n",
       "      <td>NaN</td>\n",
       "    </tr>\n",
       "  </tbody>\n",
       "</table>\n",
       "</div>"
      ],
      "text/plain": [
       "   kids  ENROLL1  ENROLL2  ENROLL3  school_kids\n",
       "1     0   -88.00   -88.00   -88.00          NaN\n",
       "2     1     1.00   -99.00   -99.00         1.00\n",
       "3     0   -88.00   -88.00   -88.00          NaN"
      ]
     },
     "metadata": {},
     "output_type": "display_data"
    }
   ],
   "source": [
    "# Labeling households with school kids, marking na for others\n",
    "pulse['school_kids'] = np.where(\n",
    "    (pulse.kids == 1) &\n",
    "    (\n",
    "        (pulse.ENROLL1 == 1) | (pulse.ENROLL2 == 1)\n",
    "    ), 1, np.nan)\n",
    "\n",
    "# Labeling households without school kids\n",
    "pulse['school_kids'] = np.where(\n",
    "    (pulse.kids == 1) &\n",
    "    (\n",
    "        (pulse.ENROLL3 == 1)\n",
    "    ), 0, pulse.school_kids)\n",
    "\n",
    "\n",
    "print('\\n', color.BOLD + 'Kids and school kids columns' + color.END, '\\n')\n",
    "display(pulse[['kids', 'ENROLL1', 'ENROLL2', 'ENROLL3', 'school_kids']].head(3))"
   ]
  },
  {
   "cell_type": "markdown",
   "id": "corporate-beach",
   "metadata": {},
   "source": [
    "### HOUSEHOLDS WHICH EXPERIENCED A RECENT JOB LOSS"
   ]
  },
  {
   "cell_type": "markdown",
   "id": "single-telescope",
   "metadata": {},
   "source": [
    "Interviewees in the survey were asked if they had experienced a loss of employment income since March 13, 2020. Their answers were recorded in the <b>WRKLOSS</b> column. The column includes missing values. "
   ]
  },
  {
   "cell_type": "code",
   "execution_count": 9,
   "id": "stone-heater",
   "metadata": {},
   "outputs": [
    {
     "data": {
      "text/plain": [
       "2.00      1338296\n",
       "1.00       839225\n",
       "-99.00      11636\n",
       "-88.00        241\n",
       "Name: WRKLOSS, dtype: int64"
      ]
     },
     "execution_count": 9,
     "metadata": {},
     "output_type": "execute_result"
    }
   ],
   "source": [
    "pulse.WRKLOSS.value_counts()"
   ]
  },
  {
   "cell_type": "markdown",
   "id": "inner-academy",
   "metadata": {},
   "source": [
    "Because this question required interviewees to select only one answer, I remove all answers marked as -88 (missing) and -99 (question seen but category not selected). "
   ]
  },
  {
   "cell_type": "code",
   "execution_count": 10,
   "id": "adjusted-letters",
   "metadata": {},
   "outputs": [
    {
     "name": "stdout",
     "output_type": "stream",
     "text": [
      "\n",
      " \u001b[1mOriginal row count:\u001b[0m 2323337 \n",
      " \u001b[1mCount of valid records:\u001b[0m 2177521 \n",
      " \u001b[1mTotal removed:\u001b[0m 145816\n"
     ]
    }
   ],
   "source": [
    "pulse = pulse[~((pulse.WRKLOSS == -88) | (pulse.WRKLOSS == -99))]\n",
    "\n",
    "print('\\n', color.BOLD + 'Original row count:' + color.END, original_length, \n",
    "      '\\n', color.BOLD + 'Count of valid records:' + color.END, len(pulse), \n",
    "      '\\n', color.BOLD + 'Total removed:' + color.END, original_length - len(pulse))"
   ]
  },
  {
   "cell_type": "code",
   "execution_count": 11,
   "id": "enabling-persian",
   "metadata": {},
   "outputs": [
    {
     "data": {
      "text/plain": [
       "2.00    1338296\n",
       "1.00     839225\n",
       "Name: WRKLOSS, dtype: int64"
      ]
     },
     "execution_count": 11,
     "metadata": {},
     "output_type": "execute_result"
    }
   ],
   "source": [
    "pulse.WRKLOSS.value_counts()"
   ]
  },
  {
   "cell_type": "markdown",
   "id": "median-friday",
   "metadata": {},
   "source": [
    "I create a new column, <b>recent_job_loss</b>, where I mark 1 for households who reported a loss (currently marked 1) and 0 for households who didn't (currently marked 2). "
   ]
  },
  {
   "cell_type": "code",
   "execution_count": 12,
   "id": "alleged-penetration",
   "metadata": {},
   "outputs": [
    {
     "name": "stdout",
     "output_type": "stream",
     "text": [
      "\n",
      " \u001b[1mRecent job loss columns\u001b[0m \n",
      "\n"
     ]
    },
    {
     "data": {
      "text/html": [
       "<div>\n",
       "<style scoped>\n",
       "    .dataframe tbody tr th:only-of-type {\n",
       "        vertical-align: middle;\n",
       "    }\n",
       "\n",
       "    .dataframe tbody tr th {\n",
       "        vertical-align: top;\n",
       "    }\n",
       "\n",
       "    .dataframe thead th {\n",
       "        text-align: right;\n",
       "    }\n",
       "</style>\n",
       "<table border=\"1\" class=\"dataframe\">\n",
       "  <thead>\n",
       "    <tr style=\"text-align: right;\">\n",
       "      <th></th>\n",
       "      <th>WRKLOSS</th>\n",
       "      <th>recent_job_loss</th>\n",
       "    </tr>\n",
       "  </thead>\n",
       "  <tbody>\n",
       "    <tr>\n",
       "      <th>1</th>\n",
       "      <td>1.00</td>\n",
       "      <td>1.00</td>\n",
       "    </tr>\n",
       "    <tr>\n",
       "      <th>2</th>\n",
       "      <td>2.00</td>\n",
       "      <td>0.00</td>\n",
       "    </tr>\n",
       "    <tr>\n",
       "      <th>3</th>\n",
       "      <td>1.00</td>\n",
       "      <td>1.00</td>\n",
       "    </tr>\n",
       "  </tbody>\n",
       "</table>\n",
       "</div>"
      ],
      "text/plain": [
       "   WRKLOSS  recent_job_loss\n",
       "1     1.00             1.00\n",
       "2     2.00             0.00\n",
       "3     1.00             1.00"
      ]
     },
     "metadata": {},
     "output_type": "display_data"
    }
   ],
   "source": [
    "# Labeling households which experienced recent job losses\n",
    "pulse['recent_job_loss'] = np.where(pulse.WRKLOSS == 1, 1, np.nan)\n",
    "pulse['recent_job_loss'] = np.where(pulse.WRKLOSS == 2, 0, pulse['recent_job_loss'])\n",
    "\n",
    "print('\\n', color.BOLD + 'Recent job loss columns' + color.END, '\\n')\n",
    "display(pulse[['WRKLOSS', 'recent_job_loss']].head(3))"
   ]
  },
  {
   "cell_type": "markdown",
   "id": "environmental-organic",
   "metadata": {},
   "source": [
    "### MARITAL STATUS"
   ]
  },
  {
   "cell_type": "markdown",
   "id": "declared-retreat",
   "metadata": {},
   "source": [
    "I follow the same process to recode the marital status of the interviewee. The <b>MS</b> column includes the following choices:\n",
    "\n",
    "1) Now married \n",
    "2) Widowed\n",
    "3) Divorced\n",
    "4) Separated\n",
    "5) Never married\n",
    "\n",
    "As above, -99 indicates that the question was seen but the category was not selected and -88 indicates that the answer is missing. Because the question required interviewees to select only one answer, I mark as null all answers not ranging from 1 to 5. I do not remove invalid records because this characteristic is not central to my analysis. "
   ]
  },
  {
   "cell_type": "code",
   "execution_count": 13,
   "id": "variable-motor",
   "metadata": {},
   "outputs": [
    {
     "name": "stdout",
     "output_type": "stream",
     "text": [
      "\n",
      " \u001b[1mMarital status columns\u001b[0m \n",
      "\n"
     ]
    },
    {
     "data": {
      "text/html": [
       "<div>\n",
       "<style scoped>\n",
       "    .dataframe tbody tr th:only-of-type {\n",
       "        vertical-align: middle;\n",
       "    }\n",
       "\n",
       "    .dataframe tbody tr th {\n",
       "        vertical-align: top;\n",
       "    }\n",
       "\n",
       "    .dataframe thead th {\n",
       "        text-align: right;\n",
       "    }\n",
       "</style>\n",
       "<table border=\"1\" class=\"dataframe\">\n",
       "  <thead>\n",
       "    <tr style=\"text-align: right;\">\n",
       "      <th></th>\n",
       "      <th>MS</th>\n",
       "      <th>married</th>\n",
       "    </tr>\n",
       "  </thead>\n",
       "  <tbody>\n",
       "    <tr>\n",
       "      <th>1</th>\n",
       "      <td>3.00</td>\n",
       "      <td>0.00</td>\n",
       "    </tr>\n",
       "    <tr>\n",
       "      <th>2</th>\n",
       "      <td>1.00</td>\n",
       "      <td>1.00</td>\n",
       "    </tr>\n",
       "    <tr>\n",
       "      <th>3</th>\n",
       "      <td>2.00</td>\n",
       "      <td>0.00</td>\n",
       "    </tr>\n",
       "  </tbody>\n",
       "</table>\n",
       "</div>"
      ],
      "text/plain": [
       "    MS  married\n",
       "1 3.00     0.00\n",
       "2 1.00     1.00\n",
       "3 2.00     0.00"
      ]
     },
     "metadata": {},
     "output_type": "display_data"
    }
   ],
   "source": [
    "# Labeling interviewees who reported not being married\n",
    "pulse['married'] = np.where(\n",
    "    (pulse.MS == 2) | \n",
    "    (pulse.MS == 3) | \n",
    "    (pulse.MS == 4) | \n",
    "    (pulse.MS == 5), 0, np.nan)\n",
    "\n",
    "# Labeling interviewees who being married\n",
    "pulse['married'] = np.where(pulse.MS == 1, 1, pulse.married)\n",
    "\n",
    "print('\\n', color.BOLD + 'Marital status columns' + color.END, '\\n')\n",
    "display(pulse[['MS', 'married']].head(3))"
   ]
  },
  {
   "cell_type": "markdown",
   "id": "naval-argument",
   "metadata": {},
   "source": [
    "### INCOME"
   ]
  },
  {
   "cell_type": "markdown",
   "id": "tribal-invention",
   "metadata": {},
   "source": [
    "I retrieved low-income limits data published in 2020 by the Department of Housing and Urban Development from https://www.huduser.gov/portal/datasets/il/il20/State-Incomelimits-Report-FY20r.pdf. I used SmallPDF to convert the documents into Excel files. I then filtered the data to only include low-income limits and added the <b>EST-ST</b> column with state codes as reported in the Census Pulse Survey data dictionary."
   ]
  },
  {
   "cell_type": "markdown",
   "id": "toxic-picnic",
   "metadata": {},
   "source": [
    "State income limits rely on household member counts. However, limits are only defined for households of up to 8 members. Larger households meet the 8-member limits. To make sure I could match all of the data, I create a new <b>member_count</b> column which reports the exact number of household members as reported in the <b>THHLD_NUMPER</b> survey column for households of 8 members or fewer. I record 8 for larger households. "
   ]
  },
  {
   "cell_type": "code",
   "execution_count": 14,
   "id": "serious-judges",
   "metadata": {},
   "outputs": [],
   "source": [
    "# Creating member counts col\n",
    "pulse['member_count'] = np.where(pulse.THHLD_NUMPER <= 8, pulse.THHLD_NUMPER, 8)"
   ]
  },
  {
   "cell_type": "markdown",
   "id": "published-sympathy",
   "metadata": {},
   "source": [
    "I import the HUD state low-income limits data."
   ]
  },
  {
   "cell_type": "code",
   "execution_count": 15,
   "id": "legal-concentrate",
   "metadata": {},
   "outputs": [
    {
     "name": "stdout",
     "output_type": "stream",
     "text": [
      "\n",
      " \u001b[1mState Low-Income Limits 2020\u001b[0m \n",
      "\n"
     ]
    },
    {
     "data": {
      "text/html": [
       "<div>\n",
       "<style scoped>\n",
       "    .dataframe tbody tr th:only-of-type {\n",
       "        vertical-align: middle;\n",
       "    }\n",
       "\n",
       "    .dataframe tbody tr th {\n",
       "        vertical-align: top;\n",
       "    }\n",
       "\n",
       "    .dataframe thead th {\n",
       "        text-align: right;\n",
       "    }\n",
       "</style>\n",
       "<table border=\"1\" class=\"dataframe\">\n",
       "  <thead>\n",
       "    <tr style=\"text-align: right;\">\n",
       "      <th></th>\n",
       "      <th>state</th>\n",
       "      <th>EST_ST</th>\n",
       "      <th>1</th>\n",
       "      <th>2</th>\n",
       "      <th>3</th>\n",
       "      <th>4</th>\n",
       "      <th>5</th>\n",
       "      <th>6</th>\n",
       "      <th>7</th>\n",
       "      <th>8</th>\n",
       "    </tr>\n",
       "  </thead>\n",
       "  <tbody>\n",
       "    <tr>\n",
       "      <th>0</th>\n",
       "      <td>ALABAMA</td>\n",
       "      <td>1</td>\n",
       "      <td>36550.00</td>\n",
       "      <td>41800.00</td>\n",
       "      <td>47000.00</td>\n",
       "      <td>52250.00</td>\n",
       "      <td>56400.00</td>\n",
       "      <td>60600.00</td>\n",
       "      <td>64800.00</td>\n",
       "      <td>68950.00</td>\n",
       "    </tr>\n",
       "    <tr>\n",
       "      <th>1</th>\n",
       "      <td>ALASKA</td>\n",
       "      <td>2</td>\n",
       "      <td>51650.00</td>\n",
       "      <td>59000.00</td>\n",
       "      <td>66400.00</td>\n",
       "      <td>73750.00</td>\n",
       "      <td>79650.00</td>\n",
       "      <td>85550.00</td>\n",
       "      <td>91450.00</td>\n",
       "      <td>97350.00</td>\n",
       "    </tr>\n",
       "    <tr>\n",
       "      <th>2</th>\n",
       "      <td>ARIZONA</td>\n",
       "      <td>4</td>\n",
       "      <td>40400.00</td>\n",
       "      <td>46150.00</td>\n",
       "      <td>51900.00</td>\n",
       "      <td>57700.00</td>\n",
       "      <td>62300.00</td>\n",
       "      <td>66900.00</td>\n",
       "      <td>71500.00</td>\n",
       "      <td>76150.00</td>\n",
       "    </tr>\n",
       "  </tbody>\n",
       "</table>\n",
       "</div>"
      ],
      "text/plain": [
       "     state  EST_ST        1        2        3        4        5        6  \\\n",
       "0  ALABAMA       1 36550.00 41800.00 47000.00 52250.00 56400.00 60600.00   \n",
       "1   ALASKA       2 51650.00 59000.00 66400.00 73750.00 79650.00 85550.00   \n",
       "2  ARIZONA       4 40400.00 46150.00 51900.00 57700.00 62300.00 66900.00   \n",
       "\n",
       "         7        8  \n",
       "0 64800.00 68950.00  \n",
       "1 91450.00 97350.00  \n",
       "2 71500.00 76150.00  "
      ]
     },
     "metadata": {},
     "output_type": "display_data"
    }
   ],
   "source": [
    "# Importing df\n",
    "lil = pd.read_csv('State-Incomelimits-Report-FY20r-lil.csv')\n",
    "\n",
    "print('\\n', color.BOLD + 'State Low-Income Limits 2020' + color.END, '\\n')\n",
    "display(lil.head(3))"
   ]
  },
  {
   "cell_type": "markdown",
   "id": "hundred-organic",
   "metadata": {},
   "source": [
    "I transpose the member count columns of the income data to create a more compact dataframe."
   ]
  },
  {
   "cell_type": "code",
   "execution_count": 16,
   "id": "broke-jonathan",
   "metadata": {},
   "outputs": [
    {
     "name": "stdout",
     "output_type": "stream",
     "text": [
      "\n",
      " \u001b[1mState Low-Income Limits 2020 - Transposed\u001b[0m \n",
      "\n"
     ]
    },
    {
     "data": {
      "text/html": [
       "<div>\n",
       "<style scoped>\n",
       "    .dataframe tbody tr th:only-of-type {\n",
       "        vertical-align: middle;\n",
       "    }\n",
       "\n",
       "    .dataframe tbody tr th {\n",
       "        vertical-align: top;\n",
       "    }\n",
       "\n",
       "    .dataframe thead th {\n",
       "        text-align: right;\n",
       "    }\n",
       "</style>\n",
       "<table border=\"1\" class=\"dataframe\">\n",
       "  <thead>\n",
       "    <tr style=\"text-align: right;\">\n",
       "      <th></th>\n",
       "      <th>state</th>\n",
       "      <th>EST_ST</th>\n",
       "      <th>member_count</th>\n",
       "      <th>low_income_limit</th>\n",
       "    </tr>\n",
       "  </thead>\n",
       "  <tbody>\n",
       "    <tr>\n",
       "      <th>0</th>\n",
       "      <td>ALABAMA</td>\n",
       "      <td>1</td>\n",
       "      <td>1</td>\n",
       "      <td>36550.00</td>\n",
       "    </tr>\n",
       "    <tr>\n",
       "      <th>1</th>\n",
       "      <td>ALASKA</td>\n",
       "      <td>2</td>\n",
       "      <td>1</td>\n",
       "      <td>51650.00</td>\n",
       "    </tr>\n",
       "    <tr>\n",
       "      <th>2</th>\n",
       "      <td>ARIZONA</td>\n",
       "      <td>4</td>\n",
       "      <td>1</td>\n",
       "      <td>40400.00</td>\n",
       "    </tr>\n",
       "  </tbody>\n",
       "</table>\n",
       "</div>"
      ],
      "text/plain": [
       "     state  EST_ST  member_count  low_income_limit\n",
       "0  ALABAMA       1             1          36550.00\n",
       "1   ALASKA       2             1          51650.00\n",
       "2  ARIZONA       4             1          40400.00"
      ]
     },
     "metadata": {},
     "output_type": "display_data"
    }
   ],
   "source": [
    "# Transposing df\n",
    "lil_t = lil.melt(id_vars=['state','EST_ST']).rename(columns={\n",
    "    'variable': 'member_count',\n",
    "    'value': 'low_income_limit'\n",
    "})\n",
    "# Converting member_count col to integer\n",
    "lil_t.member_count = lil_t.member_count.astype('int64')\n",
    "\n",
    "print('\\n', color.BOLD + 'State Low-Income Limits 2020 - Transposed' + color.END, '\\n')\n",
    "display(lil_t.head(3))"
   ]
  },
  {
   "cell_type": "markdown",
   "id": "express-living",
   "metadata": {},
   "source": [
    "I then left-merge the pulse dataframe with the income dataframe on the state code column, <b>EST_ST</b>, and household member count column, <b>member_count</b>. As a result, each row is assigned to the appropriate low-income limit for the state and household member count of the household it represents."
   ]
  },
  {
   "cell_type": "code",
   "execution_count": 17,
   "id": "failing-retail",
   "metadata": {},
   "outputs": [
    {
     "name": "stdout",
     "output_type": "stream",
     "text": [
      "\n",
      " \u001b[1mPulse & State Low-Income Limits data merge\u001b[0m \n",
      "\n"
     ]
    },
    {
     "data": {
      "text/html": [
       "<div>\n",
       "<style scoped>\n",
       "    .dataframe tbody tr th:only-of-type {\n",
       "        vertical-align: middle;\n",
       "    }\n",
       "\n",
       "    .dataframe tbody tr th {\n",
       "        vertical-align: top;\n",
       "    }\n",
       "\n",
       "    .dataframe thead th {\n",
       "        text-align: right;\n",
       "    }\n",
       "</style>\n",
       "<table border=\"1\" class=\"dataframe\">\n",
       "  <thead>\n",
       "    <tr style=\"text-align: right;\">\n",
       "      <th></th>\n",
       "      <th>Unnamed: 0</th>\n",
       "      <th>SCRAM</th>\n",
       "      <th>WEEK</th>\n",
       "      <th>EST_ST</th>\n",
       "      <th>EST_MSA</th>\n",
       "      <th>REGION</th>\n",
       "      <th>HWEIGHT_x</th>\n",
       "      <th>PWEIGHT</th>\n",
       "      <th>TBIRTH_YEAR</th>\n",
       "      <th>ABIRTH_YEAR</th>\n",
       "      <th>...</th>\n",
       "      <th>TBEDROOMS</th>\n",
       "      <th>HWEIGHT_y</th>\n",
       "      <th>HWEIGHT</th>\n",
       "      <th>kids</th>\n",
       "      <th>school_kids</th>\n",
       "      <th>recent_job_loss</th>\n",
       "      <th>married</th>\n",
       "      <th>member_count</th>\n",
       "      <th>state</th>\n",
       "      <th>low_income_limit</th>\n",
       "    </tr>\n",
       "  </thead>\n",
       "  <tbody>\n",
       "    <tr>\n",
       "      <th>0</th>\n",
       "      <td>1</td>\n",
       "      <td>V220000001S10011554410113</td>\n",
       "      <td>22.00</td>\n",
       "      <td>1.00</td>\n",
       "      <td>NaN</td>\n",
       "      <td>2.00</td>\n",
       "      <td>899.97</td>\n",
       "      <td>1683.63</td>\n",
       "      <td>1947.00</td>\n",
       "      <td>2.00</td>\n",
       "      <td>...</td>\n",
       "      <td>NaN</td>\n",
       "      <td>NaN</td>\n",
       "      <td>899.97</td>\n",
       "      <td>0</td>\n",
       "      <td>NaN</td>\n",
       "      <td>1.00</td>\n",
       "      <td>0.00</td>\n",
       "      <td>2.00</td>\n",
       "      <td>ALABAMA</td>\n",
       "      <td>41800.00</td>\n",
       "    </tr>\n",
       "    <tr>\n",
       "      <th>1</th>\n",
       "      <td>2</td>\n",
       "      <td>V220000001S15010024400123</td>\n",
       "      <td>22.00</td>\n",
       "      <td>1.00</td>\n",
       "      <td>NaN</td>\n",
       "      <td>2.00</td>\n",
       "      <td>2077.84</td>\n",
       "      <td>3887.14</td>\n",
       "      <td>1989.00</td>\n",
       "      <td>2.00</td>\n",
       "      <td>...</td>\n",
       "      <td>NaN</td>\n",
       "      <td>NaN</td>\n",
       "      <td>2077.84</td>\n",
       "      <td>1</td>\n",
       "      <td>1.00</td>\n",
       "      <td>0.00</td>\n",
       "      <td>1.00</td>\n",
       "      <td>6.00</td>\n",
       "      <td>ALABAMA</td>\n",
       "      <td>60600.00</td>\n",
       "    </tr>\n",
       "    <tr>\n",
       "      <th>2</th>\n",
       "      <td>3</td>\n",
       "      <td>V220000001S15010351400113</td>\n",
       "      <td>22.00</td>\n",
       "      <td>53.00</td>\n",
       "      <td>42660.00</td>\n",
       "      <td>4.00</td>\n",
       "      <td>3555.42</td>\n",
       "      <td>6731.73</td>\n",
       "      <td>1971.00</td>\n",
       "      <td>2.00</td>\n",
       "      <td>...</td>\n",
       "      <td>NaN</td>\n",
       "      <td>NaN</td>\n",
       "      <td>3555.42</td>\n",
       "      <td>0</td>\n",
       "      <td>NaN</td>\n",
       "      <td>1.00</td>\n",
       "      <td>0.00</td>\n",
       "      <td>2.00</td>\n",
       "      <td>WASHINGTON</td>\n",
       "      <td>57450.00</td>\n",
       "    </tr>\n",
       "  </tbody>\n",
       "</table>\n",
       "<p>3 rows × 237 columns</p>\n",
       "</div>"
      ],
      "text/plain": [
       "   Unnamed: 0                      SCRAM  WEEK  EST_ST  EST_MSA  REGION  \\\n",
       "0           1  V220000001S10011554410113 22.00    1.00      NaN    2.00   \n",
       "1           2  V220000001S15010024400123 22.00    1.00      NaN    2.00   \n",
       "2           3  V220000001S15010351400113 22.00   53.00 42660.00    4.00   \n",
       "\n",
       "   HWEIGHT_x  PWEIGHT  TBIRTH_YEAR  ABIRTH_YEAR  ...  TBEDROOMS  HWEIGHT_y  \\\n",
       "0     899.97  1683.63      1947.00         2.00  ...        NaN        NaN   \n",
       "1    2077.84  3887.14      1989.00         2.00  ...        NaN        NaN   \n",
       "2    3555.42  6731.73      1971.00         2.00  ...        NaN        NaN   \n",
       "\n",
       "   HWEIGHT  kids  school_kids  recent_job_loss  married  member_count  \\\n",
       "0   899.97     0          NaN             1.00     0.00          2.00   \n",
       "1  2077.84     1         1.00             0.00     1.00          6.00   \n",
       "2  3555.42     0          NaN             1.00     0.00          2.00   \n",
       "\n",
       "        state  low_income_limit  \n",
       "0     ALABAMA          41800.00  \n",
       "1     ALABAMA          60600.00  \n",
       "2  WASHINGTON          57450.00  \n",
       "\n",
       "[3 rows x 237 columns]"
      ]
     },
     "metadata": {},
     "output_type": "display_data"
    }
   ],
   "source": [
    "pulse = pd.merge(pulse, lil_t, on=['EST_ST', 'member_count'], how='left')      \n",
    "\n",
    "print('\\n', color.BOLD + 'Pulse & State Low-Income Limits data merge' + color.END, '\\n')\n",
    "display(pulse.head(3))"
   ]
  },
  {
   "cell_type": "markdown",
   "id": "polyphonic-intensity",
   "metadata": {},
   "source": [
    "The Census Pulse data does not provide exact household incomes. Instead, it provides income brackets labeled with integers from 1 to 8 as follows:\n",
    "\n",
    "1) Less than \\\\$25,000  \n",
    "2) \\\\$25,000 - \\\\$34,999  \n",
    "3) \\\\$35,000 - \\\\$49,999   \n",
    "4) \\\\$50,000 - \\\\$74,999   \n",
    "5) \\\\$75,000 - \\\\$99,999   \n",
    "6) \\\\$100,000 - \\\\$149,999   \n",
    "7) \\\\$150,000 - \\\\$199,999\n",
    "8) \\\\$200,000 and above"
   ]
  },
  {
   "cell_type": "markdown",
   "id": "tough-father",
   "metadata": {},
   "source": [
    "I use the same brackets to categorize low-income limits in a new column, <b>low_income_limit_cat</b>."
   ]
  },
  {
   "cell_type": "code",
   "execution_count": 18,
   "id": "quarterly-fifteen",
   "metadata": {},
   "outputs": [],
   "source": [
    "# Creating new income cat col\n",
    "pulse['low_income_limit_cat'] = np.where(pulse.low_income_limit < 25000, 1, np.nan)\n",
    "\n",
    "pulse['low_income_limit_cat'] = np.where(\n",
    "    (pulse.low_income_limit >= 25000) & \n",
    "    (pulse.low_income_limit <= 34999), 2, pulse.low_income_limit_cat)\n",
    "\n",
    "pulse['low_income_limit_cat'] = np.where(\n",
    "    (pulse.low_income_limit >= 35000) & \n",
    "    (pulse.low_income_limit <= 49999), 3, pulse.low_income_limit_cat)\n",
    "\n",
    "pulse['low_income_limit_cat'] = np.where(\n",
    "    (pulse.low_income_limit >= 50000) & \n",
    "    (pulse.low_income_limit <= 74999), 4, pulse.low_income_limit_cat)\n",
    "\n",
    "pulse['low_income_limit_cat'] = np.where(\n",
    "    (pulse.low_income_limit >= 75000) & \n",
    "    (pulse.low_income_limit <= 99999), 5, pulse.low_income_limit_cat)\n",
    "\n",
    "pulse['low_income_limit_cat'] = np.where(\n",
    "    (pulse.low_income_limit >= 100000) & \n",
    "    (pulse.low_income_limit <= 149999), 6, pulse.low_income_limit_cat)"
   ]
  },
  {
   "cell_type": "markdown",
   "id": "animal-matthew",
   "metadata": {},
   "source": [
    "I specify conditions only for the first categories because low income limits do not top $149,999 across all states."
   ]
  },
  {
   "cell_type": "code",
   "execution_count": 19,
   "id": "overall-georgia",
   "metadata": {},
   "outputs": [
    {
     "name": "stdout",
     "output_type": "stream",
     "text": [
      "\n",
      " \u001b[1mLow-income limit categories:\u001b[0m [2. 3. 4. 5. 6.] \n",
      "\n"
     ]
    }
   ],
   "source": [
    "print('\\n', color.BOLD + 'Low-income limit categories:' + color.END, pulse.low_income_limit_cat.sort_values().unique(), '\\n')"
   ]
  },
  {
   "cell_type": "markdown",
   "id": "fewer-slovakia",
   "metadata": {},
   "source": [
    "Finally, I compare the income categories reported by each household in the survey to the low-income limit category which corresponds to that household. "
   ]
  },
  {
   "cell_type": "code",
   "execution_count": 20,
   "id": "proud-hunger",
   "metadata": {},
   "outputs": [
    {
     "name": "stdout",
     "output_type": "stream",
     "text": [
      "\n",
      " \u001b[1mLow-income limit comparison columns\u001b[0m \n",
      "\n"
     ]
    },
    {
     "data": {
      "text/html": [
       "<div>\n",
       "<style scoped>\n",
       "    .dataframe tbody tr th:only-of-type {\n",
       "        vertical-align: middle;\n",
       "    }\n",
       "\n",
       "    .dataframe tbody tr th {\n",
       "        vertical-align: top;\n",
       "    }\n",
       "\n",
       "    .dataframe thead th {\n",
       "        text-align: right;\n",
       "    }\n",
       "</style>\n",
       "<table border=\"1\" class=\"dataframe\">\n",
       "  <thead>\n",
       "    <tr style=\"text-align: right;\">\n",
       "      <th></th>\n",
       "      <th>INCOME</th>\n",
       "      <th>low_income_limit</th>\n",
       "      <th>low_income_limit_cat</th>\n",
       "      <th>low_income</th>\n",
       "    </tr>\n",
       "  </thead>\n",
       "  <tbody>\n",
       "    <tr>\n",
       "      <th>2177516</th>\n",
       "      <td>3.00</td>\n",
       "      <td>57400.00</td>\n",
       "      <td>4.00</td>\n",
       "      <td>1</td>\n",
       "    </tr>\n",
       "    <tr>\n",
       "      <th>2177517</th>\n",
       "      <td>4.00</td>\n",
       "      <td>44650.00</td>\n",
       "      <td>3.00</td>\n",
       "      <td>0</td>\n",
       "    </tr>\n",
       "    <tr>\n",
       "      <th>2177518</th>\n",
       "      <td>4.00</td>\n",
       "      <td>63750.00</td>\n",
       "      <td>4.00</td>\n",
       "      <td>1</td>\n",
       "    </tr>\n",
       "    <tr>\n",
       "      <th>2177519</th>\n",
       "      <td>4.00</td>\n",
       "      <td>44650.00</td>\n",
       "      <td>3.00</td>\n",
       "      <td>0</td>\n",
       "    </tr>\n",
       "    <tr>\n",
       "      <th>2177520</th>\n",
       "      <td>5.00</td>\n",
       "      <td>51000.00</td>\n",
       "      <td>4.00</td>\n",
       "      <td>0</td>\n",
       "    </tr>\n",
       "  </tbody>\n",
       "</table>\n",
       "</div>"
      ],
      "text/plain": [
       "         INCOME  low_income_limit  low_income_limit_cat  low_income\n",
       "2177516    3.00          57400.00                  4.00           1\n",
       "2177517    4.00          44650.00                  3.00           0\n",
       "2177518    4.00          63750.00                  4.00           1\n",
       "2177519    4.00          44650.00                  3.00           0\n",
       "2177520    5.00          51000.00                  4.00           0"
      ]
     },
     "metadata": {},
     "output_type": "display_data"
    }
   ],
   "source": [
    "pulse['low_income'] = np.where(pulse.INCOME <= pulse.low_income_limit_cat, 1, 0)\n",
    "\n",
    "print('\\n', color.BOLD + 'Low-income limit comparison columns' + color.END, '\\n')\n",
    "display(pulse[['INCOME', 'low_income_limit', 'low_income_limit_cat', 'low_income']].tail(5))"
   ]
  },
  {
   "cell_type": "code",
   "execution_count": 21,
   "id": "dress-angel",
   "metadata": {},
   "outputs": [],
   "source": [
    "# Storing df\n",
    "pulse.to_csv('pulse.csv')"
   ]
  }
 ],
 "metadata": {
  "kernelspec": {
   "display_name": "Python 3",
   "language": "python",
   "name": "python3"
  },
  "language_info": {
   "codemirror_mode": {
    "name": "ipython",
    "version": 3
   },
   "file_extension": ".py",
   "mimetype": "text/x-python",
   "name": "python",
   "nbconvert_exporter": "python",
   "pygments_lexer": "ipython3",
   "version": "3.8.1"
  }
 },
 "nbformat": 4,
 "nbformat_minor": 5
}
