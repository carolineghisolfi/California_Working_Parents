{
 "cells": [
  {
   "cell_type": "markdown",
   "id": "hybrid-minimum",
   "metadata": {},
   "source": [
    "# THE PANDEMIC'S WORKING PARENTS\n",
    "\n",
    "#### The Project\n",
    "\n",
    "The purpose of this project is to shed light on the challenges that working parents are facing during the 2020-2021 COVID-19 pandemic. My analysis of U.S. Census Household Pulse Survey data reveals that in 2020 California’s\n",
    "job market lost the most parents with schoolchildren in the country, trailing only Nevada and\n",
    "Michigan. In 2020, California households with PreK-12 children were significantly more likely to lose employment income than parents without children. \n",
    "\n",
    "\n",
    "#### The Data\n",
    "I downloaded the data for weeks 1 through 25 of the pandemic from the U.S. Census Bureau Household Pulse Survey Public Use files (https://www.census.gov/programs-surveys/household-pulse-survey/datasets.html). Each week's data is published in a separate csv file. The Census also publishes weekly data dictionaries in excel format. "
   ]
  },
  {
   "cell_type": "markdown",
   "id": "suited-conditioning",
   "metadata": {},
   "source": [
    "## Importing tools"
   ]
  },
  {
   "cell_type": "code",
   "execution_count": 1,
   "id": "functioning-plasma",
   "metadata": {},
   "outputs": [],
   "source": [
    "import pandas as pd\n",
    "import numpy as np\n",
    "import os\n",
    "import matplotlib as plt\n",
    "import tabula\n",
    "\n",
    "pd.options.mode.chained_assignment = None # None|'warn'|'raise'\n",
    "pd.set_option('display.float_format', '{:.2f}'.format)\n",
    "\n",
    "class color:\n",
    "   BOLD = '\\033[1m'\n",
    "   END = '\\033[0m'"
   ]
  },
  {
   "cell_type": "markdown",
   "id": "checked-spread",
   "metadata": {},
   "source": [
    "<hr>"
   ]
  },
  {
   "cell_type": "markdown",
   "id": "pending-bread",
   "metadata": {},
   "source": [
    "## Importing the data"
   ]
  },
  {
   "cell_type": "markdown",
   "id": "textile-links",
   "metadata": {},
   "source": [
    "I create an empty list to store the Census Pulse Survey files I downloaded. I then create a loop which imports each file and adds it to my list. "
   ]
  },
  {
   "cell_type": "code",
   "execution_count": 2,
   "id": "exceptional-shooting",
   "metadata": {},
   "outputs": [],
   "source": [
    "# creating empty list to store imported dfs\n",
    "pulse_file_lst = []\n",
    "\n",
    "# looping through, importing and adding dfs in folder to file_lst\n",
    "for file_name in os.listdir('pulse_files')[:-1]:\n",
    "    path = '/Users/carolineghisolfi/Desktop/winter_2021/dataj_pulse/pulse_files/' + file_name\n",
    "    file = pd.read_csv(path, \n",
    "                       dtype={\n",
    "                           'WEEK': int\n",
    "                       })\n",
    "    pulse_file_lst.append(file)"
   ]
  },
  {
   "cell_type": "code",
   "execution_count": 3,
   "id": "royal-georgia",
   "metadata": {},
   "outputs": [
    {
     "name": "stdout",
     "output_type": "stream",
     "text": [
      "\n",
      " \u001b[1mFirst week\u001b[0m \n",
      "\n"
     ]
    },
    {
     "data": {
      "text/html": [
       "<div>\n",
       "<style scoped>\n",
       "    .dataframe tbody tr th:only-of-type {\n",
       "        vertical-align: middle;\n",
       "    }\n",
       "\n",
       "    .dataframe tbody tr th {\n",
       "        vertical-align: top;\n",
       "    }\n",
       "\n",
       "    .dataframe thead th {\n",
       "        text-align: right;\n",
       "    }\n",
       "</style>\n",
       "<table border=\"1\" class=\"dataframe\">\n",
       "  <thead>\n",
       "    <tr style=\"text-align: right;\">\n",
       "      <th></th>\n",
       "      <th>SCRAM</th>\n",
       "      <th>WEEK</th>\n",
       "      <th>EST_ST</th>\n",
       "      <th>EST_MSA</th>\n",
       "      <th>REGION</th>\n",
       "      <th>HWEIGHT</th>\n",
       "      <th>PWEIGHT</th>\n",
       "      <th>TBIRTH_YEAR</th>\n",
       "      <th>ABIRTH_YEAR</th>\n",
       "      <th>EGENDER</th>\n",
       "      <th>...</th>\n",
       "      <th>PSWHYCHG1</th>\n",
       "      <th>PSWHYCHG2</th>\n",
       "      <th>PSWHYCHG3</th>\n",
       "      <th>PSWHYCHG4</th>\n",
       "      <th>PSWHYCHG5</th>\n",
       "      <th>PSWHYCHG6</th>\n",
       "      <th>PSWHYCHG7</th>\n",
       "      <th>PSWHYCHG8</th>\n",
       "      <th>PSWHYCHG9</th>\n",
       "      <th>INCOME</th>\n",
       "    </tr>\n",
       "  </thead>\n",
       "  <tbody>\n",
       "    <tr>\n",
       "      <th>0</th>\n",
       "      <td>V220000001S10011352410113</td>\n",
       "      <td>22</td>\n",
       "      <td>1</td>\n",
       "      <td>NaN</td>\n",
       "      <td>2</td>\n",
       "      <td>1170.79</td>\n",
       "      <td>3285.40</td>\n",
       "      <td>1978</td>\n",
       "      <td>2</td>\n",
       "      <td>2</td>\n",
       "      <td>...</td>\n",
       "      <td>-88</td>\n",
       "      <td>-88</td>\n",
       "      <td>-88</td>\n",
       "      <td>-88</td>\n",
       "      <td>-88</td>\n",
       "      <td>-88</td>\n",
       "      <td>-88</td>\n",
       "      <td>-88</td>\n",
       "      <td>-88</td>\n",
       "      <td>-88</td>\n",
       "    </tr>\n",
       "    <tr>\n",
       "      <th>1</th>\n",
       "      <td>V220000001S10011554410113</td>\n",
       "      <td>22</td>\n",
       "      <td>1</td>\n",
       "      <td>NaN</td>\n",
       "      <td>2</td>\n",
       "      <td>899.97</td>\n",
       "      <td>1683.63</td>\n",
       "      <td>1947</td>\n",
       "      <td>2</td>\n",
       "      <td>2</td>\n",
       "      <td>...</td>\n",
       "      <td>-99</td>\n",
       "      <td>-99</td>\n",
       "      <td>-99</td>\n",
       "      <td>1</td>\n",
       "      <td>-99</td>\n",
       "      <td>1</td>\n",
       "      <td>-99</td>\n",
       "      <td>-99</td>\n",
       "      <td>-99</td>\n",
       "      <td>4</td>\n",
       "    </tr>\n",
       "    <tr>\n",
       "      <th>2</th>\n",
       "      <td>V220000001S15010024400123</td>\n",
       "      <td>22</td>\n",
       "      <td>1</td>\n",
       "      <td>NaN</td>\n",
       "      <td>2</td>\n",
       "      <td>2077.84</td>\n",
       "      <td>3887.14</td>\n",
       "      <td>1989</td>\n",
       "      <td>2</td>\n",
       "      <td>1</td>\n",
       "      <td>...</td>\n",
       "      <td>-88</td>\n",
       "      <td>-88</td>\n",
       "      <td>-88</td>\n",
       "      <td>-88</td>\n",
       "      <td>-88</td>\n",
       "      <td>-88</td>\n",
       "      <td>-88</td>\n",
       "      <td>-88</td>\n",
       "      <td>-88</td>\n",
       "      <td>5</td>\n",
       "    </tr>\n",
       "  </tbody>\n",
       "</table>\n",
       "<p>3 rows × 204 columns</p>\n",
       "</div>"
      ],
      "text/plain": [
       "                       SCRAM  WEEK  EST_ST  EST_MSA  REGION  HWEIGHT  PWEIGHT  \\\n",
       "0  V220000001S10011352410113    22       1      NaN       2  1170.79  3285.40   \n",
       "1  V220000001S10011554410113    22       1      NaN       2   899.97  1683.63   \n",
       "2  V220000001S15010024400123    22       1      NaN       2  2077.84  3887.14   \n",
       "\n",
       "   TBIRTH_YEAR  ABIRTH_YEAR  EGENDER  ...  PSWHYCHG1  PSWHYCHG2  PSWHYCHG3  \\\n",
       "0         1978            2        2  ...        -88        -88        -88   \n",
       "1         1947            2        2  ...        -99        -99        -99   \n",
       "2         1989            2        1  ...        -88        -88        -88   \n",
       "\n",
       "   PSWHYCHG4  PSWHYCHG5  PSWHYCHG6  PSWHYCHG7  PSWHYCHG8  PSWHYCHG9  INCOME  \n",
       "0        -88        -88        -88        -88        -88        -88     -88  \n",
       "1          1        -99          1        -99        -99        -99       4  \n",
       "2        -88        -88        -88        -88        -88        -88       5  \n",
       "\n",
       "[3 rows x 204 columns]"
      ]
     },
     "metadata": {},
     "output_type": "display_data"
    },
    {
     "name": "stdout",
     "output_type": "stream",
     "text": [
      "<class 'pandas.core.frame.DataFrame'>\n",
      "RangeIndex: 68348 entries, 0 to 68347\n",
      "Columns: 204 entries, SCRAM to INCOME\n",
      "dtypes: float64(4), int64(199), object(1)\n",
      "memory usage: 106.4+ MB\n"
     ]
    },
    {
     "data": {
      "text/plain": [
       "None"
      ]
     },
     "metadata": {},
     "output_type": "display_data"
    }
   ],
   "source": [
    "print('\\n', color.BOLD + 'First week' + color.END, '\\n')\n",
    "display(pulse_file_lst[0].head(3))\n",
    "display(pulse_file_lst[0].info())"
   ]
  },
  {
   "cell_type": "markdown",
   "id": "identified-insurance",
   "metadata": {},
   "source": [
    "I create a master <b>pulse</b> dataframe by concatenating all the files in my list. "
   ]
  },
  {
   "cell_type": "code",
   "execution_count": 4,
   "id": "otherwise-suggestion",
   "metadata": {},
   "outputs": [
    {
     "name": "stdout",
     "output_type": "stream",
     "text": [
      "\n",
      " \u001b[1mWeeks 1 through 25\u001b[0m \n",
      "\n"
     ]
    },
    {
     "data": {
      "text/html": [
       "<div>\n",
       "<style scoped>\n",
       "    .dataframe tbody tr th:only-of-type {\n",
       "        vertical-align: middle;\n",
       "    }\n",
       "\n",
       "    .dataframe tbody tr th {\n",
       "        vertical-align: top;\n",
       "    }\n",
       "\n",
       "    .dataframe thead th {\n",
       "        text-align: right;\n",
       "    }\n",
       "</style>\n",
       "<table border=\"1\" class=\"dataframe\">\n",
       "  <thead>\n",
       "    <tr style=\"text-align: right;\">\n",
       "      <th></th>\n",
       "      <th>SCRAM</th>\n",
       "      <th>WEEK</th>\n",
       "      <th>EST_ST</th>\n",
       "      <th>EST_MSA</th>\n",
       "      <th>REGION</th>\n",
       "      <th>HWEIGHT</th>\n",
       "      <th>PWEIGHT</th>\n",
       "      <th>TBIRTH_YEAR</th>\n",
       "      <th>ABIRTH_YEAR</th>\n",
       "      <th>EGENDER</th>\n",
       "      <th>...</th>\n",
       "      <th>SNAPMNTH4</th>\n",
       "      <th>SNAPMNTH5</th>\n",
       "      <th>SNAPMNTH6</th>\n",
       "      <th>SNAPMNTH7</th>\n",
       "      <th>SNAPMNTH8</th>\n",
       "      <th>SNAPMNTH9</th>\n",
       "      <th>SNAPMNTH10</th>\n",
       "      <th>SNAPMNTH11</th>\n",
       "      <th>SNAPMNTH12</th>\n",
       "      <th>TBEDROOMS</th>\n",
       "    </tr>\n",
       "  </thead>\n",
       "  <tbody>\n",
       "    <tr>\n",
       "      <th>0</th>\n",
       "      <td>V220000001S10011352410113</td>\n",
       "      <td>22</td>\n",
       "      <td>1</td>\n",
       "      <td>NaN</td>\n",
       "      <td>2.00</td>\n",
       "      <td>1170.79</td>\n",
       "      <td>3285.40</td>\n",
       "      <td>1978</td>\n",
       "      <td>2</td>\n",
       "      <td>2</td>\n",
       "      <td>...</td>\n",
       "      <td>NaN</td>\n",
       "      <td>NaN</td>\n",
       "      <td>NaN</td>\n",
       "      <td>NaN</td>\n",
       "      <td>NaN</td>\n",
       "      <td>NaN</td>\n",
       "      <td>NaN</td>\n",
       "      <td>NaN</td>\n",
       "      <td>NaN</td>\n",
       "      <td>NaN</td>\n",
       "    </tr>\n",
       "    <tr>\n",
       "      <th>1</th>\n",
       "      <td>V220000001S10011554410113</td>\n",
       "      <td>22</td>\n",
       "      <td>1</td>\n",
       "      <td>NaN</td>\n",
       "      <td>2.00</td>\n",
       "      <td>899.97</td>\n",
       "      <td>1683.63</td>\n",
       "      <td>1947</td>\n",
       "      <td>2</td>\n",
       "      <td>2</td>\n",
       "      <td>...</td>\n",
       "      <td>NaN</td>\n",
       "      <td>NaN</td>\n",
       "      <td>NaN</td>\n",
       "      <td>NaN</td>\n",
       "      <td>NaN</td>\n",
       "      <td>NaN</td>\n",
       "      <td>NaN</td>\n",
       "      <td>NaN</td>\n",
       "      <td>NaN</td>\n",
       "      <td>NaN</td>\n",
       "    </tr>\n",
       "    <tr>\n",
       "      <th>2</th>\n",
       "      <td>V220000001S15010024400123</td>\n",
       "      <td>22</td>\n",
       "      <td>1</td>\n",
       "      <td>NaN</td>\n",
       "      <td>2.00</td>\n",
       "      <td>2077.84</td>\n",
       "      <td>3887.14</td>\n",
       "      <td>1989</td>\n",
       "      <td>2</td>\n",
       "      <td>1</td>\n",
       "      <td>...</td>\n",
       "      <td>NaN</td>\n",
       "      <td>NaN</td>\n",
       "      <td>NaN</td>\n",
       "      <td>NaN</td>\n",
       "      <td>NaN</td>\n",
       "      <td>NaN</td>\n",
       "      <td>NaN</td>\n",
       "      <td>NaN</td>\n",
       "      <td>NaN</td>\n",
       "      <td>NaN</td>\n",
       "    </tr>\n",
       "  </tbody>\n",
       "</table>\n",
       "<p>3 rows × 226 columns</p>\n",
       "</div>"
      ],
      "text/plain": [
       "                       SCRAM  WEEK  EST_ST  EST_MSA  REGION  HWEIGHT  PWEIGHT  \\\n",
       "0  V220000001S10011352410113    22       1      NaN    2.00  1170.79  3285.40   \n",
       "1  V220000001S10011554410113    22       1      NaN    2.00   899.97  1683.63   \n",
       "2  V220000001S15010024400123    22       1      NaN    2.00  2077.84  3887.14   \n",
       "\n",
       "   TBIRTH_YEAR  ABIRTH_YEAR  EGENDER  ...  SNAPMNTH4  SNAPMNTH5  SNAPMNTH6  \\\n",
       "0         1978            2        2  ...        NaN        NaN        NaN   \n",
       "1         1947            2        2  ...        NaN        NaN        NaN   \n",
       "2         1989            2        1  ...        NaN        NaN        NaN   \n",
       "\n",
       "   SNAPMNTH7  SNAPMNTH8  SNAPMNTH9  SNAPMNTH10  SNAPMNTH11  SNAPMNTH12  \\\n",
       "0        NaN        NaN        NaN         NaN         NaN         NaN   \n",
       "1        NaN        NaN        NaN         NaN         NaN         NaN   \n",
       "2        NaN        NaN        NaN         NaN         NaN         NaN   \n",
       "\n",
       "   TBEDROOMS  \n",
       "0        NaN  \n",
       "1        NaN  \n",
       "2        NaN  \n",
       "\n",
       "[3 rows x 226 columns]"
      ]
     },
     "metadata": {},
     "output_type": "display_data"
    },
    {
     "name": "stdout",
     "output_type": "stream",
     "text": [
      "<class 'pandas.core.frame.DataFrame'>\n",
      "Int64Index: 2167927 entries, 0 to 108061\n",
      "Columns: 226 entries, SCRAM to TBEDROOMS\n",
      "dtypes: float64(153), int64(72), object(1)\n",
      "memory usage: 3.7+ GB\n"
     ]
    },
    {
     "data": {
      "text/plain": [
       "None"
      ]
     },
     "metadata": {},
     "output_type": "display_data"
    },
    {
     "name": "stdout",
     "output_type": "stream",
     "text": [
      "\n",
      " \u001b[1mWeeks in dataframe:\u001b[0m [ 1  2  3  4  5  6  7  8  9 10 11 12 13 14 15 16 17 18 19 20 21 22 23 24\n",
      " 25]\n"
     ]
    }
   ],
   "source": [
    "# concatenating dfs in master\n",
    "pulse = pd.concat(pulse_file_lst)\n",
    "\n",
    "print('\\n', color.BOLD + 'Weeks 1 through 25' + color.END, '\\n')\n",
    "display(pulse.head(3))\n",
    "display(pulse.info())\n",
    "\n",
    "print('\\n', color.BOLD + 'Weeks in dataframe:' + color.END, np.sort(pulse.WEEK.unique()))"
   ]
  },
  {
   "cell_type": "markdown",
   "id": "thrown-rehabilitation",
   "metadata": {},
   "source": [
    "In the process of cleaning this database, I remove rows with missing answers to questions important to my analysis. I record the length of the original database now so I can compare it as I go. "
   ]
  },
  {
   "cell_type": "code",
   "execution_count": 5,
   "id": "opposed-contribution",
   "metadata": {},
   "outputs": [
    {
     "name": "stdout",
     "output_type": "stream",
     "text": [
      "\n",
      " \u001b[1mOriginal row count:\u001b[0m 2167927\n"
     ]
    }
   ],
   "source": [
    "original_length = len(pulse)\n",
    "print('\\n', color.BOLD + 'Original row count:' + color.END, original_length)"
   ]
  },
  {
   "cell_type": "markdown",
   "id": "fewer-rebecca",
   "metadata": {},
   "source": [
    "<hr>"
   ]
  },
  {
   "cell_type": "markdown",
   "id": "exceptional-footage",
   "metadata": {},
   "source": [
    "# Adjusting Weights"
   ]
  },
  {
   "cell_type": "markdown",
   "id": "weekly-flesh",
   "metadata": {},
   "source": [
    "The Pulse Survey underwent small but significant changes between phase 1, and phases 2 and 3 (an overview of these changes can be found <a href='https://www.huduser.gov/portal/pdredge/pdr-edge-frm-asst-sec-092820.html'>here</a>). For example, while the survey was conducted on a weekly basis in the first phase, it became biweekly in the second and third. \n",
    "\n",
    "Most importantly to this analysis, the Census introduced a new household weight variable in phases 2 and 3. While in phase 1 (weeks 1-12) household weights were provided in  separate weekly excel sheets, in phases 2 and 3 the Census included household weights in the main database's <b>HWEIGHT</b> column. "
   ]
  },
  {
   "cell_type": "code",
   "execution_count": 6,
   "id": "guilty-crisis",
   "metadata": {},
   "outputs": [
    {
     "data": {
      "text/plain": [
       "WEEK\n",
       "1      NaN\n",
       "2      NaN\n",
       "3      NaN\n",
       "4      NaN\n",
       "5      NaN\n",
       "6      NaN\n",
       "7      NaN\n",
       "8      NaN\n",
       "9      NaN\n",
       "10     NaN\n",
       "11     NaN\n",
       "12     NaN\n",
       "13   19.99\n",
       "14   16.30\n",
       "15   22.25\n",
       "16    9.02\n",
       "17   20.99\n",
       "18   25.55\n",
       "19   31.13\n",
       "20   17.11\n",
       "21   32.51\n",
       "22   31.62\n",
       "23   22.93\n",
       "24   20.27\n",
       "25   32.90\n",
       "Name: HWEIGHT, dtype: float64"
      ]
     },
     "execution_count": 6,
     "metadata": {},
     "output_type": "execute_result"
    }
   ],
   "source": [
    "pulse[['HWEIGHT', 'WEEK']].groupby(by='WEEK')['HWEIGHT'].min()"
   ]
  },
  {
   "cell_type": "markdown",
   "id": "arctic-tomato",
   "metadata": {},
   "source": [
    "Once again, I create an empty list and create a loop which stores the weight files in the list. Then, I concatenate the weight files in a master dataframe named <b>weights</b>."
   ]
  },
  {
   "cell_type": "code",
   "execution_count": 7,
   "id": "improved-module",
   "metadata": {},
   "outputs": [],
   "source": [
    "# creating empty list to store imported dfs\n",
    "weight_file_lst = []\n",
    "\n",
    "# looping through, importing and adding dfs in folder to file_lst\n",
    "for file_name in os.listdir('weight_files')[:-1]:\n",
    "    path = '/Users/carolineghisolfi/Desktop/winter_2021/dataj_pulse/weight_files/' + file_name\n",
    "    file = pd.read_csv(path)\n",
    "    weight_file_lst.append(file)\n",
    "    \n",
    "# concatenating dfs in master\n",
    "weights = pd.concat(weight_file_lst)"
   ]
  },
  {
   "cell_type": "code",
   "execution_count": 8,
   "id": "accessory-defendant",
   "metadata": {},
   "outputs": [
    {
     "name": "stdout",
     "output_type": "stream",
     "text": [
      "\n",
      " \u001b[1mPhase 1 weights\u001b[0m \n",
      "\n"
     ]
    },
    {
     "data": {
      "text/html": [
       "<div>\n",
       "<style scoped>\n",
       "    .dataframe tbody tr th:only-of-type {\n",
       "        vertical-align: middle;\n",
       "    }\n",
       "\n",
       "    .dataframe tbody tr th {\n",
       "        vertical-align: top;\n",
       "    }\n",
       "\n",
       "    .dataframe thead th {\n",
       "        text-align: right;\n",
       "    }\n",
       "</style>\n",
       "<table border=\"1\" class=\"dataframe\">\n",
       "  <thead>\n",
       "    <tr style=\"text-align: right;\">\n",
       "      <th></th>\n",
       "      <th>WEEK</th>\n",
       "      <th>SCRAM</th>\n",
       "      <th>HWEIGHT</th>\n",
       "      <th>HWEIGHT1</th>\n",
       "      <th>HWEIGHT2</th>\n",
       "      <th>HWEIGHT3</th>\n",
       "      <th>HWEIGHT4</th>\n",
       "      <th>HWEIGHT5</th>\n",
       "      <th>HWEIGHT6</th>\n",
       "      <th>HWEIGHT7</th>\n",
       "      <th>...</th>\n",
       "      <th>HWEIGHT71</th>\n",
       "      <th>HWEIGHT72</th>\n",
       "      <th>HWEIGHT73</th>\n",
       "      <th>HWEIGHT74</th>\n",
       "      <th>HWEIGHT75</th>\n",
       "      <th>HWEIGHT76</th>\n",
       "      <th>HWEIGHT77</th>\n",
       "      <th>HWEIGHT78</th>\n",
       "      <th>HWEIGHT79</th>\n",
       "      <th>HWEIGHT80</th>\n",
       "    </tr>\n",
       "  </thead>\n",
       "  <tbody>\n",
       "    <tr>\n",
       "      <th>0</th>\n",
       "      <td>1</td>\n",
       "      <td>V010000001S10011099370111</td>\n",
       "      <td>1074.75</td>\n",
       "      <td>1074.75</td>\n",
       "      <td>1133.46</td>\n",
       "      <td>832.28</td>\n",
       "      <td>2107.00</td>\n",
       "      <td>1110.27</td>\n",
       "      <td>290.29</td>\n",
       "      <td>1861.68</td>\n",
       "      <td>...</td>\n",
       "      <td>914.35</td>\n",
       "      <td>1167.75</td>\n",
       "      <td>328.65</td>\n",
       "      <td>1024.18</td>\n",
       "      <td>1707.99</td>\n",
       "      <td>992.20</td>\n",
       "      <td>1227.19</td>\n",
       "      <td>1658.08</td>\n",
       "      <td>934.61</td>\n",
       "      <td>1263.89</td>\n",
       "    </tr>\n",
       "    <tr>\n",
       "      <th>1</th>\n",
       "      <td>1</td>\n",
       "      <td>V010000001S10011900470112</td>\n",
       "      <td>2147.82</td>\n",
       "      <td>2147.82</td>\n",
       "      <td>3672.59</td>\n",
       "      <td>565.94</td>\n",
       "      <td>2235.81</td>\n",
       "      <td>3380.11</td>\n",
       "      <td>2198.79</td>\n",
       "      <td>2147.58</td>\n",
       "      <td>...</td>\n",
       "      <td>3117.82</td>\n",
       "      <td>2363.21</td>\n",
       "      <td>574.87</td>\n",
       "      <td>3596.52</td>\n",
       "      <td>597.45</td>\n",
       "      <td>2264.79</td>\n",
       "      <td>2067.21</td>\n",
       "      <td>2334.59</td>\n",
       "      <td>1993.23</td>\n",
       "      <td>2214.06</td>\n",
       "    </tr>\n",
       "    <tr>\n",
       "      <th>2</th>\n",
       "      <td>1</td>\n",
       "      <td>V010000001S18010744940111</td>\n",
       "      <td>842.56</td>\n",
       "      <td>842.56</td>\n",
       "      <td>1578.21</td>\n",
       "      <td>223.67</td>\n",
       "      <td>927.74</td>\n",
       "      <td>1864.36</td>\n",
       "      <td>612.33</td>\n",
       "      <td>855.89</td>\n",
       "      <td>...</td>\n",
       "      <td>1433.85</td>\n",
       "      <td>746.41</td>\n",
       "      <td>279.66</td>\n",
       "      <td>1126.62</td>\n",
       "      <td>295.25</td>\n",
       "      <td>915.62</td>\n",
       "      <td>701.33</td>\n",
       "      <td>1091.08</td>\n",
       "      <td>716.94</td>\n",
       "      <td>841.38</td>\n",
       "    </tr>\n",
       "  </tbody>\n",
       "</table>\n",
       "<p>3 rows × 83 columns</p>\n",
       "</div>"
      ],
      "text/plain": [
       "   WEEK                      SCRAM  HWEIGHT  HWEIGHT1  HWEIGHT2  HWEIGHT3  \\\n",
       "0     1  V010000001S10011099370111  1074.75   1074.75   1133.46    832.28   \n",
       "1     1  V010000001S10011900470112  2147.82   2147.82   3672.59    565.94   \n",
       "2     1  V010000001S18010744940111   842.56    842.56   1578.21    223.67   \n",
       "\n",
       "   HWEIGHT4  HWEIGHT5  HWEIGHT6  HWEIGHT7  ...  HWEIGHT71  HWEIGHT72  \\\n",
       "0   2107.00   1110.27    290.29   1861.68  ...     914.35    1167.75   \n",
       "1   2235.81   3380.11   2198.79   2147.58  ...    3117.82    2363.21   \n",
       "2    927.74   1864.36    612.33    855.89  ...    1433.85     746.41   \n",
       "\n",
       "   HWEIGHT73  HWEIGHT74  HWEIGHT75  HWEIGHT76  HWEIGHT77  HWEIGHT78  \\\n",
       "0     328.65    1024.18    1707.99     992.20    1227.19    1658.08   \n",
       "1     574.87    3596.52     597.45    2264.79    2067.21    2334.59   \n",
       "2     279.66    1126.62     295.25     915.62     701.33    1091.08   \n",
       "\n",
       "   HWEIGHT79  HWEIGHT80  \n",
       "0     934.61    1263.89  \n",
       "1    1993.23    2214.06  \n",
       "2     716.94     841.38  \n",
       "\n",
       "[3 rows x 83 columns]"
      ]
     },
     "metadata": {},
     "output_type": "display_data"
    }
   ],
   "source": [
    "print('\\n', color.BOLD + 'Phase 1 weights' + color.END, '\\n')\n",
    "display(weights.head(3))"
   ]
  },
  {
   "cell_type": "markdown",
   "id": "major-blocking",
   "metadata": {},
   "source": [
    "I am only interested in the main weight, <b>HWEIGHT</b>, so I exclude other calculated weights. "
   ]
  },
  {
   "cell_type": "code",
   "execution_count": 9,
   "id": "forward-offering",
   "metadata": {},
   "outputs": [],
   "source": [
    "weights = weights[['WEEK', 'SCRAM', 'HWEIGHT']]"
   ]
  },
  {
   "cell_type": "markdown",
   "id": "christian-despite",
   "metadata": {},
   "source": [
    "I merge the pulse and weights dataframes. The merge creates two <b>HWEIGHT</b> columns differentiated by the x and y variables. I combine the two in a new <b>HWEIGHT</b> column. "
   ]
  },
  {
   "cell_type": "code",
   "execution_count": 10,
   "id": "conscious-eagle",
   "metadata": {},
   "outputs": [],
   "source": [
    "# Merging dfs\n",
    "pulse = pd.merge(pulse, weights, on=['WEEK', 'SCRAM'], how='left')\n",
    "\n",
    "# Combining weight cols\n",
    "pulse['HWEIGHT'] = np.where(pulse.HWEIGHT_x.isnull() == False, pulse.HWEIGHT_x, pulse.HWEIGHT_y)"
   ]
  },
  {
   "cell_type": "code",
   "execution_count": 11,
   "id": "double-insurance",
   "metadata": {},
   "outputs": [
    {
     "name": "stdout",
     "output_type": "stream",
     "text": [
      "\n",
      " \u001b[1mWeight Columns\u001b[0m \n",
      "\n"
     ]
    },
    {
     "data": {
      "text/html": [
       "<div>\n",
       "<style scoped>\n",
       "    .dataframe tbody tr th:only-of-type {\n",
       "        vertical-align: middle;\n",
       "    }\n",
       "\n",
       "    .dataframe tbody tr th {\n",
       "        vertical-align: top;\n",
       "    }\n",
       "\n",
       "    .dataframe thead th {\n",
       "        text-align: right;\n",
       "    }\n",
       "</style>\n",
       "<table border=\"1\" class=\"dataframe\">\n",
       "  <thead>\n",
       "    <tr style=\"text-align: right;\">\n",
       "      <th></th>\n",
       "      <th>HWEIGHT_x</th>\n",
       "      <th>HWEIGHT_y</th>\n",
       "      <th>HWEIGHT</th>\n",
       "    </tr>\n",
       "  </thead>\n",
       "  <tbody>\n",
       "    <tr>\n",
       "      <th>0</th>\n",
       "      <td>1170.79</td>\n",
       "      <td>NaN</td>\n",
       "      <td>1170.79</td>\n",
       "    </tr>\n",
       "    <tr>\n",
       "      <th>1</th>\n",
       "      <td>899.97</td>\n",
       "      <td>NaN</td>\n",
       "      <td>899.97</td>\n",
       "    </tr>\n",
       "    <tr>\n",
       "      <th>2</th>\n",
       "      <td>2077.84</td>\n",
       "      <td>NaN</td>\n",
       "      <td>2077.84</td>\n",
       "    </tr>\n",
       "  </tbody>\n",
       "</table>\n",
       "</div>"
      ],
      "text/plain": [
       "   HWEIGHT_x  HWEIGHT_y  HWEIGHT\n",
       "0    1170.79        NaN  1170.79\n",
       "1     899.97        NaN   899.97\n",
       "2    2077.84        NaN  2077.84"
      ]
     },
     "metadata": {},
     "output_type": "display_data"
    },
    {
     "data": {
      "text/html": [
       "<div>\n",
       "<style scoped>\n",
       "    .dataframe tbody tr th:only-of-type {\n",
       "        vertical-align: middle;\n",
       "    }\n",
       "\n",
       "    .dataframe tbody tr th {\n",
       "        vertical-align: top;\n",
       "    }\n",
       "\n",
       "    .dataframe thead th {\n",
       "        text-align: right;\n",
       "    }\n",
       "</style>\n",
       "<table border=\"1\" class=\"dataframe\">\n",
       "  <thead>\n",
       "    <tr style=\"text-align: right;\">\n",
       "      <th></th>\n",
       "      <th>HWEIGHT_x</th>\n",
       "      <th>HWEIGHT_y</th>\n",
       "      <th>HWEIGHT</th>\n",
       "    </tr>\n",
       "  </thead>\n",
       "  <tbody>\n",
       "    <tr>\n",
       "      <th>2167924</th>\n",
       "      <td>NaN</td>\n",
       "      <td>230.53</td>\n",
       "      <td>230.53</td>\n",
       "    </tr>\n",
       "    <tr>\n",
       "      <th>2167925</th>\n",
       "      <td>NaN</td>\n",
       "      <td>9.67</td>\n",
       "      <td>9.67</td>\n",
       "    </tr>\n",
       "    <tr>\n",
       "      <th>2167926</th>\n",
       "      <td>NaN</td>\n",
       "      <td>80.42</td>\n",
       "      <td>80.42</td>\n",
       "    </tr>\n",
       "  </tbody>\n",
       "</table>\n",
       "</div>"
      ],
      "text/plain": [
       "         HWEIGHT_x  HWEIGHT_y  HWEIGHT\n",
       "2167924        NaN     230.53   230.53\n",
       "2167925        NaN       9.67     9.67\n",
       "2167926        NaN      80.42    80.42"
      ]
     },
     "metadata": {},
     "output_type": "display_data"
    }
   ],
   "source": [
    "print('\\n', color.BOLD + 'Weight Columns' + color.END, '\\n')\n",
    "display(pulse[['HWEIGHT_x', 'HWEIGHT_y', 'HWEIGHT']].head(3), pulse[['HWEIGHT_x', 'HWEIGHT_y', 'HWEIGHT']].tail(3))"
   ]
  },
  {
   "cell_type": "markdown",
   "id": "comparative-saver",
   "metadata": {},
   "source": [
    "<hr>"
   ]
  },
  {
   "cell_type": "markdown",
   "id": "attempted-replica",
   "metadata": {},
   "source": [
    "## Creating data categories\n",
    "### HOUSEHOLDS WITH KIDS"
   ]
  },
  {
   "cell_type": "markdown",
   "id": "continued-vision",
   "metadata": {},
   "source": [
    "I am interested in identifying households with individuals under 18 and households with school-age children. In the weekly Pulse survey, the Census asks individuals how many people under 18 live in their households. That number is recorded in the <b>THHLD_NUMKID</b> column. This column does not have missing values."
   ]
  },
  {
   "cell_type": "code",
   "execution_count": 12,
   "id": "expanded-monitor",
   "metadata": {},
   "outputs": [
    {
     "data": {
      "text/plain": [
       "0    1399999\n",
       "1     333974\n",
       "2     275718\n",
       "3     105144\n",
       "4      35152\n",
       "5      17940\n",
       "Name: THHLD_NUMKID, dtype: int64"
      ]
     },
     "execution_count": 12,
     "metadata": {},
     "output_type": "execute_result"
    }
   ],
   "source": [
    "pulse.THHLD_NUMKID.value_counts()"
   ]
  },
  {
   "cell_type": "markdown",
   "id": "willing-orbit",
   "metadata": {},
   "source": [
    "I create a new <b>kids</b> column where I mark 1 for households with one or more people under 18 and 0 for those without. "
   ]
  },
  {
   "cell_type": "code",
   "execution_count": 13,
   "id": "elegant-profit",
   "metadata": {},
   "outputs": [],
   "source": [
    "pulse['kids'] = np.where(pulse.THHLD_NUMKID == 0, 0, 1)"
   ]
  },
  {
   "cell_type": "markdown",
   "id": "perfect-bruce",
   "metadata": {},
   "source": [
    "I then label households with children in school or homeschooled. The database records answers to the question,\n",
    "\n",
    "    'At any time during the 2020-2021 school year, were, or will, any children in this household enrolled in a public school, enrolled in a private school, or educated in a homeschool setting in Kindergarten through 12th grade or grade equivalent? Select all that apply.'\n",
    "\n",
    "in three columns:\n",
    "\n",
    "- <b>ENROLL1</b>: 'Yes, enrolled in a public or private school'\n",
    "- <b>ENROLL2</b>: 'Yes, homeschooled'\n",
    "- <b>ENROLL3</b>: 'No'\n",
    "\n",
    "These columns include missing responses marked as '-88' in the database. If the interviewee addressed the question but did not select the category in a particular column, their response is marked as '-99'."
   ]
  },
  {
   "cell_type": "code",
   "execution_count": 14,
   "id": "trying-appraisal",
   "metadata": {},
   "outputs": [
    {
     "name": "stdout",
     "output_type": "stream",
     "text": [
      "-88    1480863\n",
      " 1      494499\n",
      "-99     192565\n",
      "Name: ENROLL1, dtype: int64 \n",
      "\n",
      "-88    1480863\n",
      "-99     649647\n",
      " 1       37417\n",
      "Name: ENROLL2, dtype: int64 \n",
      "\n",
      "-88    1480863\n",
      "-99     529052\n",
      " 1      158012\n",
      "Name: ENROLL3, dtype: int64\n"
     ]
    }
   ],
   "source": [
    "print(pulse.ENROLL1.value_counts(), '\\n')\n",
    "print(pulse.ENROLL2.value_counts(), '\\n')\n",
    "print(pulse.ENROLL3.value_counts())"
   ]
  },
  {
   "cell_type": "markdown",
   "id": "parental-average",
   "metadata": {},
   "source": [
    "I remove rows where households reported having members 18 or younger, but -88 or -99 is marked in all three ENROLL columns."
   ]
  },
  {
   "cell_type": "code",
   "execution_count": 15,
   "id": "informative-prospect",
   "metadata": {},
   "outputs": [
    {
     "name": "stdout",
     "output_type": "stream",
     "text": [
      "\n",
      " \u001b[1mOriginal row count:\u001b[0m 2167927 \n",
      " \u001b[1mCount of valid records:\u001b[0m 2045478 \n",
      " \u001b[1mTotal removed:\u001b[0m 122449 \n",
      "\n"
     ]
    }
   ],
   "source": [
    "# removing invalid records\n",
    "pulse = pulse[~(\n",
    "    (pulse.kids == 1) & \n",
    "    (pulse.ENROLL1 < 0) & \n",
    "    (pulse.ENROLL2 < 0) & \n",
    "    (pulse.ENROLL3 < 0)\n",
    ")]\n",
    "\n",
    "print('\\n', color.BOLD + 'Original row count:' + color.END, original_length, \n",
    "      '\\n', color.BOLD + 'Count of valid records:' + color.END, len(pulse), \n",
    "      '\\n', color.BOLD + 'Total removed:' + color.END, original_length - len(pulse), '\\n')"
   ]
  },
  {
   "cell_type": "markdown",
   "id": "pharmaceutical-twins",
   "metadata": {},
   "source": [
    "In a new column, <b>school_kids</b>, I mark 1 for households which reported having chilren enrolled in school or homeschooled, and 0 for households which answered that they did not. "
   ]
  },
  {
   "cell_type": "code",
   "execution_count": 16,
   "id": "naughty-universal",
   "metadata": {},
   "outputs": [
    {
     "name": "stdout",
     "output_type": "stream",
     "text": [
      "\n",
      " \u001b[1mKids and school kids columns\u001b[0m \n",
      "\n"
     ]
    },
    {
     "data": {
      "text/html": [
       "<div>\n",
       "<style scoped>\n",
       "    .dataframe tbody tr th:only-of-type {\n",
       "        vertical-align: middle;\n",
       "    }\n",
       "\n",
       "    .dataframe tbody tr th {\n",
       "        vertical-align: top;\n",
       "    }\n",
       "\n",
       "    .dataframe thead th {\n",
       "        text-align: right;\n",
       "    }\n",
       "</style>\n",
       "<table border=\"1\" class=\"dataframe\">\n",
       "  <thead>\n",
       "    <tr style=\"text-align: right;\">\n",
       "      <th></th>\n",
       "      <th>kids</th>\n",
       "      <th>ENROLL1</th>\n",
       "      <th>ENROLL2</th>\n",
       "      <th>ENROLL3</th>\n",
       "      <th>school_kids</th>\n",
       "    </tr>\n",
       "  </thead>\n",
       "  <tbody>\n",
       "    <tr>\n",
       "      <th>1</th>\n",
       "      <td>0</td>\n",
       "      <td>-88</td>\n",
       "      <td>-88</td>\n",
       "      <td>-88</td>\n",
       "      <td>NaN</td>\n",
       "    </tr>\n",
       "    <tr>\n",
       "      <th>2</th>\n",
       "      <td>1</td>\n",
       "      <td>1</td>\n",
       "      <td>-99</td>\n",
       "      <td>-99</td>\n",
       "      <td>1.00</td>\n",
       "    </tr>\n",
       "    <tr>\n",
       "      <th>3</th>\n",
       "      <td>0</td>\n",
       "      <td>-88</td>\n",
       "      <td>-88</td>\n",
       "      <td>-88</td>\n",
       "      <td>NaN</td>\n",
       "    </tr>\n",
       "  </tbody>\n",
       "</table>\n",
       "</div>"
      ],
      "text/plain": [
       "   kids  ENROLL1  ENROLL2  ENROLL3  school_kids\n",
       "1     0      -88      -88      -88          NaN\n",
       "2     1        1      -99      -99         1.00\n",
       "3     0      -88      -88      -88          NaN"
      ]
     },
     "metadata": {},
     "output_type": "display_data"
    }
   ],
   "source": [
    "# Labeling households with school kids, marking na for others\n",
    "pulse['school_kids'] = np.where(\n",
    "    (pulse.kids == 1) &\n",
    "    (\n",
    "        (pulse.ENROLL1 == 1) | (pulse.ENROLL2 == 1)\n",
    "    ), 1, np.nan)\n",
    "\n",
    "# Labeling households without school kids\n",
    "pulse['school_kids'] = np.where(\n",
    "    (pulse.kids == 1) &\n",
    "    (\n",
    "        (pulse.ENROLL3 == 1)\n",
    "    ), 0, pulse.school_kids)\n",
    "\n",
    "\n",
    "print('\\n', color.BOLD + 'Kids and school kids columns' + color.END, '\\n')\n",
    "display(pulse[['kids', 'ENROLL1', 'ENROLL2', 'ENROLL3', 'school_kids']].head(3))"
   ]
  },
  {
   "cell_type": "markdown",
   "id": "practical-litigation",
   "metadata": {},
   "source": [
    "### HOUSEHOLDS WHICH EXPERIENCED A RECENT JOB LOSS"
   ]
  },
  {
   "cell_type": "markdown",
   "id": "boring-peninsula",
   "metadata": {},
   "source": [
    "Interviewees in the survey were asked if they had experienced a loss of employment income since March 13, 2020. Their answers were recorded in the <b>WRKLOSS</b> column. The column includes missing values. "
   ]
  },
  {
   "cell_type": "code",
   "execution_count": 17,
   "id": "endangered-adrian",
   "metadata": {},
   "outputs": [
    {
     "data": {
      "text/plain": [
       " 2     1246640\n",
       " 1      787799\n",
       "-99      10798\n",
       "-88        241\n",
       "Name: WRKLOSS, dtype: int64"
      ]
     },
     "execution_count": 17,
     "metadata": {},
     "output_type": "execute_result"
    }
   ],
   "source": [
    "pulse.WRKLOSS.value_counts()"
   ]
  },
  {
   "cell_type": "markdown",
   "id": "false-magnet",
   "metadata": {},
   "source": [
    "Because this question required interviewees to select only one answer, I remove all answers marked as -88 (missing) and -99 (question seen but category not selected). "
   ]
  },
  {
   "cell_type": "code",
   "execution_count": 18,
   "id": "textile-thickness",
   "metadata": {},
   "outputs": [
    {
     "name": "stdout",
     "output_type": "stream",
     "text": [
      "\n",
      " \u001b[1mOriginal row count:\u001b[0m 2167927 \n",
      " \u001b[1mCount of valid records:\u001b[0m 2034439 \n",
      " \u001b[1mTotal removed:\u001b[0m 133488\n"
     ]
    }
   ],
   "source": [
    "pulse = pulse[~((pulse.WRKLOSS == -88) | (pulse.WRKLOSS == -99))]\n",
    "\n",
    "print('\\n', color.BOLD + 'Original row count:' + color.END, original_length, \n",
    "      '\\n', color.BOLD + 'Count of valid records:' + color.END, len(pulse), \n",
    "      '\\n', color.BOLD + 'Total removed:' + color.END, original_length - len(pulse))"
   ]
  },
  {
   "cell_type": "code",
   "execution_count": 19,
   "id": "tribal-ukraine",
   "metadata": {},
   "outputs": [
    {
     "data": {
      "text/plain": [
       "2    1246640\n",
       "1     787799\n",
       "Name: WRKLOSS, dtype: int64"
      ]
     },
     "execution_count": 19,
     "metadata": {},
     "output_type": "execute_result"
    }
   ],
   "source": [
    "pulse.WRKLOSS.value_counts()"
   ]
  },
  {
   "cell_type": "markdown",
   "id": "miniature-precipitation",
   "metadata": {},
   "source": [
    "I create a new column, <b>recent_job_loss</b>, where I mark 1 for households who reported a loss (currently marked 1) and 0 for households who didn't (currently marked 2). "
   ]
  },
  {
   "cell_type": "code",
   "execution_count": 20,
   "id": "driving-olive",
   "metadata": {},
   "outputs": [
    {
     "name": "stdout",
     "output_type": "stream",
     "text": [
      "\n",
      " \u001b[1mRecent job loss columns\u001b[0m \n",
      "\n"
     ]
    },
    {
     "data": {
      "text/html": [
       "<div>\n",
       "<style scoped>\n",
       "    .dataframe tbody tr th:only-of-type {\n",
       "        vertical-align: middle;\n",
       "    }\n",
       "\n",
       "    .dataframe tbody tr th {\n",
       "        vertical-align: top;\n",
       "    }\n",
       "\n",
       "    .dataframe thead th {\n",
       "        text-align: right;\n",
       "    }\n",
       "</style>\n",
       "<table border=\"1\" class=\"dataframe\">\n",
       "  <thead>\n",
       "    <tr style=\"text-align: right;\">\n",
       "      <th></th>\n",
       "      <th>WRKLOSS</th>\n",
       "      <th>recent_job_loss</th>\n",
       "    </tr>\n",
       "  </thead>\n",
       "  <tbody>\n",
       "    <tr>\n",
       "      <th>1</th>\n",
       "      <td>1</td>\n",
       "      <td>1.00</td>\n",
       "    </tr>\n",
       "    <tr>\n",
       "      <th>2</th>\n",
       "      <td>2</td>\n",
       "      <td>0.00</td>\n",
       "    </tr>\n",
       "    <tr>\n",
       "      <th>3</th>\n",
       "      <td>1</td>\n",
       "      <td>1.00</td>\n",
       "    </tr>\n",
       "  </tbody>\n",
       "</table>\n",
       "</div>"
      ],
      "text/plain": [
       "   WRKLOSS  recent_job_loss\n",
       "1        1             1.00\n",
       "2        2             0.00\n",
       "3        1             1.00"
      ]
     },
     "metadata": {},
     "output_type": "display_data"
    }
   ],
   "source": [
    "# Labeling households which experienced recent job losses\n",
    "pulse['recent_job_loss'] = np.where(pulse.WRKLOSS == 1, 1, np.nan)\n",
    "pulse['recent_job_loss'] = np.where(pulse.WRKLOSS == 2, 0, pulse['recent_job_loss'])\n",
    "\n",
    "print('\\n', color.BOLD + 'Recent job loss columns' + color.END, '\\n')\n",
    "display(pulse[['WRKLOSS', 'recent_job_loss']].head(3))"
   ]
  },
  {
   "cell_type": "markdown",
   "id": "dressed-government",
   "metadata": {},
   "source": [
    "### MARITAL STATUS"
   ]
  },
  {
   "cell_type": "markdown",
   "id": "continent-extreme",
   "metadata": {},
   "source": [
    "I follow the same process to recode the marital status of the interviewee. The <b>MS</b> column includes the following choices:\n",
    "\n",
    "1) Now married \n",
    "2) Widowed\n",
    "3) Divorced\n",
    "4) Separated\n",
    "5) Never married\n",
    "\n",
    "As above, -99 indicates that the question was seen but the category was not selected and -88 indicates that the answer is missing. Because the question required interviewees to select only one answer, I mark as null all answers not ranging from 1 to 5. I do not remove invalid records because this characteristic is not central to my analysis. "
   ]
  },
  {
   "cell_type": "code",
   "execution_count": 21,
   "id": "social-butter",
   "metadata": {},
   "outputs": [
    {
     "name": "stdout",
     "output_type": "stream",
     "text": [
      "\n",
      " \u001b[1mMarital status columns\u001b[0m \n",
      "\n"
     ]
    },
    {
     "data": {
      "text/html": [
       "<div>\n",
       "<style scoped>\n",
       "    .dataframe tbody tr th:only-of-type {\n",
       "        vertical-align: middle;\n",
       "    }\n",
       "\n",
       "    .dataframe tbody tr th {\n",
       "        vertical-align: top;\n",
       "    }\n",
       "\n",
       "    .dataframe thead th {\n",
       "        text-align: right;\n",
       "    }\n",
       "</style>\n",
       "<table border=\"1\" class=\"dataframe\">\n",
       "  <thead>\n",
       "    <tr style=\"text-align: right;\">\n",
       "      <th></th>\n",
       "      <th>MS</th>\n",
       "      <th>married</th>\n",
       "    </tr>\n",
       "  </thead>\n",
       "  <tbody>\n",
       "    <tr>\n",
       "      <th>1</th>\n",
       "      <td>3</td>\n",
       "      <td>0.00</td>\n",
       "    </tr>\n",
       "    <tr>\n",
       "      <th>2</th>\n",
       "      <td>1</td>\n",
       "      <td>1.00</td>\n",
       "    </tr>\n",
       "    <tr>\n",
       "      <th>3</th>\n",
       "      <td>2</td>\n",
       "      <td>0.00</td>\n",
       "    </tr>\n",
       "  </tbody>\n",
       "</table>\n",
       "</div>"
      ],
      "text/plain": [
       "   MS  married\n",
       "1   3     0.00\n",
       "2   1     1.00\n",
       "3   2     0.00"
      ]
     },
     "metadata": {},
     "output_type": "display_data"
    }
   ],
   "source": [
    "# Labeling interviewees who reported not being married\n",
    "pulse['married'] = np.where(\n",
    "    (pulse.MS == 2) | \n",
    "    (pulse.MS == 3) | \n",
    "    (pulse.MS == 4) | \n",
    "    (pulse.MS == 5), 0, np.nan)\n",
    "\n",
    "# Labeling interviewees who being married\n",
    "pulse['married'] = np.where(pulse.MS == 1, 1, pulse.married)\n",
    "\n",
    "print('\\n', color.BOLD + 'Marital status columns' + color.END, '\\n')\n",
    "display(pulse[['MS', 'married']].head(3))"
   ]
  },
  {
   "cell_type": "markdown",
   "id": "improved-signal",
   "metadata": {},
   "source": [
    "### INCOME"
   ]
  },
  {
   "cell_type": "markdown",
   "id": "current-elizabeth",
   "metadata": {},
   "source": [
    "I retrieved low-income limits data published in 2020 by the Department of Housing and Urban Development from https://www.huduser.gov/portal/datasets/il/il20/State-Incomelimits-Report-FY20r.pdf. I used SmallPDF to convert the documents into Excel files. I then filtered the data to only include low-income limits and added the <b>EST-ST</b> column with state codes as reported in the Census Pulse Survey data dictionary."
   ]
  },
  {
   "cell_type": "markdown",
   "id": "becoming-persian",
   "metadata": {},
   "source": [
    "State income limits rely on household member counts. However, limits are only defined for households of up to 8 members. Larger households meet the 8-member limits. To make sure I could match all of the data, I create a new <b>member_count</b> column which reports the exact number of household members as reported in the <b>THHLD_NUMPER</b> survey column for households of 8 members or fewer. I record 8 for larger households. "
   ]
  },
  {
   "cell_type": "code",
   "execution_count": 22,
   "id": "seeing-creek",
   "metadata": {},
   "outputs": [],
   "source": [
    "# Creating member counts col\n",
    "pulse['member_count'] = np.where(pulse.THHLD_NUMPER <= 8, pulse.THHLD_NUMPER, 8)"
   ]
  },
  {
   "cell_type": "markdown",
   "id": "worth-wisdom",
   "metadata": {},
   "source": [
    "I import the HUD state low-income limits data."
   ]
  },
  {
   "cell_type": "code",
   "execution_count": 23,
   "id": "extra-fantasy",
   "metadata": {},
   "outputs": [
    {
     "name": "stdout",
     "output_type": "stream",
     "text": [
      "\n",
      " \u001b[1mState Low-Income Limits 2020\u001b[0m \n",
      "\n"
     ]
    },
    {
     "data": {
      "text/html": [
       "<div>\n",
       "<style scoped>\n",
       "    .dataframe tbody tr th:only-of-type {\n",
       "        vertical-align: middle;\n",
       "    }\n",
       "\n",
       "    .dataframe tbody tr th {\n",
       "        vertical-align: top;\n",
       "    }\n",
       "\n",
       "    .dataframe thead th {\n",
       "        text-align: right;\n",
       "    }\n",
       "</style>\n",
       "<table border=\"1\" class=\"dataframe\">\n",
       "  <thead>\n",
       "    <tr style=\"text-align: right;\">\n",
       "      <th></th>\n",
       "      <th>state</th>\n",
       "      <th>EST_ST</th>\n",
       "      <th>1</th>\n",
       "      <th>2</th>\n",
       "      <th>3</th>\n",
       "      <th>4</th>\n",
       "      <th>5</th>\n",
       "      <th>6</th>\n",
       "      <th>7</th>\n",
       "      <th>8</th>\n",
       "    </tr>\n",
       "  </thead>\n",
       "  <tbody>\n",
       "    <tr>\n",
       "      <th>0</th>\n",
       "      <td>ALABAMA</td>\n",
       "      <td>1</td>\n",
       "      <td>36550.00</td>\n",
       "      <td>41800.00</td>\n",
       "      <td>47000.00</td>\n",
       "      <td>52250.00</td>\n",
       "      <td>56400.00</td>\n",
       "      <td>60600.00</td>\n",
       "      <td>64800.00</td>\n",
       "      <td>68950.00</td>\n",
       "    </tr>\n",
       "    <tr>\n",
       "      <th>1</th>\n",
       "      <td>ALASKA</td>\n",
       "      <td>2</td>\n",
       "      <td>51650.00</td>\n",
       "      <td>59000.00</td>\n",
       "      <td>66400.00</td>\n",
       "      <td>73750.00</td>\n",
       "      <td>79650.00</td>\n",
       "      <td>85550.00</td>\n",
       "      <td>91450.00</td>\n",
       "      <td>97350.00</td>\n",
       "    </tr>\n",
       "    <tr>\n",
       "      <th>2</th>\n",
       "      <td>ARIZONA</td>\n",
       "      <td>4</td>\n",
       "      <td>40400.00</td>\n",
       "      <td>46150.00</td>\n",
       "      <td>51900.00</td>\n",
       "      <td>57700.00</td>\n",
       "      <td>62300.00</td>\n",
       "      <td>66900.00</td>\n",
       "      <td>71500.00</td>\n",
       "      <td>76150.00</td>\n",
       "    </tr>\n",
       "  </tbody>\n",
       "</table>\n",
       "</div>"
      ],
      "text/plain": [
       "     state  EST_ST        1        2        3        4        5        6  \\\n",
       "0  ALABAMA       1 36550.00 41800.00 47000.00 52250.00 56400.00 60600.00   \n",
       "1   ALASKA       2 51650.00 59000.00 66400.00 73750.00 79650.00 85550.00   \n",
       "2  ARIZONA       4 40400.00 46150.00 51900.00 57700.00 62300.00 66900.00   \n",
       "\n",
       "         7        8  \n",
       "0 64800.00 68950.00  \n",
       "1 91450.00 97350.00  \n",
       "2 71500.00 76150.00  "
      ]
     },
     "metadata": {},
     "output_type": "display_data"
    }
   ],
   "source": [
    "# Importing df\n",
    "lil = pd.read_csv('State-Incomelimits-Report-FY20r-lil.csv')\n",
    "\n",
    "print('\\n', color.BOLD + 'State Low-Income Limits 2020' + color.END, '\\n')\n",
    "display(lil.head(3))"
   ]
  },
  {
   "cell_type": "markdown",
   "id": "mental-conversation",
   "metadata": {},
   "source": [
    "I transpose the member count columns of the income data to create a more compact dataframe."
   ]
  },
  {
   "cell_type": "code",
   "execution_count": 24,
   "id": "regional-grace",
   "metadata": {},
   "outputs": [
    {
     "name": "stdout",
     "output_type": "stream",
     "text": [
      "\n",
      " \u001b[1mState Low-Income Limits 2020 - Transposed\u001b[0m \n",
      "\n"
     ]
    },
    {
     "data": {
      "text/html": [
       "<div>\n",
       "<style scoped>\n",
       "    .dataframe tbody tr th:only-of-type {\n",
       "        vertical-align: middle;\n",
       "    }\n",
       "\n",
       "    .dataframe tbody tr th {\n",
       "        vertical-align: top;\n",
       "    }\n",
       "\n",
       "    .dataframe thead th {\n",
       "        text-align: right;\n",
       "    }\n",
       "</style>\n",
       "<table border=\"1\" class=\"dataframe\">\n",
       "  <thead>\n",
       "    <tr style=\"text-align: right;\">\n",
       "      <th></th>\n",
       "      <th>state</th>\n",
       "      <th>EST_ST</th>\n",
       "      <th>member_count</th>\n",
       "      <th>low_income_limit</th>\n",
       "    </tr>\n",
       "  </thead>\n",
       "  <tbody>\n",
       "    <tr>\n",
       "      <th>0</th>\n",
       "      <td>ALABAMA</td>\n",
       "      <td>1</td>\n",
       "      <td>1</td>\n",
       "      <td>36550.00</td>\n",
       "    </tr>\n",
       "    <tr>\n",
       "      <th>1</th>\n",
       "      <td>ALASKA</td>\n",
       "      <td>2</td>\n",
       "      <td>1</td>\n",
       "      <td>51650.00</td>\n",
       "    </tr>\n",
       "    <tr>\n",
       "      <th>2</th>\n",
       "      <td>ARIZONA</td>\n",
       "      <td>4</td>\n",
       "      <td>1</td>\n",
       "      <td>40400.00</td>\n",
       "    </tr>\n",
       "  </tbody>\n",
       "</table>\n",
       "</div>"
      ],
      "text/plain": [
       "     state  EST_ST  member_count  low_income_limit\n",
       "0  ALABAMA       1             1          36550.00\n",
       "1   ALASKA       2             1          51650.00\n",
       "2  ARIZONA       4             1          40400.00"
      ]
     },
     "metadata": {},
     "output_type": "display_data"
    }
   ],
   "source": [
    "# Transposing df\n",
    "lil_t = lil.melt(id_vars=['state','EST_ST']).rename(columns={\n",
    "    'variable': 'member_count',\n",
    "    'value': 'low_income_limit'\n",
    "})\n",
    "# Converting member_count col to integer\n",
    "lil_t.member_count = lil_t.member_count.astype('int64')\n",
    "\n",
    "print('\\n', color.BOLD + 'State Low-Income Limits 2020 - Transposed' + color.END, '\\n')\n",
    "display(lil_t.head(3))"
   ]
  },
  {
   "cell_type": "markdown",
   "id": "broke-vermont",
   "metadata": {},
   "source": [
    "I then left-merge the pulse dataframe with the income dataframe on the state code column, <b>EST_ST</b>, and household member count column, <b>member_count</b>. As a result, each row is assigned to the appropriate low-income limit for the state and household member count of the household it represents."
   ]
  },
  {
   "cell_type": "code",
   "execution_count": 25,
   "id": "qualified-contributor",
   "metadata": {},
   "outputs": [
    {
     "name": "stdout",
     "output_type": "stream",
     "text": [
      "\n",
      " \u001b[1mPulse & State Low-Income Limits data merge\u001b[0m \n",
      "\n"
     ]
    },
    {
     "data": {
      "text/html": [
       "<div>\n",
       "<style scoped>\n",
       "    .dataframe tbody tr th:only-of-type {\n",
       "        vertical-align: middle;\n",
       "    }\n",
       "\n",
       "    .dataframe tbody tr th {\n",
       "        vertical-align: top;\n",
       "    }\n",
       "\n",
       "    .dataframe thead th {\n",
       "        text-align: right;\n",
       "    }\n",
       "</style>\n",
       "<table border=\"1\" class=\"dataframe\">\n",
       "  <thead>\n",
       "    <tr style=\"text-align: right;\">\n",
       "      <th></th>\n",
       "      <th>SCRAM</th>\n",
       "      <th>WEEK</th>\n",
       "      <th>EST_ST</th>\n",
       "      <th>EST_MSA</th>\n",
       "      <th>REGION</th>\n",
       "      <th>HWEIGHT_x</th>\n",
       "      <th>PWEIGHT</th>\n",
       "      <th>TBIRTH_YEAR</th>\n",
       "      <th>ABIRTH_YEAR</th>\n",
       "      <th>EGENDER</th>\n",
       "      <th>...</th>\n",
       "      <th>TBEDROOMS</th>\n",
       "      <th>HWEIGHT_y</th>\n",
       "      <th>HWEIGHT</th>\n",
       "      <th>kids</th>\n",
       "      <th>school_kids</th>\n",
       "      <th>recent_job_loss</th>\n",
       "      <th>married</th>\n",
       "      <th>member_count</th>\n",
       "      <th>state</th>\n",
       "      <th>low_income_limit</th>\n",
       "    </tr>\n",
       "  </thead>\n",
       "  <tbody>\n",
       "    <tr>\n",
       "      <th>0</th>\n",
       "      <td>V220000001S10011554410113</td>\n",
       "      <td>22</td>\n",
       "      <td>1</td>\n",
       "      <td>NaN</td>\n",
       "      <td>2.00</td>\n",
       "      <td>899.97</td>\n",
       "      <td>1683.63</td>\n",
       "      <td>1947</td>\n",
       "      <td>2</td>\n",
       "      <td>2</td>\n",
       "      <td>...</td>\n",
       "      <td>NaN</td>\n",
       "      <td>NaN</td>\n",
       "      <td>899.97</td>\n",
       "      <td>0</td>\n",
       "      <td>NaN</td>\n",
       "      <td>1.00</td>\n",
       "      <td>0.00</td>\n",
       "      <td>2</td>\n",
       "      <td>ALABAMA</td>\n",
       "      <td>41800.00</td>\n",
       "    </tr>\n",
       "    <tr>\n",
       "      <th>1</th>\n",
       "      <td>V220000001S15010024400123</td>\n",
       "      <td>22</td>\n",
       "      <td>1</td>\n",
       "      <td>NaN</td>\n",
       "      <td>2.00</td>\n",
       "      <td>2077.84</td>\n",
       "      <td>3887.14</td>\n",
       "      <td>1989</td>\n",
       "      <td>2</td>\n",
       "      <td>1</td>\n",
       "      <td>...</td>\n",
       "      <td>NaN</td>\n",
       "      <td>NaN</td>\n",
       "      <td>2077.84</td>\n",
       "      <td>1</td>\n",
       "      <td>1.00</td>\n",
       "      <td>0.00</td>\n",
       "      <td>1.00</td>\n",
       "      <td>6</td>\n",
       "      <td>ALABAMA</td>\n",
       "      <td>60600.00</td>\n",
       "    </tr>\n",
       "    <tr>\n",
       "      <th>2</th>\n",
       "      <td>V220000001S15010351400113</td>\n",
       "      <td>22</td>\n",
       "      <td>53</td>\n",
       "      <td>42660.00</td>\n",
       "      <td>4.00</td>\n",
       "      <td>3555.42</td>\n",
       "      <td>6731.73</td>\n",
       "      <td>1971</td>\n",
       "      <td>2</td>\n",
       "      <td>2</td>\n",
       "      <td>...</td>\n",
       "      <td>NaN</td>\n",
       "      <td>NaN</td>\n",
       "      <td>3555.42</td>\n",
       "      <td>0</td>\n",
       "      <td>NaN</td>\n",
       "      <td>1.00</td>\n",
       "      <td>0.00</td>\n",
       "      <td>2</td>\n",
       "      <td>WASHINGTON</td>\n",
       "      <td>57450.00</td>\n",
       "    </tr>\n",
       "  </tbody>\n",
       "</table>\n",
       "<p>3 rows × 235 columns</p>\n",
       "</div>"
      ],
      "text/plain": [
       "                       SCRAM  WEEK  EST_ST  EST_MSA  REGION  HWEIGHT_x  \\\n",
       "0  V220000001S10011554410113    22       1      NaN    2.00     899.97   \n",
       "1  V220000001S15010024400123    22       1      NaN    2.00    2077.84   \n",
       "2  V220000001S15010351400113    22      53 42660.00    4.00    3555.42   \n",
       "\n",
       "   PWEIGHT  TBIRTH_YEAR  ABIRTH_YEAR  EGENDER  ...  TBEDROOMS  HWEIGHT_y  \\\n",
       "0  1683.63         1947            2        2  ...        NaN        NaN   \n",
       "1  3887.14         1989            2        1  ...        NaN        NaN   \n",
       "2  6731.73         1971            2        2  ...        NaN        NaN   \n",
       "\n",
       "   HWEIGHT  kids  school_kids  recent_job_loss  married  member_count  \\\n",
       "0   899.97     0          NaN             1.00     0.00             2   \n",
       "1  2077.84     1         1.00             0.00     1.00             6   \n",
       "2  3555.42     0          NaN             1.00     0.00             2   \n",
       "\n",
       "        state  low_income_limit  \n",
       "0     ALABAMA          41800.00  \n",
       "1     ALABAMA          60600.00  \n",
       "2  WASHINGTON          57450.00  \n",
       "\n",
       "[3 rows x 235 columns]"
      ]
     },
     "metadata": {},
     "output_type": "display_data"
    }
   ],
   "source": [
    "pulse = pd.merge(pulse, lil_t, on=['EST_ST', 'member_count'], how='left')      \n",
    "\n",
    "print('\\n', color.BOLD + 'Pulse & State Low-Income Limits data merge' + color.END, '\\n')\n",
    "display(pulse.head(3))"
   ]
  },
  {
   "cell_type": "markdown",
   "id": "anticipated-worcester",
   "metadata": {},
   "source": [
    "The Census Pulse data does not provide exact household incomes. Instead, it provides income brackets labeled with integers from 1 to 8 as follows:\n",
    "\n",
    "1) Less than \\\\$25,000  \n",
    "2) \\\\$25,000 - \\\\$34,999  \n",
    "3) \\\\$35,000 - \\\\$49,999   \n",
    "4) \\\\$50,000 - \\\\$74,999   \n",
    "5) \\\\$75,000 - \\\\$99,999   \n",
    "6) \\\\$100,000 - \\\\$149,999   \n",
    "7) \\\\$150,000 - \\\\$199,999\n",
    "8) \\\\$200,000 and above"
   ]
  },
  {
   "cell_type": "markdown",
   "id": "resistant-split",
   "metadata": {},
   "source": [
    "I use the same brackets to categorize low-income limits in a new column, <b>low_income_limit_cat</b>."
   ]
  },
  {
   "cell_type": "code",
   "execution_count": 26,
   "id": "spread-timer",
   "metadata": {},
   "outputs": [],
   "source": [
    "# Creating new income cat col\n",
    "pulse['low_income_limit_cat'] = np.where(pulse.low_income_limit < 25000, 1, np.nan)\n",
    "\n",
    "pulse['low_income_limit_cat'] = np.where(\n",
    "    (pulse.low_income_limit >= 25000) & \n",
    "    (pulse.low_income_limit <= 34999), 2, pulse.low_income_limit_cat)\n",
    "\n",
    "pulse['low_income_limit_cat'] = np.where(\n",
    "    (pulse.low_income_limit >= 35000) & \n",
    "    (pulse.low_income_limit <= 49999), 3, pulse.low_income_limit_cat)\n",
    "\n",
    "pulse['low_income_limit_cat'] = np.where(\n",
    "    (pulse.low_income_limit >= 50000) & \n",
    "    (pulse.low_income_limit <= 74999), 4, pulse.low_income_limit_cat)\n",
    "\n",
    "pulse['low_income_limit_cat'] = np.where(\n",
    "    (pulse.low_income_limit >= 75000) & \n",
    "    (pulse.low_income_limit <= 99999), 5, pulse.low_income_limit_cat)\n",
    "\n",
    "pulse['low_income_limit_cat'] = np.where(\n",
    "    (pulse.low_income_limit >= 100000) & \n",
    "    (pulse.low_income_limit <= 149999), 6, pulse.low_income_limit_cat)"
   ]
  },
  {
   "cell_type": "markdown",
   "id": "settled-reception",
   "metadata": {},
   "source": [
    "I specify conditions only for the first categories because low income limits do not top $149,999 across all states."
   ]
  },
  {
   "cell_type": "code",
   "execution_count": 27,
   "id": "equivalent-somewhere",
   "metadata": {},
   "outputs": [
    {
     "name": "stdout",
     "output_type": "stream",
     "text": [
      "\n",
      " \u001b[1mLow-income limit categories:\u001b[0m [2. 3. 4. 5. 6.] \n",
      "\n"
     ]
    }
   ],
   "source": [
    "print('\\n', color.BOLD + 'Low-income limit categories:' + color.END, pulse.low_income_limit_cat.sort_values().unique(), '\\n')"
   ]
  },
  {
   "cell_type": "markdown",
   "id": "suburban-familiar",
   "metadata": {},
   "source": [
    "Finally, I compare the income categories reported by each household in the survey to the low-income limit category which corresponds to that household. "
   ]
  },
  {
   "cell_type": "code",
   "execution_count": 28,
   "id": "elder-penetration",
   "metadata": {},
   "outputs": [
    {
     "name": "stdout",
     "output_type": "stream",
     "text": [
      "\n",
      " \u001b[1mLow-income limit comparison columns\u001b[0m \n",
      "\n"
     ]
    },
    {
     "data": {
      "text/html": [
       "<div>\n",
       "<style scoped>\n",
       "    .dataframe tbody tr th:only-of-type {\n",
       "        vertical-align: middle;\n",
       "    }\n",
       "\n",
       "    .dataframe tbody tr th {\n",
       "        vertical-align: top;\n",
       "    }\n",
       "\n",
       "    .dataframe thead th {\n",
       "        text-align: right;\n",
       "    }\n",
       "</style>\n",
       "<table border=\"1\" class=\"dataframe\">\n",
       "  <thead>\n",
       "    <tr style=\"text-align: right;\">\n",
       "      <th></th>\n",
       "      <th>INCOME</th>\n",
       "      <th>low_income_limit</th>\n",
       "      <th>low_income_limit_cat</th>\n",
       "      <th>low_income</th>\n",
       "    </tr>\n",
       "  </thead>\n",
       "  <tbody>\n",
       "    <tr>\n",
       "      <th>2034434</th>\n",
       "      <td>3</td>\n",
       "      <td>57400.00</td>\n",
       "      <td>4.00</td>\n",
       "      <td>1</td>\n",
       "    </tr>\n",
       "    <tr>\n",
       "      <th>2034435</th>\n",
       "      <td>4</td>\n",
       "      <td>44650.00</td>\n",
       "      <td>3.00</td>\n",
       "      <td>0</td>\n",
       "    </tr>\n",
       "    <tr>\n",
       "      <th>2034436</th>\n",
       "      <td>4</td>\n",
       "      <td>63750.00</td>\n",
       "      <td>4.00</td>\n",
       "      <td>1</td>\n",
       "    </tr>\n",
       "    <tr>\n",
       "      <th>2034437</th>\n",
       "      <td>4</td>\n",
       "      <td>44650.00</td>\n",
       "      <td>3.00</td>\n",
       "      <td>0</td>\n",
       "    </tr>\n",
       "    <tr>\n",
       "      <th>2034438</th>\n",
       "      <td>5</td>\n",
       "      <td>51000.00</td>\n",
       "      <td>4.00</td>\n",
       "      <td>0</td>\n",
       "    </tr>\n",
       "  </tbody>\n",
       "</table>\n",
       "</div>"
      ],
      "text/plain": [
       "         INCOME  low_income_limit  low_income_limit_cat  low_income\n",
       "2034434       3          57400.00                  4.00           1\n",
       "2034435       4          44650.00                  3.00           0\n",
       "2034436       4          63750.00                  4.00           1\n",
       "2034437       4          44650.00                  3.00           0\n",
       "2034438       5          51000.00                  4.00           0"
      ]
     },
     "metadata": {},
     "output_type": "display_data"
    }
   ],
   "source": [
    "pulse['low_income'] = np.where(pulse.INCOME <= pulse.low_income_limit_cat, 1, 0)\n",
    "\n",
    "print('\\n', color.BOLD + 'Low-income limit comparison columns' + color.END, '\\n')\n",
    "display(pulse[['INCOME', 'low_income_limit', 'low_income_limit_cat', 'low_income']].tail(5))"
   ]
  },
  {
   "cell_type": "markdown",
   "id": "framed-disabled",
   "metadata": {},
   "source": [
    "<hr>"
   ]
  },
  {
   "cell_type": "markdown",
   "id": "conventional-dodge",
   "metadata": {},
   "source": [
    "## Analyzing the data"
   ]
  },
  {
   "cell_type": "markdown",
   "id": "pleasant-petroleum",
   "metadata": {},
   "source": [
    "First, I calculate a weighted count of job losses. I create a new column, <b>recent_job_loss_weight</b> where I multiply the weight of the column <b>HWEIGHT</b> and the <b>recent_job_loss</b> value (1 if 'Yes' and 0 if 'No'). "
   ]
  },
  {
   "cell_type": "code",
   "execution_count": 29,
   "id": "bridal-peter",
   "metadata": {},
   "outputs": [],
   "source": [
    "# Creating weighted job loss col\n",
    "pulse['recent_job_loss_weight'] = pulse.recent_job_loss * pulse.HWEIGHT"
   ]
  },
  {
   "cell_type": "markdown",
   "id": "caroline-ticket",
   "metadata": {},
   "source": [
    "### USEFUL FUNCTIONS\n",
    "\n",
    "Before I analyze the data, I create a couple of useful functions which will make the process more efficient. \n",
    "\n",
    "The <b>group_data</b> function groups a dataframe and calculates for each group a sum of all households and a sum of households which experienced recent job losses. Then, the function calculates the percentage of households in each group which reported recent job loss by dividing the weighted sum of households reporting losses by the sum of all households in the group. \n",
    "\n",
    "The <b>name_group</b> functions each create a new column and assign group names according to each household's characteristics. \n",
    "\n",
    "The <b>pivot_data</b> function takes the grouped data, sets a list of given columns as index and pivots a list of given columns, setting the calculated percentages of recent job loss as values. "
   ]
  },
  {
   "cell_type": "code",
   "execution_count": 30,
   "id": "tamil-patient",
   "metadata": {},
   "outputs": [],
   "source": [
    "def group_data(df, groups):\n",
    "    grouped_df = df.groupby(by=groups, as_index=False, dropna=False).agg(\n",
    "    {'recent_job_loss_weight': 'sum',\n",
    "    'HWEIGHT': 'sum'})\n",
    "    grouped_df['pct_recent_job_loss'] = grouped_df.recent_job_loss_weight / grouped_df.HWEIGHT * 100\n",
    "    return grouped_df"
   ]
  },
  {
   "cell_type": "code",
   "execution_count": 31,
   "id": "social-twenty",
   "metadata": {},
   "outputs": [],
   "source": [
    "def name_group_kids(grouped_df):\n",
    "    grouped_df['group_kids'] = np.where(grouped_df.kids == 0, 'Households without children', np.nan)\n",
    "\n",
    "    grouped_df['group_kids'] = np.where(\n",
    "        (grouped_df.kids == 1) &\n",
    "        (grouped_df.school_kids == 0), 'Households with children not in school', grouped_df.group_kids)\n",
    "\n",
    "    grouped_df['group_kids'] = np.where(\n",
    "        (grouped_df.kids == 1) &\n",
    "        (grouped_df.school_kids == 1), 'Households with children in school', grouped_df.group_kids)\n",
    "    \n",
    "    return grouped_df"
   ]
  },
  {
   "cell_type": "code",
   "execution_count": 32,
   "id": "adverse-vancouver",
   "metadata": {},
   "outputs": [],
   "source": [
    "def name_group_married(grouped_df):\n",
    "    grouped_df['group_married'] = np.where(grouped_df.married == 1, 'Married', np.nan)\n",
    "    grouped_df['group_married'] = np.where(grouped_df.married == 0, 'Single', grouped_df.group_married)\n",
    "    return grouped_df  "
   ]
  },
  {
   "cell_type": "code",
   "execution_count": 33,
   "id": "casual-mapping",
   "metadata": {},
   "outputs": [],
   "source": [
    "def name_group_income(grouped_df):\n",
    "    grouped_df['group_income'] = np.where(grouped_df.low_income == 1, 'Low income', np.nan)\n",
    "    grouped_df['group_income'] = np.where(grouped_df.low_income == 0, 'Middle or upper income', grouped_df.group_income)\n",
    "    return grouped_df"
   ]
  },
  {
   "cell_type": "code",
   "execution_count": 34,
   "id": "beautiful-words",
   "metadata": {},
   "outputs": [],
   "source": [
    "def pivot_data(grouped_df, index_ls, columns_ls):\n",
    "    pivoted_df = grouped_df.pivot(index=index_ls, columns=columns_ls, values='pct_recent_job_loss').reset_index()\n",
    "    return pivoted_df"
   ]
  },
  {
   "cell_type": "markdown",
   "id": "administrative-edinburgh",
   "metadata": {},
   "source": [
    "### STATE ANALYSIS"
   ]
  },
  {
   "cell_type": "markdown",
   "id": "mineral-pound",
   "metadata": {},
   "source": [
    "#### What percentage of households with and without children have experienced job losses since the beginning of the pandemic in each state (on the average week)?"
   ]
  },
  {
   "cell_type": "markdown",
   "id": "becoming-display",
   "metadata": {},
   "source": [
    "I group the dataframe by the <b>state</b>, <b>kids</b> and <b>school_kids</b> columns."
   ]
  },
  {
   "cell_type": "code",
   "execution_count": 35,
   "id": "distinct-gender",
   "metadata": {},
   "outputs": [
    {
     "name": "stdout",
     "output_type": "stream",
     "text": [
      "\n",
      " \u001b[1mRecent job loss by state and week\u001b[0m \n",
      "\n"
     ]
    },
    {
     "data": {
      "text/html": [
       "<div>\n",
       "<style scoped>\n",
       "    .dataframe tbody tr th:only-of-type {\n",
       "        vertical-align: middle;\n",
       "    }\n",
       "\n",
       "    .dataframe tbody tr th {\n",
       "        vertical-align: top;\n",
       "    }\n",
       "\n",
       "    .dataframe thead th {\n",
       "        text-align: right;\n",
       "    }\n",
       "</style>\n",
       "<table border=\"1\" class=\"dataframe\">\n",
       "  <thead>\n",
       "    <tr style=\"text-align: right;\">\n",
       "      <th></th>\n",
       "      <th>state</th>\n",
       "      <th>WEEK</th>\n",
       "      <th>kids</th>\n",
       "      <th>school_kids</th>\n",
       "      <th>recent_job_loss_weight</th>\n",
       "      <th>HWEIGHT</th>\n",
       "      <th>pct_recent_job_loss</th>\n",
       "    </tr>\n",
       "  </thead>\n",
       "  <tbody>\n",
       "    <tr>\n",
       "      <th>0</th>\n",
       "      <td>ALABAMA</td>\n",
       "      <td>1</td>\n",
       "      <td>0</td>\n",
       "      <td>NaN</td>\n",
       "      <td>357294.52</td>\n",
       "      <td>1096802.00</td>\n",
       "      <td>32.58</td>\n",
       "    </tr>\n",
       "    <tr>\n",
       "      <th>1</th>\n",
       "      <td>ALABAMA</td>\n",
       "      <td>1</td>\n",
       "      <td>1</td>\n",
       "      <td>0.00</td>\n",
       "      <td>48913.60</td>\n",
       "      <td>126276.89</td>\n",
       "      <td>38.74</td>\n",
       "    </tr>\n",
       "    <tr>\n",
       "      <th>2</th>\n",
       "      <td>ALABAMA</td>\n",
       "      <td>1</td>\n",
       "      <td>1</td>\n",
       "      <td>1.00</td>\n",
       "      <td>263651.51</td>\n",
       "      <td>538063.06</td>\n",
       "      <td>49.00</td>\n",
       "    </tr>\n",
       "  </tbody>\n",
       "</table>\n",
       "</div>"
      ],
      "text/plain": [
       "     state  WEEK  kids  school_kids  recent_job_loss_weight    HWEIGHT  \\\n",
       "0  ALABAMA     1     0          NaN               357294.52 1096802.00   \n",
       "1  ALABAMA     1     1         0.00                48913.60  126276.89   \n",
       "2  ALABAMA     1     1         1.00               263651.51  538063.06   \n",
       "\n",
       "   pct_recent_job_loss  \n",
       "0                32.58  \n",
       "1                38.74  \n",
       "2                49.00  "
      ]
     },
     "metadata": {},
     "output_type": "display_data"
    }
   ],
   "source": [
    "# Grouping data by state\n",
    "state_grouped = group_data(pulse, ['state', 'WEEK', 'kids', 'school_kids'])\n",
    "\n",
    "print('\\n', color.BOLD + 'Recent job loss by state and week' + color.END, '\\n')\n",
    "display(state_grouped.head(3))"
   ]
  },
  {
   "cell_type": "code",
   "execution_count": 36,
   "id": "foreign-citizenship",
   "metadata": {},
   "outputs": [
    {
     "name": "stdout",
     "output_type": "stream",
     "text": [
      "\n",
      " \u001b[1mRecent job loss by state on the avg week\u001b[0m \n",
      "\n"
     ]
    },
    {
     "data": {
      "text/html": [
       "<div>\n",
       "<style scoped>\n",
       "    .dataframe tbody tr th:only-of-type {\n",
       "        vertical-align: middle;\n",
       "    }\n",
       "\n",
       "    .dataframe tbody tr th {\n",
       "        vertical-align: top;\n",
       "    }\n",
       "\n",
       "    .dataframe thead th {\n",
       "        text-align: right;\n",
       "    }\n",
       "</style>\n",
       "<table border=\"1\" class=\"dataframe\">\n",
       "  <thead>\n",
       "    <tr style=\"text-align: right;\">\n",
       "      <th></th>\n",
       "      <th>state</th>\n",
       "      <th>kids</th>\n",
       "      <th>school_kids</th>\n",
       "      <th>pct_recent_job_loss</th>\n",
       "    </tr>\n",
       "  </thead>\n",
       "  <tbody>\n",
       "    <tr>\n",
       "      <th>0</th>\n",
       "      <td>ALABAMA</td>\n",
       "      <td>1</td>\n",
       "      <td>0.00</td>\n",
       "      <td>41.01</td>\n",
       "    </tr>\n",
       "    <tr>\n",
       "      <th>1</th>\n",
       "      <td>ALABAMA</td>\n",
       "      <td>1</td>\n",
       "      <td>1.00</td>\n",
       "      <td>49.13</td>\n",
       "    </tr>\n",
       "    <tr>\n",
       "      <th>2</th>\n",
       "      <td>ALASKA</td>\n",
       "      <td>1</td>\n",
       "      <td>0.00</td>\n",
       "      <td>45.05</td>\n",
       "    </tr>\n",
       "    <tr>\n",
       "      <th>3</th>\n",
       "      <td>ALASKA</td>\n",
       "      <td>1</td>\n",
       "      <td>1.00</td>\n",
       "      <td>49.29</td>\n",
       "    </tr>\n",
       "  </tbody>\n",
       "</table>\n",
       "</div>"
      ],
      "text/plain": [
       "     state  kids  school_kids  pct_recent_job_loss\n",
       "0  ALABAMA     1         0.00                41.01\n",
       "1  ALABAMA     1         1.00                49.13\n",
       "2   ALASKA     1         0.00                45.05\n",
       "3   ALASKA     1         1.00                49.29"
      ]
     },
     "metadata": {},
     "output_type": "display_data"
    }
   ],
   "source": [
    "# Grouping data by state and week, calculating avg\n",
    "state_grouped_avg = state_grouped.groupby(by=['state', 'kids', 'school_kids'])['pct_recent_job_loss'].mean().reset_index()\n",
    "\n",
    "print('\\n', color.BOLD + 'Recent job loss by state on the avg week' + color.END, '\\n')\n",
    "display(state_grouped_avg.head(4))"
   ]
  },
  {
   "cell_type": "markdown",
   "id": "figured-victorian",
   "metadata": {},
   "source": [
    "I use the naming function to assign appropriate names to each group in a new <b>group_kids</b> column."
   ]
  },
  {
   "cell_type": "code",
   "execution_count": 37,
   "id": "micro-length",
   "metadata": {},
   "outputs": [
    {
     "name": "stdout",
     "output_type": "stream",
     "text": [
      "\n",
      " \u001b[1mRecent job loss by state on the avg week (with group names)\u001b[0m \n",
      "\n"
     ]
    },
    {
     "data": {
      "text/html": [
       "<div>\n",
       "<style scoped>\n",
       "    .dataframe tbody tr th:only-of-type {\n",
       "        vertical-align: middle;\n",
       "    }\n",
       "\n",
       "    .dataframe tbody tr th {\n",
       "        vertical-align: top;\n",
       "    }\n",
       "\n",
       "    .dataframe thead th {\n",
       "        text-align: right;\n",
       "    }\n",
       "</style>\n",
       "<table border=\"1\" class=\"dataframe\">\n",
       "  <thead>\n",
       "    <tr style=\"text-align: right;\">\n",
       "      <th></th>\n",
       "      <th>state</th>\n",
       "      <th>kids</th>\n",
       "      <th>school_kids</th>\n",
       "      <th>pct_recent_job_loss</th>\n",
       "      <th>group_kids</th>\n",
       "    </tr>\n",
       "  </thead>\n",
       "  <tbody>\n",
       "    <tr>\n",
       "      <th>0</th>\n",
       "      <td>ALABAMA</td>\n",
       "      <td>1</td>\n",
       "      <td>0.00</td>\n",
       "      <td>41.01</td>\n",
       "      <td>Households with children not in school</td>\n",
       "    </tr>\n",
       "    <tr>\n",
       "      <th>1</th>\n",
       "      <td>ALABAMA</td>\n",
       "      <td>1</td>\n",
       "      <td>1.00</td>\n",
       "      <td>49.13</td>\n",
       "      <td>Households with children in school</td>\n",
       "    </tr>\n",
       "    <tr>\n",
       "      <th>2</th>\n",
       "      <td>ALASKA</td>\n",
       "      <td>1</td>\n",
       "      <td>0.00</td>\n",
       "      <td>45.05</td>\n",
       "      <td>Households with children not in school</td>\n",
       "    </tr>\n",
       "  </tbody>\n",
       "</table>\n",
       "</div>"
      ],
      "text/plain": [
       "     state  kids  school_kids  pct_recent_job_loss  \\\n",
       "0  ALABAMA     1         0.00                41.01   \n",
       "1  ALABAMA     1         1.00                49.13   \n",
       "2   ALASKA     1         0.00                45.05   \n",
       "\n",
       "                               group_kids  \n",
       "0  Households with children not in school  \n",
       "1      Households with children in school  \n",
       "2  Households with children not in school  "
      ]
     },
     "metadata": {},
     "output_type": "display_data"
    }
   ],
   "source": [
    "# Naming groups\n",
    "state_grouped_avg = name_group_kids(state_grouped_avg)\n",
    "\n",
    "print('\\n', color.BOLD + 'Recent job loss by state on the avg week (with group names)' + color.END, '\\n')\n",
    "display(state_grouped_avg.head(3))"
   ]
  },
  {
   "cell_type": "markdown",
   "id": "absolute-employer",
   "metadata": {},
   "source": [
    "I then pivot the data to display it in a more compact format. I <b>sort</b> the table in descending order by job losses experienced by families with school-age children."
   ]
  },
  {
   "cell_type": "code",
   "execution_count": 38,
   "id": "static-things",
   "metadata": {},
   "outputs": [
    {
     "name": "stdout",
     "output_type": "stream",
     "text": [
      "\n",
      " \u001b[1mRecent job loss by state on the avg week (pivoted)\u001b[0m \n",
      "\n"
     ]
    },
    {
     "data": {
      "text/html": [
       "<div>\n",
       "<style scoped>\n",
       "    .dataframe tbody tr th:only-of-type {\n",
       "        vertical-align: middle;\n",
       "    }\n",
       "\n",
       "    .dataframe tbody tr th {\n",
       "        vertical-align: top;\n",
       "    }\n",
       "\n",
       "    .dataframe thead th {\n",
       "        text-align: right;\n",
       "    }\n",
       "</style>\n",
       "<table border=\"1\" class=\"dataframe\">\n",
       "  <thead>\n",
       "    <tr style=\"text-align: right;\">\n",
       "      <th>group_kids</th>\n",
       "      <th>state</th>\n",
       "      <th>Households with children in school</th>\n",
       "      <th>Households with children not in school</th>\n",
       "    </tr>\n",
       "  </thead>\n",
       "  <tbody>\n",
       "    <tr>\n",
       "      <th>28</th>\n",
       "      <td>NEVADA</td>\n",
       "      <td>64.25</td>\n",
       "      <td>57.71</td>\n",
       "    </tr>\n",
       "    <tr>\n",
       "      <th>22</th>\n",
       "      <td>MICHIGAN</td>\n",
       "      <td>61.97</td>\n",
       "      <td>50.65</td>\n",
       "    </tr>\n",
       "    <tr>\n",
       "      <th>4</th>\n",
       "      <td>CALIFORNIA</td>\n",
       "      <td>59.12</td>\n",
       "      <td>51.68</td>\n",
       "    </tr>\n",
       "  </tbody>\n",
       "</table>\n",
       "</div>"
      ],
      "text/plain": [
       "group_kids       state  Households with children in school  \\\n",
       "28              NEVADA                               64.25   \n",
       "22            MICHIGAN                               61.97   \n",
       "4           CALIFORNIA                               59.12   \n",
       "\n",
       "group_kids  Households with children not in school  \n",
       "28                                           57.71  \n",
       "22                                           50.65  \n",
       "4                                            51.68  "
      ]
     },
     "metadata": {},
     "output_type": "display_data"
    }
   ],
   "source": [
    "# Pivoting df\n",
    "state_pivot = pivot_data(state_grouped_avg, 'state', 'group_kids').sort_values(by='Households with children in school', ascending=False)\n",
    "\n",
    "print('\\n', color.BOLD + 'Recent job loss by state on the avg week (pivoted)' + color.END, '\\n')\n",
    "display(state_pivot.head(3))"
   ]
  },
  {
   "cell_type": "markdown",
   "id": "divided-graph",
   "metadata": {},
   "source": [
    "### CALIFORNIA WEEKLY ANALYSIS"
   ]
  },
  {
   "cell_type": "markdown",
   "id": "ranging-stick",
   "metadata": {},
   "source": [
    "#### What percentage of households with and without school-age children / married / low income have experienced job losses since the beginning of the pandemic in California? "
   ]
  },
  {
   "cell_type": "markdown",
   "id": "tutorial-orleans",
   "metadata": {},
   "source": [
    "First, I create a new subset of California households."
   ]
  },
  {
   "cell_type": "code",
   "execution_count": 39,
   "id": "competent-lightning",
   "metadata": {},
   "outputs": [
    {
     "name": "stdout",
     "output_type": "stream",
     "text": [
      "\n",
      " \u001b[1mCalifornia data\u001b[0m \n",
      "\n"
     ]
    },
    {
     "data": {
      "text/html": [
       "<div>\n",
       "<style scoped>\n",
       "    .dataframe tbody tr th:only-of-type {\n",
       "        vertical-align: middle;\n",
       "    }\n",
       "\n",
       "    .dataframe tbody tr th {\n",
       "        vertical-align: top;\n",
       "    }\n",
       "\n",
       "    .dataframe thead th {\n",
       "        text-align: right;\n",
       "    }\n",
       "</style>\n",
       "<table border=\"1\" class=\"dataframe\">\n",
       "  <thead>\n",
       "    <tr style=\"text-align: right;\">\n",
       "      <th></th>\n",
       "      <th>SCRAM</th>\n",
       "      <th>WEEK</th>\n",
       "      <th>EST_ST</th>\n",
       "      <th>EST_MSA</th>\n",
       "      <th>REGION</th>\n",
       "      <th>HWEIGHT_x</th>\n",
       "      <th>PWEIGHT</th>\n",
       "      <th>TBIRTH_YEAR</th>\n",
       "      <th>ABIRTH_YEAR</th>\n",
       "      <th>EGENDER</th>\n",
       "      <th>...</th>\n",
       "      <th>kids</th>\n",
       "      <th>school_kids</th>\n",
       "      <th>recent_job_loss</th>\n",
       "      <th>married</th>\n",
       "      <th>member_count</th>\n",
       "      <th>state</th>\n",
       "      <th>low_income_limit</th>\n",
       "      <th>low_income_limit_cat</th>\n",
       "      <th>low_income</th>\n",
       "      <th>recent_job_loss_weight</th>\n",
       "    </tr>\n",
       "  </thead>\n",
       "  <tbody>\n",
       "    <tr>\n",
       "      <th>3</th>\n",
       "      <td>V220000001S18010504900113</td>\n",
       "      <td>22</td>\n",
       "      <td>6</td>\n",
       "      <td>NaN</td>\n",
       "      <td>4.00</td>\n",
       "      <td>1187.56</td>\n",
       "      <td>2190.21</td>\n",
       "      <td>1985</td>\n",
       "      <td>2</td>\n",
       "      <td>2</td>\n",
       "      <td>...</td>\n",
       "      <td>0</td>\n",
       "      <td>NaN</td>\n",
       "      <td>0.00</td>\n",
       "      <td>1.00</td>\n",
       "      <td>2</td>\n",
       "      <td>CALIFORNIA</td>\n",
       "      <td>55750.00</td>\n",
       "      <td>4.00</td>\n",
       "      <td>0</td>\n",
       "      <td>0.00</td>\n",
       "    </tr>\n",
       "    <tr>\n",
       "      <th>31</th>\n",
       "      <td>V220000005S12051860410113</td>\n",
       "      <td>22</td>\n",
       "      <td>6</td>\n",
       "      <td>31080.00</td>\n",
       "      <td>4.00</td>\n",
       "      <td>1518.05</td>\n",
       "      <td>2799.71</td>\n",
       "      <td>1956</td>\n",
       "      <td>2</td>\n",
       "      <td>2</td>\n",
       "      <td>...</td>\n",
       "      <td>0</td>\n",
       "      <td>NaN</td>\n",
       "      <td>0.00</td>\n",
       "      <td>1.00</td>\n",
       "      <td>2</td>\n",
       "      <td>CALIFORNIA</td>\n",
       "      <td>55750.00</td>\n",
       "      <td>4.00</td>\n",
       "      <td>0</td>\n",
       "      <td>0.00</td>\n",
       "    </tr>\n",
       "    <tr>\n",
       "      <th>38</th>\n",
       "      <td>V220000006S16060972200113</td>\n",
       "      <td>22</td>\n",
       "      <td>6</td>\n",
       "      <td>NaN</td>\n",
       "      <td>4.00</td>\n",
       "      <td>5012.50</td>\n",
       "      <td>9244.46</td>\n",
       "      <td>1979</td>\n",
       "      <td>2</td>\n",
       "      <td>2</td>\n",
       "      <td>...</td>\n",
       "      <td>1</td>\n",
       "      <td>1.00</td>\n",
       "      <td>0.00</td>\n",
       "      <td>1.00</td>\n",
       "      <td>5</td>\n",
       "      <td>CALIFORNIA</td>\n",
       "      <td>75250.00</td>\n",
       "      <td>5.00</td>\n",
       "      <td>1</td>\n",
       "      <td>0.00</td>\n",
       "    </tr>\n",
       "  </tbody>\n",
       "</table>\n",
       "<p>3 rows × 238 columns</p>\n",
       "</div>"
      ],
      "text/plain": [
       "                        SCRAM  WEEK  EST_ST  EST_MSA  REGION  HWEIGHT_x  \\\n",
       "3   V220000001S18010504900113    22       6      NaN    4.00    1187.56   \n",
       "31  V220000005S12051860410113    22       6 31080.00    4.00    1518.05   \n",
       "38  V220000006S16060972200113    22       6      NaN    4.00    5012.50   \n",
       "\n",
       "    PWEIGHT  TBIRTH_YEAR  ABIRTH_YEAR  EGENDER  ...  kids  school_kids  \\\n",
       "3   2190.21         1985            2        2  ...     0          NaN   \n",
       "31  2799.71         1956            2        2  ...     0          NaN   \n",
       "38  9244.46         1979            2        2  ...     1         1.00   \n",
       "\n",
       "    recent_job_loss  married  member_count       state  low_income_limit  \\\n",
       "3              0.00     1.00             2  CALIFORNIA          55750.00   \n",
       "31             0.00     1.00             2  CALIFORNIA          55750.00   \n",
       "38             0.00     1.00             5  CALIFORNIA          75250.00   \n",
       "\n",
       "    low_income_limit_cat  low_income  recent_job_loss_weight  \n",
       "3                   4.00           0                    0.00  \n",
       "31                  4.00           0                    0.00  \n",
       "38                  5.00           1                    0.00  \n",
       "\n",
       "[3 rows x 238 columns]"
      ]
     },
     "metadata": {},
     "output_type": "display_data"
    }
   ],
   "source": [
    "# Filtering California households\n",
    "pulse_cal = pulse[pulse.state == 'CALIFORNIA']\n",
    "\n",
    "print('\\n', color.BOLD + 'California data' + color.END, '\\n')\n",
    "display(pulse_cal.head(3))"
   ]
  },
  {
   "cell_type": "markdown",
   "id": "frequent-wichita",
   "metadata": {},
   "source": [
    "I then use the predefined functions to group, name and pivot two new subsets of the data: <b>cal_grouped_married</b> and <b>cal_grouped_low_income</b>. Each dataframe categorizes households by the marital status of the interviewee and the income bracket of the household respectively. "
   ]
  },
  {
   "cell_type": "code",
   "execution_count": 40,
   "id": "contained-honey",
   "metadata": {},
   "outputs": [
    {
     "name": "stdout",
     "output_type": "stream",
     "text": [
      "\n",
      " \u001b[1mRecent job loss in California by week - Marital Status\u001b[0m \n",
      "\n"
     ]
    },
    {
     "data": {
      "text/html": [
       "<div>\n",
       "<style scoped>\n",
       "    .dataframe tbody tr th:only-of-type {\n",
       "        vertical-align: middle;\n",
       "    }\n",
       "\n",
       "    .dataframe tbody tr th {\n",
       "        vertical-align: top;\n",
       "    }\n",
       "\n",
       "    .dataframe thead th {\n",
       "        text-align: right;\n",
       "    }\n",
       "</style>\n",
       "<table border=\"1\" class=\"dataframe\">\n",
       "  <thead>\n",
       "    <tr style=\"text-align: right;\">\n",
       "      <th></th>\n",
       "      <th>WEEK</th>\n",
       "      <th>kids</th>\n",
       "      <th>school_kids</th>\n",
       "      <th>married</th>\n",
       "      <th>recent_job_loss_weight</th>\n",
       "      <th>HWEIGHT</th>\n",
       "      <th>pct_recent_job_loss</th>\n",
       "    </tr>\n",
       "  </thead>\n",
       "  <tbody>\n",
       "    <tr>\n",
       "      <th>0</th>\n",
       "      <td>1</td>\n",
       "      <td>0</td>\n",
       "      <td>NaN</td>\n",
       "      <td>0.00</td>\n",
       "      <td>1963522.39</td>\n",
       "      <td>4338013.63</td>\n",
       "      <td>45.26</td>\n",
       "    </tr>\n",
       "    <tr>\n",
       "      <th>1</th>\n",
       "      <td>1</td>\n",
       "      <td>0</td>\n",
       "      <td>NaN</td>\n",
       "      <td>1.00</td>\n",
       "      <td>1388569.52</td>\n",
       "      <td>3342478.49</td>\n",
       "      <td>41.54</td>\n",
       "    </tr>\n",
       "    <tr>\n",
       "      <th>2</th>\n",
       "      <td>1</td>\n",
       "      <td>0</td>\n",
       "      <td>NaN</td>\n",
       "      <td>NaN</td>\n",
       "      <td>11715.97</td>\n",
       "      <td>31271.07</td>\n",
       "      <td>37.47</td>\n",
       "    </tr>\n",
       "  </tbody>\n",
       "</table>\n",
       "</div>"
      ],
      "text/plain": [
       "   WEEK  kids  school_kids  married  recent_job_loss_weight    HWEIGHT  \\\n",
       "0     1     0          NaN     0.00              1963522.39 4338013.63   \n",
       "1     1     0          NaN     1.00              1388569.52 3342478.49   \n",
       "2     1     0          NaN      NaN                11715.97   31271.07   \n",
       "\n",
       "   pct_recent_job_loss  \n",
       "0                45.26  \n",
       "1                41.54  \n",
       "2                37.47  "
      ]
     },
     "metadata": {},
     "output_type": "display_data"
    },
    {
     "name": "stdout",
     "output_type": "stream",
     "text": [
      "\n",
      " \u001b[1mRecent job loss in California by week - Income Bracket\u001b[0m \n",
      "\n"
     ]
    },
    {
     "data": {
      "text/html": [
       "<div>\n",
       "<style scoped>\n",
       "    .dataframe tbody tr th:only-of-type {\n",
       "        vertical-align: middle;\n",
       "    }\n",
       "\n",
       "    .dataframe tbody tr th {\n",
       "        vertical-align: top;\n",
       "    }\n",
       "\n",
       "    .dataframe thead th {\n",
       "        text-align: right;\n",
       "    }\n",
       "</style>\n",
       "<table border=\"1\" class=\"dataframe\">\n",
       "  <thead>\n",
       "    <tr style=\"text-align: right;\">\n",
       "      <th></th>\n",
       "      <th>WEEK</th>\n",
       "      <th>kids</th>\n",
       "      <th>school_kids</th>\n",
       "      <th>low_income</th>\n",
       "      <th>recent_job_loss_weight</th>\n",
       "      <th>HWEIGHT</th>\n",
       "      <th>pct_recent_job_loss</th>\n",
       "    </tr>\n",
       "  </thead>\n",
       "  <tbody>\n",
       "    <tr>\n",
       "      <th>0</th>\n",
       "      <td>1</td>\n",
       "      <td>0</td>\n",
       "      <td>NaN</td>\n",
       "      <td>0</td>\n",
       "      <td>1344270.02</td>\n",
       "      <td>3422803.15</td>\n",
       "      <td>39.27</td>\n",
       "    </tr>\n",
       "    <tr>\n",
       "      <th>1</th>\n",
       "      <td>1</td>\n",
       "      <td>0</td>\n",
       "      <td>NaN</td>\n",
       "      <td>1</td>\n",
       "      <td>2019537.87</td>\n",
       "      <td>4288960.04</td>\n",
       "      <td>47.09</td>\n",
       "    </tr>\n",
       "    <tr>\n",
       "      <th>2</th>\n",
       "      <td>1</td>\n",
       "      <td>1</td>\n",
       "      <td>0.00</td>\n",
       "      <td>0</td>\n",
       "      <td>117648.41</td>\n",
       "      <td>371833.77</td>\n",
       "      <td>31.64</td>\n",
       "    </tr>\n",
       "  </tbody>\n",
       "</table>\n",
       "</div>"
      ],
      "text/plain": [
       "   WEEK  kids  school_kids  low_income  recent_job_loss_weight    HWEIGHT  \\\n",
       "0     1     0          NaN           0              1344270.02 3422803.15   \n",
       "1     1     0          NaN           1              2019537.87 4288960.04   \n",
       "2     1     1         0.00           0               117648.41  371833.77   \n",
       "\n",
       "   pct_recent_job_loss  \n",
       "0                39.27  \n",
       "1                47.09  \n",
       "2                31.64  "
      ]
     },
     "metadata": {},
     "output_type": "display_data"
    }
   ],
   "source": [
    "cal_grouped_married = group_data(pulse_cal, ['WEEK', 'kids', 'school_kids', 'married'])\n",
    "cal_grouped_income = group_data(pulse_cal, ['WEEK', 'kids', 'school_kids', 'low_income'])\n",
    "\n",
    "print('\\n', color.BOLD + 'Recent job loss in California by week - Marital Status' + color.END, '\\n')\n",
    "display(cal_grouped_married.head(3))\n",
    "\n",
    "print('\\n', color.BOLD + 'Recent job loss in California by week - Income Bracket' + color.END, '\\n')\n",
    "display(cal_grouped_income.head(3))"
   ]
  },
  {
   "cell_type": "code",
   "execution_count": 41,
   "id": "aerial-netscape",
   "metadata": {},
   "outputs": [
    {
     "name": "stdout",
     "output_type": "stream",
     "text": [
      "\n",
      " \u001b[1mRecent job loss in California by week (with group names) - Marital Status\u001b[0m \n",
      "\n"
     ]
    },
    {
     "data": {
      "text/html": [
       "<div>\n",
       "<style scoped>\n",
       "    .dataframe tbody tr th:only-of-type {\n",
       "        vertical-align: middle;\n",
       "    }\n",
       "\n",
       "    .dataframe tbody tr th {\n",
       "        vertical-align: top;\n",
       "    }\n",
       "\n",
       "    .dataframe thead th {\n",
       "        text-align: right;\n",
       "    }\n",
       "</style>\n",
       "<table border=\"1\" class=\"dataframe\">\n",
       "  <thead>\n",
       "    <tr style=\"text-align: right;\">\n",
       "      <th></th>\n",
       "      <th>WEEK</th>\n",
       "      <th>kids</th>\n",
       "      <th>school_kids</th>\n",
       "      <th>married</th>\n",
       "      <th>recent_job_loss_weight</th>\n",
       "      <th>HWEIGHT</th>\n",
       "      <th>pct_recent_job_loss</th>\n",
       "      <th>group_kids</th>\n",
       "      <th>group_married</th>\n",
       "    </tr>\n",
       "  </thead>\n",
       "  <tbody>\n",
       "    <tr>\n",
       "      <th>0</th>\n",
       "      <td>1</td>\n",
       "      <td>0</td>\n",
       "      <td>NaN</td>\n",
       "      <td>0.00</td>\n",
       "      <td>1963522.39</td>\n",
       "      <td>4338013.63</td>\n",
       "      <td>45.26</td>\n",
       "      <td>Households without children</td>\n",
       "      <td>Single</td>\n",
       "    </tr>\n",
       "    <tr>\n",
       "      <th>1</th>\n",
       "      <td>1</td>\n",
       "      <td>0</td>\n",
       "      <td>NaN</td>\n",
       "      <td>1.00</td>\n",
       "      <td>1388569.52</td>\n",
       "      <td>3342478.49</td>\n",
       "      <td>41.54</td>\n",
       "      <td>Households without children</td>\n",
       "      <td>Married</td>\n",
       "    </tr>\n",
       "    <tr>\n",
       "      <th>2</th>\n",
       "      <td>1</td>\n",
       "      <td>0</td>\n",
       "      <td>NaN</td>\n",
       "      <td>NaN</td>\n",
       "      <td>11715.97</td>\n",
       "      <td>31271.07</td>\n",
       "      <td>37.47</td>\n",
       "      <td>Households without children</td>\n",
       "      <td>nan</td>\n",
       "    </tr>\n",
       "  </tbody>\n",
       "</table>\n",
       "</div>"
      ],
      "text/plain": [
       "   WEEK  kids  school_kids  married  recent_job_loss_weight    HWEIGHT  \\\n",
       "0     1     0          NaN     0.00              1963522.39 4338013.63   \n",
       "1     1     0          NaN     1.00              1388569.52 3342478.49   \n",
       "2     1     0          NaN      NaN                11715.97   31271.07   \n",
       "\n",
       "   pct_recent_job_loss                   group_kids group_married  \n",
       "0                45.26  Households without children        Single  \n",
       "1                41.54  Households without children       Married  \n",
       "2                37.47  Households without children           nan  "
      ]
     },
     "metadata": {},
     "output_type": "display_data"
    },
    {
     "name": "stdout",
     "output_type": "stream",
     "text": [
      "\n",
      " \u001b[1mRecent job loss in California by week (with group names) - Income Bracket\u001b[0m \n",
      "\n"
     ]
    },
    {
     "data": {
      "text/html": [
       "<div>\n",
       "<style scoped>\n",
       "    .dataframe tbody tr th:only-of-type {\n",
       "        vertical-align: middle;\n",
       "    }\n",
       "\n",
       "    .dataframe tbody tr th {\n",
       "        vertical-align: top;\n",
       "    }\n",
       "\n",
       "    .dataframe thead th {\n",
       "        text-align: right;\n",
       "    }\n",
       "</style>\n",
       "<table border=\"1\" class=\"dataframe\">\n",
       "  <thead>\n",
       "    <tr style=\"text-align: right;\">\n",
       "      <th></th>\n",
       "      <th>WEEK</th>\n",
       "      <th>kids</th>\n",
       "      <th>school_kids</th>\n",
       "      <th>low_income</th>\n",
       "      <th>recent_job_loss_weight</th>\n",
       "      <th>HWEIGHT</th>\n",
       "      <th>pct_recent_job_loss</th>\n",
       "      <th>group_kids</th>\n",
       "      <th>group_income</th>\n",
       "    </tr>\n",
       "  </thead>\n",
       "  <tbody>\n",
       "    <tr>\n",
       "      <th>0</th>\n",
       "      <td>1</td>\n",
       "      <td>0</td>\n",
       "      <td>NaN</td>\n",
       "      <td>0</td>\n",
       "      <td>1344270.02</td>\n",
       "      <td>3422803.15</td>\n",
       "      <td>39.27</td>\n",
       "      <td>Households without children</td>\n",
       "      <td>Middle or upper income</td>\n",
       "    </tr>\n",
       "    <tr>\n",
       "      <th>1</th>\n",
       "      <td>1</td>\n",
       "      <td>0</td>\n",
       "      <td>NaN</td>\n",
       "      <td>1</td>\n",
       "      <td>2019537.87</td>\n",
       "      <td>4288960.04</td>\n",
       "      <td>47.09</td>\n",
       "      <td>Households without children</td>\n",
       "      <td>Low income</td>\n",
       "    </tr>\n",
       "    <tr>\n",
       "      <th>2</th>\n",
       "      <td>1</td>\n",
       "      <td>1</td>\n",
       "      <td>0.00</td>\n",
       "      <td>0</td>\n",
       "      <td>117648.41</td>\n",
       "      <td>371833.77</td>\n",
       "      <td>31.64</td>\n",
       "      <td>Households with children not in school</td>\n",
       "      <td>Middle or upper income</td>\n",
       "    </tr>\n",
       "  </tbody>\n",
       "</table>\n",
       "</div>"
      ],
      "text/plain": [
       "   WEEK  kids  school_kids  low_income  recent_job_loss_weight    HWEIGHT  \\\n",
       "0     1     0          NaN           0              1344270.02 3422803.15   \n",
       "1     1     0          NaN           1              2019537.87 4288960.04   \n",
       "2     1     1         0.00           0               117648.41  371833.77   \n",
       "\n",
       "   pct_recent_job_loss                              group_kids  \\\n",
       "0                39.27             Households without children   \n",
       "1                47.09             Households without children   \n",
       "2                31.64  Households with children not in school   \n",
       "\n",
       "             group_income  \n",
       "0  Middle or upper income  \n",
       "1              Low income  \n",
       "2  Middle or upper income  "
      ]
     },
     "metadata": {},
     "output_type": "display_data"
    }
   ],
   "source": [
    "# Naming groups\n",
    "cal_grouped_married = name_group_kids(cal_grouped_married)\n",
    "cal_grouped_income = name_group_kids(cal_grouped_income)\n",
    "\n",
    "cal_grouped_married = name_group_married(cal_grouped_married)\n",
    "cal_grouped_income = name_group_income(cal_grouped_income)\n",
    "\n",
    "print('\\n', color.BOLD + 'Recent job loss in California by week (with group names) - Marital Status' + color.END, '\\n')\n",
    "display(cal_grouped_married.head(3))\n",
    "\n",
    "print('\\n', color.BOLD + 'Recent job loss in California by week (with group names) - Income Bracket' + color.END, '\\n')\n",
    "display(cal_grouped_income.head(3))"
   ]
  },
  {
   "cell_type": "markdown",
   "id": "animal-italian",
   "metadata": {},
   "source": [
    "I remove rows with null group values from the dataframe grouped on marital status."
   ]
  },
  {
   "cell_type": "code",
   "execution_count": 42,
   "id": "juvenile-amber",
   "metadata": {},
   "outputs": [],
   "source": [
    "# Removing nulls from col\n",
    "cal_grouped_married = cal_grouped_married[cal_grouped_married.group_married != 'nan']"
   ]
  },
  {
   "cell_type": "markdown",
   "id": "greater-assessment",
   "metadata": {},
   "source": [
    "Finally, I pivot both dataframes. "
   ]
  },
  {
   "cell_type": "code",
   "execution_count": 43,
   "id": "outdoor-journal",
   "metadata": {},
   "outputs": [
    {
     "name": "stdout",
     "output_type": "stream",
     "text": [
      "\n",
      " \u001b[1mRecent job loss by week (pivoted) - Marital Status\u001b[0m \n",
      "\n"
     ]
    },
    {
     "data": {
      "text/html": [
       "<div>\n",
       "<style scoped>\n",
       "    .dataframe tbody tr th:only-of-type {\n",
       "        vertical-align: middle;\n",
       "    }\n",
       "\n",
       "    .dataframe tbody tr th {\n",
       "        vertical-align: top;\n",
       "    }\n",
       "\n",
       "    .dataframe thead tr th {\n",
       "        text-align: left;\n",
       "    }\n",
       "</style>\n",
       "<table border=\"1\" class=\"dataframe\">\n",
       "  <thead>\n",
       "    <tr>\n",
       "      <th>group_kids</th>\n",
       "      <th>WEEK</th>\n",
       "      <th colspan=\"2\" halign=\"left\">Households without children</th>\n",
       "      <th colspan=\"2\" halign=\"left\">Households with children not in school</th>\n",
       "      <th colspan=\"2\" halign=\"left\">Households with children in school</th>\n",
       "    </tr>\n",
       "    <tr>\n",
       "      <th>group_married</th>\n",
       "      <th></th>\n",
       "      <th>Single</th>\n",
       "      <th>Married</th>\n",
       "      <th>Single</th>\n",
       "      <th>Married</th>\n",
       "      <th>Single</th>\n",
       "      <th>Married</th>\n",
       "    </tr>\n",
       "  </thead>\n",
       "  <tbody>\n",
       "    <tr>\n",
       "      <th>0</th>\n",
       "      <td>1</td>\n",
       "      <td>45.26</td>\n",
       "      <td>41.54</td>\n",
       "      <td>57.70</td>\n",
       "      <td>48.42</td>\n",
       "      <td>64.90</td>\n",
       "      <td>51.11</td>\n",
       "    </tr>\n",
       "    <tr>\n",
       "      <th>1</th>\n",
       "      <td>2</td>\n",
       "      <td>40.86</td>\n",
       "      <td>43.08</td>\n",
       "      <td>76.94</td>\n",
       "      <td>46.58</td>\n",
       "      <td>66.81</td>\n",
       "      <td>61.60</td>\n",
       "    </tr>\n",
       "    <tr>\n",
       "      <th>2</th>\n",
       "      <td>3</td>\n",
       "      <td>47.99</td>\n",
       "      <td>43.76</td>\n",
       "      <td>67.83</td>\n",
       "      <td>61.01</td>\n",
       "      <td>67.15</td>\n",
       "      <td>55.00</td>\n",
       "    </tr>\n",
       "    <tr>\n",
       "      <th>3</th>\n",
       "      <td>4</td>\n",
       "      <td>46.66</td>\n",
       "      <td>37.36</td>\n",
       "      <td>69.01</td>\n",
       "      <td>66.05</td>\n",
       "      <td>69.65</td>\n",
       "      <td>60.45</td>\n",
       "    </tr>\n",
       "    <tr>\n",
       "      <th>4</th>\n",
       "      <td>5</td>\n",
       "      <td>44.26</td>\n",
       "      <td>37.56</td>\n",
       "      <td>72.28</td>\n",
       "      <td>41.09</td>\n",
       "      <td>66.29</td>\n",
       "      <td>53.56</td>\n",
       "    </tr>\n",
       "  </tbody>\n",
       "</table>\n",
       "</div>"
      ],
      "text/plain": [
       "group_kids    WEEK Households without children          \\\n",
       "group_married                           Single Married   \n",
       "0                1                       45.26   41.54   \n",
       "1                2                       40.86   43.08   \n",
       "2                3                       47.99   43.76   \n",
       "3                4                       46.66   37.36   \n",
       "4                5                       44.26   37.56   \n",
       "\n",
       "group_kids    Households with children not in school          \\\n",
       "group_married                                 Single Married   \n",
       "0                                              57.70   48.42   \n",
       "1                                              76.94   46.58   \n",
       "2                                              67.83   61.01   \n",
       "3                                              69.01   66.05   \n",
       "4                                              72.28   41.09   \n",
       "\n",
       "group_kids    Households with children in school          \n",
       "group_married                             Single Married  \n",
       "0                                          64.90   51.11  \n",
       "1                                          66.81   61.60  \n",
       "2                                          67.15   55.00  \n",
       "3                                          69.65   60.45  \n",
       "4                                          66.29   53.56  "
      ]
     },
     "metadata": {},
     "output_type": "display_data"
    },
    {
     "name": "stdout",
     "output_type": "stream",
     "text": [
      "\n",
      " \u001b[1mRecent job loss by week (pivoted) - Income Bracket\u001b[0m \n",
      "\n"
     ]
    },
    {
     "data": {
      "text/html": [
       "<div>\n",
       "<style scoped>\n",
       "    .dataframe tbody tr th:only-of-type {\n",
       "        vertical-align: middle;\n",
       "    }\n",
       "\n",
       "    .dataframe tbody tr th {\n",
       "        vertical-align: top;\n",
       "    }\n",
       "\n",
       "    .dataframe thead tr th {\n",
       "        text-align: left;\n",
       "    }\n",
       "</style>\n",
       "<table border=\"1\" class=\"dataframe\">\n",
       "  <thead>\n",
       "    <tr>\n",
       "      <th>group_kids</th>\n",
       "      <th>WEEK</th>\n",
       "      <th colspan=\"2\" halign=\"left\">Households without children</th>\n",
       "      <th colspan=\"2\" halign=\"left\">Households with children not in school</th>\n",
       "      <th colspan=\"2\" halign=\"left\">Households with children in school</th>\n",
       "    </tr>\n",
       "    <tr>\n",
       "      <th>group_income</th>\n",
       "      <th></th>\n",
       "      <th>Middle or upper income</th>\n",
       "      <th>Low income</th>\n",
       "      <th>Middle or upper income</th>\n",
       "      <th>Low income</th>\n",
       "      <th>Middle or upper income</th>\n",
       "      <th>Low income</th>\n",
       "    </tr>\n",
       "  </thead>\n",
       "  <tbody>\n",
       "    <tr>\n",
       "      <th>0</th>\n",
       "      <td>1</td>\n",
       "      <td>39.27</td>\n",
       "      <td>47.09</td>\n",
       "      <td>31.64</td>\n",
       "      <td>64.80</td>\n",
       "      <td>41.19</td>\n",
       "      <td>66.16</td>\n",
       "    </tr>\n",
       "    <tr>\n",
       "      <th>1</th>\n",
       "      <td>2</td>\n",
       "      <td>38.51</td>\n",
       "      <td>43.92</td>\n",
       "      <td>18.83</td>\n",
       "      <td>80.39</td>\n",
       "      <td>50.74</td>\n",
       "      <td>71.18</td>\n",
       "    </tr>\n",
       "    <tr>\n",
       "      <th>2</th>\n",
       "      <td>3</td>\n",
       "      <td>41.32</td>\n",
       "      <td>48.87</td>\n",
       "      <td>29.13</td>\n",
       "      <td>80.68</td>\n",
       "      <td>39.92</td>\n",
       "      <td>72.81</td>\n",
       "    </tr>\n",
       "    <tr>\n",
       "      <th>3</th>\n",
       "      <td>4</td>\n",
       "      <td>34.25</td>\n",
       "      <td>49.94</td>\n",
       "      <td>41.16</td>\n",
       "      <td>82.32</td>\n",
       "      <td>44.42</td>\n",
       "      <td>76.85</td>\n",
       "    </tr>\n",
       "    <tr>\n",
       "      <th>4</th>\n",
       "      <td>5</td>\n",
       "      <td>33.54</td>\n",
       "      <td>47.71</td>\n",
       "      <td>31.51</td>\n",
       "      <td>70.19</td>\n",
       "      <td>41.56</td>\n",
       "      <td>68.59</td>\n",
       "    </tr>\n",
       "  </tbody>\n",
       "</table>\n",
       "</div>"
      ],
      "text/plain": [
       "group_kids   WEEK Households without children             \\\n",
       "group_income           Middle or upper income Low income   \n",
       "0               1                       39.27      47.09   \n",
       "1               2                       38.51      43.92   \n",
       "2               3                       41.32      48.87   \n",
       "3               4                       34.25      49.94   \n",
       "4               5                       33.54      47.71   \n",
       "\n",
       "group_kids   Households with children not in school             \\\n",
       "group_income                 Middle or upper income Low income   \n",
       "0                                             31.64      64.80   \n",
       "1                                             18.83      80.39   \n",
       "2                                             29.13      80.68   \n",
       "3                                             41.16      82.32   \n",
       "4                                             31.51      70.19   \n",
       "\n",
       "group_kids   Households with children in school             \n",
       "group_income             Middle or upper income Low income  \n",
       "0                                         41.19      66.16  \n",
       "1                                         50.74      71.18  \n",
       "2                                         39.92      72.81  \n",
       "3                                         44.42      76.85  \n",
       "4                                         41.56      68.59  "
      ]
     },
     "metadata": {},
     "output_type": "display_data"
    }
   ],
   "source": [
    "# Pivoting df\n",
    "married_pivot = pivot_data(cal_grouped_married, 'WEEK', ['group_kids', 'group_married'])\n",
    "income_pivot = pivot_data(cal_grouped_income, 'WEEK', ['group_kids', 'group_income'])\n",
    "\n",
    "print('\\n', color.BOLD + 'Recent job loss by week (pivoted) - Marital Status' + color.END, '\\n')\n",
    "display(married_pivot.head(5))\n",
    "\n",
    "print('\\n', color.BOLD + 'Recent job loss by week (pivoted) - Income Bracket' + color.END, '\\n')\n",
    "display(income_pivot.head(5))"
   ]
  },
  {
   "cell_type": "markdown",
   "id": "overall-enough",
   "metadata": {},
   "source": [
    "### CALIFORNIA METRO WEEKLY ANALYSIS"
   ]
  },
  {
   "cell_type": "markdown",
   "id": "celtic-acrobat",
   "metadata": {},
   "source": [
    "#### Where did California households with and without school-age children experience job losses? "
   ]
  },
  {
   "cell_type": "markdown",
   "id": "entire-indonesian",
   "metadata": {},
   "source": [
    "The Pulse Survey includes households from three California metropolitan areas:\n",
    "\n",
    "- Los Angeles - Long Beach - Anaheim\n",
    "- San Francisco - Oakland - Hayward\n",
    "- Riverside - San Bernardino - Ontario\n",
    "\n",
    "These regions are coded with numeric entries in the <b>EST_MSA</b> column. I import a csv file which pairs each code to the appropriate metropolitan area name. I then merge the file with my dataframe. "
   ]
  },
  {
   "cell_type": "code",
   "execution_count": 44,
   "id": "thick-warning",
   "metadata": {},
   "outputs": [],
   "source": [
    "# Importing df\n",
    "metro_codes = pd.read_csv('metro_codes.csv')\n",
    "\n",
    "# Merging with cal data\n",
    "pulse_cal = pd.merge(pulse_cal, metro_codes, on='EST_MSA', how='left')"
   ]
  },
  {
   "cell_type": "markdown",
   "id": "friendly-oracle",
   "metadata": {},
   "source": [
    "I group, name and pivot the data. I remove rows with null metropolitan area entries."
   ]
  },
  {
   "cell_type": "code",
   "execution_count": 45,
   "id": "geographic-cable",
   "metadata": {},
   "outputs": [
    {
     "name": "stdout",
     "output_type": "stream",
     "text": [
      "\n",
      " \u001b[1mRecent job loss in California by week - Metro Area\u001b[0m \n",
      "\n"
     ]
    },
    {
     "data": {
      "text/html": [
       "<div>\n",
       "<style scoped>\n",
       "    .dataframe tbody tr th:only-of-type {\n",
       "        vertical-align: middle;\n",
       "    }\n",
       "\n",
       "    .dataframe tbody tr th {\n",
       "        vertical-align: top;\n",
       "    }\n",
       "\n",
       "    .dataframe thead th {\n",
       "        text-align: right;\n",
       "    }\n",
       "</style>\n",
       "<table border=\"1\" class=\"dataframe\">\n",
       "  <thead>\n",
       "    <tr style=\"text-align: right;\">\n",
       "      <th></th>\n",
       "      <th>WEEK</th>\n",
       "      <th>kids</th>\n",
       "      <th>school_kids</th>\n",
       "      <th>metro_name</th>\n",
       "      <th>recent_job_loss_weight</th>\n",
       "      <th>HWEIGHT</th>\n",
       "      <th>pct_recent_job_loss</th>\n",
       "    </tr>\n",
       "  </thead>\n",
       "  <tbody>\n",
       "    <tr>\n",
       "      <th>0</th>\n",
       "      <td>1</td>\n",
       "      <td>0</td>\n",
       "      <td>NaN</td>\n",
       "      <td>Los Angeles - Long Beach - Anaheim</td>\n",
       "      <td>1465816.05</td>\n",
       "      <td>2802935.13</td>\n",
       "      <td>52.30</td>\n",
       "    </tr>\n",
       "    <tr>\n",
       "      <th>1</th>\n",
       "      <td>1</td>\n",
       "      <td>0</td>\n",
       "      <td>NaN</td>\n",
       "      <td>Riverside - San Bernardino - Ontario</td>\n",
       "      <td>358333.78</td>\n",
       "      <td>988361.36</td>\n",
       "      <td>36.26</td>\n",
       "    </tr>\n",
       "    <tr>\n",
       "      <th>2</th>\n",
       "      <td>1</td>\n",
       "      <td>0</td>\n",
       "      <td>NaN</td>\n",
       "      <td>San Francisco - Oakland - Hayward</td>\n",
       "      <td>414629.74</td>\n",
       "      <td>1074667.99</td>\n",
       "      <td>38.58</td>\n",
       "    </tr>\n",
       "  </tbody>\n",
       "</table>\n",
       "</div>"
      ],
      "text/plain": [
       "   WEEK  kids  school_kids                            metro_name  \\\n",
       "0     1     0          NaN    Los Angeles - Long Beach - Anaheim   \n",
       "1     1     0          NaN  Riverside - San Bernardino - Ontario   \n",
       "2     1     0          NaN     San Francisco - Oakland - Hayward   \n",
       "\n",
       "   recent_job_loss_weight    HWEIGHT  pct_recent_job_loss  \n",
       "0              1465816.05 2802935.13                52.30  \n",
       "1               358333.78  988361.36                36.26  \n",
       "2               414629.74 1074667.99                38.58  "
      ]
     },
     "metadata": {},
     "output_type": "display_data"
    }
   ],
   "source": [
    "# Grouping df\n",
    "cal_grouped_metro = group_data(pulse_cal, ['WEEK', 'kids', 'school_kids', 'metro_name'])\n",
    "\n",
    "# Removing nulls\n",
    "cal_grouped_metro = cal_grouped_metro[cal_grouped_metro.metro_name.isnull() == False]\n",
    "\n",
    "print('\\n', color.BOLD + 'Recent job loss in California by week - Metro Area' + color.END, '\\n')\n",
    "display(cal_grouped_metro.head(3))"
   ]
  },
  {
   "cell_type": "code",
   "execution_count": 46,
   "id": "close-satellite",
   "metadata": {},
   "outputs": [
    {
     "name": "stdout",
     "output_type": "stream",
     "text": [
      "\n",
      " \u001b[1mRecent job loss in California by week (with group names) - Metro Area\u001b[0m \n",
      "\n"
     ]
    },
    {
     "data": {
      "text/html": [
       "<div>\n",
       "<style scoped>\n",
       "    .dataframe tbody tr th:only-of-type {\n",
       "        vertical-align: middle;\n",
       "    }\n",
       "\n",
       "    .dataframe tbody tr th {\n",
       "        vertical-align: top;\n",
       "    }\n",
       "\n",
       "    .dataframe thead th {\n",
       "        text-align: right;\n",
       "    }\n",
       "</style>\n",
       "<table border=\"1\" class=\"dataframe\">\n",
       "  <thead>\n",
       "    <tr style=\"text-align: right;\">\n",
       "      <th></th>\n",
       "      <th>WEEK</th>\n",
       "      <th>kids</th>\n",
       "      <th>school_kids</th>\n",
       "      <th>metro_name</th>\n",
       "      <th>recent_job_loss_weight</th>\n",
       "      <th>HWEIGHT</th>\n",
       "      <th>pct_recent_job_loss</th>\n",
       "      <th>group_kids</th>\n",
       "    </tr>\n",
       "  </thead>\n",
       "  <tbody>\n",
       "    <tr>\n",
       "      <th>0</th>\n",
       "      <td>1</td>\n",
       "      <td>0</td>\n",
       "      <td>NaN</td>\n",
       "      <td>Los Angeles - Long Beach - Anaheim</td>\n",
       "      <td>1465816.05</td>\n",
       "      <td>2802935.13</td>\n",
       "      <td>52.30</td>\n",
       "      <td>Households without children</td>\n",
       "    </tr>\n",
       "    <tr>\n",
       "      <th>1</th>\n",
       "      <td>1</td>\n",
       "      <td>0</td>\n",
       "      <td>NaN</td>\n",
       "      <td>Riverside - San Bernardino - Ontario</td>\n",
       "      <td>358333.78</td>\n",
       "      <td>988361.36</td>\n",
       "      <td>36.26</td>\n",
       "      <td>Households without children</td>\n",
       "    </tr>\n",
       "    <tr>\n",
       "      <th>2</th>\n",
       "      <td>1</td>\n",
       "      <td>0</td>\n",
       "      <td>NaN</td>\n",
       "      <td>San Francisco - Oakland - Hayward</td>\n",
       "      <td>414629.74</td>\n",
       "      <td>1074667.99</td>\n",
       "      <td>38.58</td>\n",
       "      <td>Households without children</td>\n",
       "    </tr>\n",
       "  </tbody>\n",
       "</table>\n",
       "</div>"
      ],
      "text/plain": [
       "   WEEK  kids  school_kids                            metro_name  \\\n",
       "0     1     0          NaN    Los Angeles - Long Beach - Anaheim   \n",
       "1     1     0          NaN  Riverside - San Bernardino - Ontario   \n",
       "2     1     0          NaN     San Francisco - Oakland - Hayward   \n",
       "\n",
       "   recent_job_loss_weight    HWEIGHT  pct_recent_job_loss  \\\n",
       "0              1465816.05 2802935.13                52.30   \n",
       "1               358333.78  988361.36                36.26   \n",
       "2               414629.74 1074667.99                38.58   \n",
       "\n",
       "                    group_kids  \n",
       "0  Households without children  \n",
       "1  Households without children  \n",
       "2  Households without children  "
      ]
     },
     "metadata": {},
     "output_type": "display_data"
    }
   ],
   "source": [
    "# Naming groups\n",
    "cal_grouped_metro = name_group_kids(cal_grouped_metro)\n",
    "\n",
    "print('\\n', color.BOLD + 'Recent job loss in California by week (with group names) - Metro Area' + color.END, '\\n')\n",
    "display(cal_grouped_metro.head(3))"
   ]
  },
  {
   "cell_type": "code",
   "execution_count": 47,
   "id": "fundamental-moore",
   "metadata": {},
   "outputs": [
    {
     "name": "stdout",
     "output_type": "stream",
     "text": [
      "\n",
      " \u001b[1mRecent job loss by week (pivoted) - Metro Areas\u001b[0m \n",
      "\n"
     ]
    },
    {
     "data": {
      "text/html": [
       "<div>\n",
       "<style scoped>\n",
       "    .dataframe tbody tr th:only-of-type {\n",
       "        vertical-align: middle;\n",
       "    }\n",
       "\n",
       "    .dataframe tbody tr th {\n",
       "        vertical-align: top;\n",
       "    }\n",
       "\n",
       "    .dataframe thead tr th {\n",
       "        text-align: left;\n",
       "    }\n",
       "</style>\n",
       "<table border=\"1\" class=\"dataframe\">\n",
       "  <thead>\n",
       "    <tr>\n",
       "      <th>group_kids</th>\n",
       "      <th>WEEK</th>\n",
       "      <th colspan=\"3\" halign=\"left\">Households without children</th>\n",
       "      <th colspan=\"3\" halign=\"left\">Households with children not in school</th>\n",
       "      <th colspan=\"3\" halign=\"left\">Households with children in school</th>\n",
       "    </tr>\n",
       "    <tr>\n",
       "      <th>metro_name</th>\n",
       "      <th></th>\n",
       "      <th>Los Angeles - Long Beach - Anaheim</th>\n",
       "      <th>Riverside - San Bernardino - Ontario</th>\n",
       "      <th>San Francisco - Oakland - Hayward</th>\n",
       "      <th>Los Angeles - Long Beach - Anaheim</th>\n",
       "      <th>Riverside - San Bernardino - Ontario</th>\n",
       "      <th>San Francisco - Oakland - Hayward</th>\n",
       "      <th>Los Angeles - Long Beach - Anaheim</th>\n",
       "      <th>Riverside - San Bernardino - Ontario</th>\n",
       "      <th>San Francisco - Oakland - Hayward</th>\n",
       "    </tr>\n",
       "  </thead>\n",
       "  <tbody>\n",
       "    <tr>\n",
       "      <th>0</th>\n",
       "      <td>1</td>\n",
       "      <td>52.30</td>\n",
       "      <td>36.26</td>\n",
       "      <td>38.58</td>\n",
       "      <td>42.75</td>\n",
       "      <td>42.73</td>\n",
       "      <td>44.95</td>\n",
       "      <td>58.48</td>\n",
       "      <td>59.81</td>\n",
       "      <td>54.59</td>\n",
       "    </tr>\n",
       "    <tr>\n",
       "      <th>1</th>\n",
       "      <td>2</td>\n",
       "      <td>47.25</td>\n",
       "      <td>46.81</td>\n",
       "      <td>41.08</td>\n",
       "      <td>68.73</td>\n",
       "      <td>81.08</td>\n",
       "      <td>46.22</td>\n",
       "      <td>54.92</td>\n",
       "      <td>68.96</td>\n",
       "      <td>56.34</td>\n",
       "    </tr>\n",
       "    <tr>\n",
       "      <th>2</th>\n",
       "      <td>3</td>\n",
       "      <td>52.62</td>\n",
       "      <td>51.77</td>\n",
       "      <td>37.84</td>\n",
       "      <td>72.95</td>\n",
       "      <td>78.95</td>\n",
       "      <td>46.50</td>\n",
       "      <td>59.27</td>\n",
       "      <td>58.83</td>\n",
       "      <td>49.89</td>\n",
       "    </tr>\n",
       "    <tr>\n",
       "      <th>3</th>\n",
       "      <td>4</td>\n",
       "      <td>48.13</td>\n",
       "      <td>46.53</td>\n",
       "      <td>33.61</td>\n",
       "      <td>70.05</td>\n",
       "      <td>68.55</td>\n",
       "      <td>69.62</td>\n",
       "      <td>70.25</td>\n",
       "      <td>69.01</td>\n",
       "      <td>47.98</td>\n",
       "    </tr>\n",
       "    <tr>\n",
       "      <th>4</th>\n",
       "      <td>5</td>\n",
       "      <td>46.40</td>\n",
       "      <td>44.59</td>\n",
       "      <td>42.28</td>\n",
       "      <td>68.32</td>\n",
       "      <td>83.36</td>\n",
       "      <td>45.04</td>\n",
       "      <td>60.58</td>\n",
       "      <td>63.88</td>\n",
       "      <td>44.42</td>\n",
       "    </tr>\n",
       "  </tbody>\n",
       "</table>\n",
       "</div>"
      ],
      "text/plain": [
       "group_kids WEEK        Households without children  \\\n",
       "metro_name      Los Angeles - Long Beach - Anaheim   \n",
       "0             1                              52.30   \n",
       "1             2                              47.25   \n",
       "2             3                              52.62   \n",
       "3             4                              48.13   \n",
       "4             5                              46.40   \n",
       "\n",
       "group_kids                                       \\\n",
       "metro_name Riverside - San Bernardino - Ontario   \n",
       "0                                         36.26   \n",
       "1                                         46.81   \n",
       "2                                         51.77   \n",
       "3                                         46.53   \n",
       "4                                         44.59   \n",
       "\n",
       "group_kids                                    \\\n",
       "metro_name San Francisco - Oakland - Hayward   \n",
       "0                                      38.58   \n",
       "1                                      41.08   \n",
       "2                                      37.84   \n",
       "3                                      33.61   \n",
       "4                                      42.28   \n",
       "\n",
       "group_kids Households with children not in school  \\\n",
       "metro_name     Los Angeles - Long Beach - Anaheim   \n",
       "0                                           42.75   \n",
       "1                                           68.73   \n",
       "2                                           72.95   \n",
       "3                                           70.05   \n",
       "4                                           68.32   \n",
       "\n",
       "group_kids                                       \\\n",
       "metro_name Riverside - San Bernardino - Ontario   \n",
       "0                                         42.73   \n",
       "1                                         81.08   \n",
       "2                                         78.95   \n",
       "3                                         68.55   \n",
       "4                                         83.36   \n",
       "\n",
       "group_kids                                    \\\n",
       "metro_name San Francisco - Oakland - Hayward   \n",
       "0                                      44.95   \n",
       "1                                      46.22   \n",
       "2                                      46.50   \n",
       "3                                      69.62   \n",
       "4                                      45.04   \n",
       "\n",
       "group_kids Households with children in school  \\\n",
       "metro_name Los Angeles - Long Beach - Anaheim   \n",
       "0                                       58.48   \n",
       "1                                       54.92   \n",
       "2                                       59.27   \n",
       "3                                       70.25   \n",
       "4                                       60.58   \n",
       "\n",
       "group_kids                                       \\\n",
       "metro_name Riverside - San Bernardino - Ontario   \n",
       "0                                         59.81   \n",
       "1                                         68.96   \n",
       "2                                         58.83   \n",
       "3                                         69.01   \n",
       "4                                         63.88   \n",
       "\n",
       "group_kids                                    \n",
       "metro_name San Francisco - Oakland - Hayward  \n",
       "0                                      54.59  \n",
       "1                                      56.34  \n",
       "2                                      49.89  \n",
       "3                                      47.98  \n",
       "4                                      44.42  "
      ]
     },
     "metadata": {},
     "output_type": "display_data"
    }
   ],
   "source": [
    "# Pivoting df\n",
    "metro_pivot = pivot_data(cal_grouped_metro, 'WEEK', ['group_kids', 'metro_name'])\n",
    "\n",
    "print('\\n', color.BOLD + 'Recent job loss by week (pivoted) - Metro Areas' + color.END, '\\n')\n",
    "display(metro_pivot.head(5))"
   ]
  },
  {
   "cell_type": "markdown",
   "id": "collect-ribbon",
   "metadata": {},
   "source": [
    "#### How many households with children have experienced job losses since the beginning of the pandemic in California?"
   ]
  },
  {
   "cell_type": "markdown",
   "id": "union-peripheral",
   "metadata": {},
   "source": [
    "Although Census Pulse data can produce accurate percentages and ratios, the Census advises against using the data to calculate raw totals. As a solution, I compare the percentages I calculated to Census statistics from the American Community Survey (ACS). "
   ]
  },
  {
   "cell_type": "markdown",
   "id": "violent-serbia",
   "metadata": {},
   "source": [
    "There are about 4,360,100 households in California with one or more people under 18, according to 2019 ACS <a href='https://data.census.gov/cedsci/table?q=households%20&g=0400000US06&tid=ACSDP1Y2019.DP02&hidePreview=false'>estimates</a>. "
   ]
  },
  {
   "cell_type": "markdown",
   "id": "juvenile-survey",
   "metadata": {},
   "source": [
    "Because my data is broken down by school enrollment, I calculate the ratio of California households with children enrolled in school to California households without children enrolled in school. "
   ]
  },
  {
   "cell_type": "code",
   "execution_count": 48,
   "id": "random-comparative",
   "metadata": {},
   "outputs": [
    {
     "name": "stdout",
     "output_type": "stream",
     "text": [
      "\n",
      " \u001b[1mCalifornia Households with children in survey sample\u001b[0m \n",
      "\n"
     ]
    },
    {
     "data": {
      "text/html": [
       "<div>\n",
       "<style scoped>\n",
       "    .dataframe tbody tr th:only-of-type {\n",
       "        vertical-align: middle;\n",
       "    }\n",
       "\n",
       "    .dataframe tbody tr th {\n",
       "        vertical-align: top;\n",
       "    }\n",
       "\n",
       "    .dataframe thead th {\n",
       "        text-align: right;\n",
       "    }\n",
       "</style>\n",
       "<table border=\"1\" class=\"dataframe\">\n",
       "  <thead>\n",
       "    <tr style=\"text-align: right;\">\n",
       "      <th></th>\n",
       "      <th>kids</th>\n",
       "      <th>school_kids</th>\n",
       "      <th>HWEIGHT</th>\n",
       "      <th>pct_of_total</th>\n",
       "    </tr>\n",
       "  </thead>\n",
       "  <tbody>\n",
       "    <tr>\n",
       "      <th>0</th>\n",
       "      <td>1</td>\n",
       "      <td>0.00</td>\n",
       "      <td>19779068.94</td>\n",
       "      <td>0.21</td>\n",
       "    </tr>\n",
       "    <tr>\n",
       "      <th>1</th>\n",
       "      <td>1</td>\n",
       "      <td>1.00</td>\n",
       "      <td>73958729.37</td>\n",
       "      <td>0.79</td>\n",
       "    </tr>\n",
       "  </tbody>\n",
       "</table>\n",
       "</div>"
      ],
      "text/plain": [
       "   kids  school_kids     HWEIGHT  pct_of_total\n",
       "0     1         0.00 19779068.94          0.21\n",
       "1     1         1.00 73958729.37          0.79"
      ]
     },
     "metadata": {},
     "output_type": "display_data"
    }
   ],
   "source": [
    "# Creating grouped chart\n",
    "cal_kids_stats = pulse_cal[['kids', 'school_kids', 'HWEIGHT']].groupby(by=['kids', 'school_kids'])['HWEIGHT'].sum().reset_index()\n",
    "\n",
    "# Calculating pct of total\n",
    "cal_kids_stats['pct_of_total'] = cal_kids_stats.HWEIGHT / cal_kids_stats.HWEIGHT.sum()\n",
    "\n",
    "print('\\n', color.BOLD + 'California Households with children in survey sample' + color.END, '\\n')\n",
    "display(cal_kids_stats)"
   ]
  },
  {
   "cell_type": "markdown",
   "id": "cultural-saudi",
   "metadata": {},
   "source": [
    "I use the ACS estimate to calculate my statistics. First, I calculate the approximate number of California households with children in and out of school. Then, I calculate how many of those households experienced recent job losses. "
   ]
  },
  {
   "cell_type": "code",
   "execution_count": 49,
   "id": "retired-mistake",
   "metadata": {},
   "outputs": [
    {
     "name": "stdout",
     "output_type": "stream",
     "text": [
      "\n",
      " \u001b[1mCalifornia households with children\u001b[0m \n",
      "\n",
      " In school: 3440100.6 \n",
      " Not in school: 919999.4\n",
      "\n",
      " \u001b[1mCalifornia households experiencing job losses with children\u001b[0m \n",
      "\n",
      " In school: 2033787.47 \n",
      " Not in school: 475455.69\n"
     ]
    }
   ],
   "source": [
    "cal_kids_inschool = cal_kids_stats.pct_of_total[1]* 4360100\n",
    "cal_kids_notinschool = cal_kids_stats.pct_of_total[0]* 4360100\n",
    "\n",
    "cal_kids_inschool_loss = 0.5912 * cal_kids_inschool\n",
    "cal_kids_notinschool_loss = 0.5168 * cal_kids_notinschool\n",
    "\n",
    "\n",
    "\n",
    "print('\\n', color.BOLD + 'California households with children' + color.END, '\\n'\n",
    "     '\\n In school:', round(cal_kids_inschool, 2),\n",
    "     '\\n Not in school:', round(cal_kids_notinschool, 2))\n",
    "\n",
    "print('\\n', color.BOLD + 'California households experiencing job losses with children' + color.END, '\\n'\n",
    "     '\\n In school:', round(cal_kids_inschool_loss, 2),\n",
    "     '\\n Not in school:', round(cal_kids_notinschool_loss, 2))"
   ]
  },
  {
   "cell_type": "markdown",
   "id": "typical-mineral",
   "metadata": {},
   "source": [
    "<hr>"
   ]
  }
 ],
 "metadata": {
  "kernelspec": {
   "display_name": "Python 3",
   "language": "python",
   "name": "python3"
  },
  "language_info": {
   "codemirror_mode": {
    "name": "ipython",
    "version": 3
   },
   "file_extension": ".py",
   "mimetype": "text/x-python",
   "name": "python",
   "nbconvert_exporter": "python",
   "pygments_lexer": "ipython3",
   "version": "3.8.1"
  }
 },
 "nbformat": 4,
 "nbformat_minor": 5
}
